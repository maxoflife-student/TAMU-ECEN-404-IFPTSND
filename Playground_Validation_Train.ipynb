{
 "cells": [
  {
   "cell_type": "code",
   "execution_count": 1,
   "metadata": {},
   "outputs": [
    {
     "data": {
      "text/html": [
       "<style>.container { width:100% !important; }</style>"
      ],
      "text/plain": [
       "<IPython.core.display.HTML object>"
      ]
     },
     "metadata": {},
     "output_type": "display_data"
    }
   ],
   "source": [
    "# Ignore cuDDa warning messages\n",
    "import warnings\n",
    "warnings.filterwarnings('ignore')\n",
    "\n",
    "# Enable GPU\n",
    "import tensorflow as tf\n",
    "physical_devices = tf.config.list_physical_devices('GPU') \n",
    "tf.config.experimental.set_memory_growth(physical_devices[0], True)\n",
    "\n",
    "# # Expands the Jupyter Notebook Output Size to fit your window\n",
    "from IPython.core.display import display, HTML\n",
    "display(HTML(\"<style>.container { width:100% !important; }</style>\"))\n",
    "\n",
    "# Load in tensorboard\n",
    "%load_ext tensorboard\n",
    "\n",
    "from tensorflow_models import TF_Models, Ein_Multiply, leaky_relu, rank_loss_func\n",
    "from graph_predictions import Graph_Predictions\n",
    "\n",
    "# tf.config.list_physical_devices()\n",
    "\n",
    "# from tensorflow.python.client import device_lib\n",
    "# print(device_lib.list_local_devices())"
   ]
  },
  {
   "cell_type": "code",
   "execution_count": 2,
   "metadata": {},
   "outputs": [
    {
     "name": "stdout",
     "output_type": "stream",
     "text": [
      "[PhysicalDevice(name='/physical_device:GPU:0', device_type='GPU')]\n"
     ]
    }
   ],
   "source": [
    "physical_devices = tf.config.list_physical_devices('GPU')\n",
    "print(physical_devices)"
   ]
  },
  {
   "cell_type": "code",
   "execution_count": 3,
   "metadata": {},
   "outputs": [],
   "source": [
    "# # Update the directory since all files were moved to \"ignorable_data\"\n",
    "# import os\n",
    "# path = os.getcwd()\n",
    "# os.chdir(path + '\\ignorable_data')\n",
    "# print(DMJ.data_splits['x_train'].shape)\n",
    "# print(DMJ.data_splits['x_val'].shape)\n",
    "# print(DMJ.data_splits['x_test'].shape)"
   ]
  },
  {
   "cell_type": "code",
   "execution_count": null,
   "metadata": {
    "scrolled": true
   },
   "outputs": [],
   "source": [
    "# tf.config.run_functions_eagerly(True)\n",
    "\n",
    "\n",
    "# alpha = [1e-5, 1e-4, 1e-3, 1e-2, 1e-1, 1e0, 1e1, 1e2, 1e3, 1e4, 1e5]\n",
    "alpha = [1e0, 1e1, 1e2, 1e3, 1e4]\n",
    "# alpha.sort(reverse=True)\n",
    "\n",
    "model_folder = './ignorable_data/models/[55, 25, 20]_split/'\n",
    "results_folder = './ignorable_data/strategies/'\n",
    "predictions_folder = './ignorable_data/prediction_results/[55, 25, 20]_splits/'\n",
    "data_block_folder = './ignorable_data/datablocks/[55, 25, 20]_splits/'\n",
    "\n",
    "DMJ = TF_Models('./ignorable_data/data_sets/NASDAQ_Cleaned', model_folder, reload=False)\n",
    "data_splits = DMJ.split_data()\n",
    "\n",
    "for a in alpha: \n",
    "    # Reset the training object to get rid of old data\n",
    "    DMJ = TF_Models('./ignorable_data/data_sets/NASDAQ_Cleaned', model_folder, reload=False)\n",
    "\n",
    "    # Create the model using parameters we're tuning\n",
    "    DMJ._generate_model(model_type='lstm', loss_function='rank_loss', activation='leaky_relu', hidden_units=64, true_random=True, alpha=a, beta=1)\n",
    "\n",
    "    # Have it train as much as it can\n",
    "    DMJ.train_model_loop(epoch_batches=12)\n",
    "\n",
    "    # Save the model with a tag\n",
    "    DMJ.save_model(tag=f'E2E_LSTM_ALPHA{a}_SD100998_DropOut0_sliding10')\n",
    "    # DMJ.save_model(tag=f'E2E_LSTM_ValSet_TFMSE_SD100998_expanding_window')\n",
    "\n",
    "    # Reset the training object to get rid of old data\n",
    "    GP = Graph_Predictions(model_folder, results_folder, 'x_val', DMJ)\n",
    "\n",
    "    # Generate the prediction file\n",
    "    GP.generate_validation_prediction_json(DMJ.model_name, predictions_folder, neural_net_type='lstm', sliding_window=10)\n",
    "\n",
    "    # Create the diagnostics file for the most recently saved model\n",
    "    GP.generate_model_diagnostics(predictions_folder + GP.model_name, datablock_folder=data_block_folder)"
   ]
  },
  {
   "cell_type": "code",
   "execution_count": null,
   "metadata": {},
   "outputs": [],
   "source": [
    "model_folder = './ignorable_data/alpha_1000_beta_0.01/models'\n",
    "model_folder = './ignorable_data/models/'\n",
    "model_name = '01-04-2021--15--57--SEP_LSTM_GCN3-5e-6LR--820Epochs--mse-Loss--64-HU--'\n",
    "\n",
    "new_name = '01-04-2021--15--57--SEP_LSTM_GCN3-5e-6LR--820Epochs--mse-Loss--64-HU--400_slidewindow'\n",
    "\n",
    "directory = \"./ignorable_data/alpha_1000_beta_0.01/models/\"\n",
    "predictions_folder = './ignorable_data/alpha_1000_beta_0.01/models/'\n",
    "\n",
    "DMJ = TF_Models('./ignorable_data/data_sets/NASDAQ_Cleaned', model_folder, reload=False)\n",
    "\n",
    "# For training over sliding window\n",
    "# Reset the training object to get rid of old data\n",
    "GP = Graph_Predictions(model_folder, \"./ignorable_data/strategies/RL_validation_strategies\", DMJ)\n",
    "\n",
    "# Generate the prediction file\n",
    "GP.generate_prediction_json(model_name, directory, neural_net_type='gcn', name_override=new_name, sliding_window=800)\n",
    "\n",
    "# Create the diagnostics file for the most recently saved model\n",
    "GP.generate_model_diagnostics(predictions_folder + GP.model_name, datablock_folder='./ignorable_data/alpha_1000_beta_0.01/data_blocks/')"
   ]
  },
  {
   "cell_type": "code",
   "execution_count": null,
   "metadata": {},
   "outputs": [],
   "source": [
    "DMJ.history.history['val_loss']\n",
    "DMJ.history.history['lr']\n",
    "DMJ.epochs_n"
   ]
  },
  {
   "cell_type": "code",
   "execution_count": null,
   "metadata": {},
   "outputs": [],
   "source": []
  },
  {
   "cell_type": "code",
   "execution_count": null,
   "metadata": {
    "scrolled": true
   },
   "outputs": [],
   "source": [
    "# Train the  model\n",
    "model = DMJ.train_model(epochs=500)\n",
    "# model = DMJ.train_model(model, data_splits['x_train'], data_splits['y_train'], data_splits['x_val'], data_splits['y_val'], epochs=50, learning_rate=5e-5, gcn_matrix=DMJ.Normalized_Adjacency_Matrix)"
   ]
  },
  {
   "cell_type": "code",
   "execution_count": null,
   "metadata": {},
   "outputs": [],
   "source": [
    "DMJ.save_model(tag='E2E_LSTM_VariedLR_RL_ALPHA_1_NOMSE')"
   ]
  },
  {
   "cell_type": "code",
   "execution_count": null,
   "metadata": {},
   "outputs": [],
   "source": [
    "xGP = Graph_Predictions(\"./models\", \"./strategies\", DMJ)"
   ]
  },
  {
   "cell_type": "code",
   "execution_count": null,
   "metadata": {
    "scrolled": true
   },
   "outputs": [],
   "source": [
    "# GP.strategy_ratio_lstm('11-22-2020--17--32--LSTM--50Epochs--mse-Loss--64-HU--None', avoid_fall=False, name_override='test_')\n",
    "# GP.strategy_ratio_lstm('11-22-2020--17--32--LSTM--50Epochs--mse-Loss--64-HU--None', avoid_fall=False, average=10, name_override='LSTM-MSE-50Epoch-Average10')\n",
    "# GP.strategy_ratio_lstm('11-22-2020--17--32--LSTM--50Epochs--mse-Loss--64-HU--None', avoid_fall=True, name_override='LSTM-MSE-50Epoch-AvoidFall')\n",
    "\n",
    "# GP.strategy_ratio_lstm('11-22-2020--14--55--LSTM-Rankloss--50Epochs--rlf-Loss--64-HU--', avoid_fall=False, name_override='LSTM-RankLoss-50Epoch')\n",
    "# GP.strategy_ratio_lstm('11-22-2020--14--55--LSTM-Rankloss--50Epochs--rlf-Loss--64-HU--', avoid_fall=False, average=10, name_override='LSTM-RankLoss-50Epoch-Average10')\n",
    "# GP.strategy_ratio_lstm('11-22-2020--14--55--LSTM-Rankloss--50Epochs--rlf-Loss--64-HU--', avoid_fall=True, name_override='LSTM-RankLoss-50Epoch-AvoidFall')\n",
    "\n",
    "# GP.strategy_ratio_gcn(r'11-22-2020--16--31--GCN1-MSE--50Epochs--mse-Loss--64-HU--', avoid_fall=False, average=10, name_override='GCN1-MSE-50Epoch-Average10')\n",
    "# GP.strategy_ratio_gcn(r'11-22-2020--16--31--GCN1-MSE--50Epochs--mse-Loss--64-HU--', avoid_fall=True, name_override='GCN1-MSE-50Epoch-AvoidFall')\n",
    "\n",
    "# GP.strategy_ratio_gcn(r'11-22-2020--16--34--GCN1-Rankloss--50Epochs--rlf-Loss--64-HU--', avoid_fall=False, average=10, name_override='GCN1-RankLoss-50Epoch-Average10')\n",
    "# GP.strategy_ratio_gcn(r'11-22-2020--16--34--GCN1-Rankloss--50Epochs--rlf-Loss--64-HU--', avoid_fall=True, name_override='GCN1-RankLoss-50Epoch-AvoidFall')\n",
    "\n",
    "# GP.strategy_ratio_gcn(r'11-22-2020--16--37--GCN2-MSE--50Epochs--mse-Loss--64-HU--', avoid_fall=False, average=10, name_override='GCN2-MSE-50Epoch-Average10')\n",
    "# GP.strategy_ratio_gcn(r'11-22-2020--16--37--GCN2-MSE--50Epochs--mse-Loss--64-HU--', avoid_fall=True, name_override='GCN2-MSE-50Epoch-AvoidFall')\n",
    "\n",
    "# GP.strategy_ratio_gcn(r'11-22-2020--16--39--GCN2-RankLoss--50Epochs--rlf-Loss--64-HU--', avoid_fall=False, average=10, name_override='GCN2-RankLoss-50Epoch-Average10')\n",
    "# GP.strategy_ratio_gcn(r'11-22-2020--16--39--GCN2-RankLoss--50Epochs--rlf-Loss--64-HU--', avoid_fall=True, name_override='GCN2-RankLoss-50Epoch-AvoidFall')\n",
    "\n",
    "# GP.strategy_ratio_gcn('11-22-2020--16--46--GCN3-MSE--50Epochs--mse-Loss--64-HU--', avoid_fall=False, average=10, name_override='GCN3-MSE-50Epoch-Average10')\n",
    "# GP.strategy_ratio_gcn(r'11-22-2020--16--46--GCN3-MSE--50Epochs--mse-Loss--64-HU--', avoid_fall=True, name_override='GCN3-MSE-50Epoch-AvoidFall-2ndBest')\n",
    "\n",
    "# GP.strategy_ratio_gcn('11-22-2020--16--43--GCN3-RankLoss--50Epochs--rlf-Loss--64-HU--', avoid_fall=False, average=10, name_override='GCN3-RankLoss-50Epoch-Average10')\n",
    "# GP.strategy_ratio_gcn(r'11-22-2020--16--43--GCN3-RankLoss--50Epochs--rlf-Loss--64-HU--', avoid_fall=True, name_override='GCN3-RankLoss-50Epoch-AvoidFall')\n",
    "\n",
    "# GP.strategy_ratio_gcn('11-22-2020--20--46--GCN3-MSE-Ratio+1--50Epochs--mse-Loss--64-HU--', avoid_fall=True, average=1, name_override='GCN3-MSE-200Epoch-Ratio+1')\n",
    "# GP.strategy_ratio_gcn('11-22-2020--20--43--GCN3-RankLoss-Ratio+1--50Epochs--rlf-Loss--64-HU--', avoid_fall=True, average=1, name_override='GCN3-RankLoss-200Epoch-Ratio+1')\n",
    "\n",
    "'''New prediction memory storage'''\n",
    "# GP.generate_prediction_json('11-22-2020--15--01--LSTM-MSE--50Epochs--mse-Loss--64-HU--', neural_net_type='lstm')\n",
    "# GP.generate_prediction_json('11-22-2020--16--46--GCN3-MSE--50Epochs--mse-Loss--64-HU--', neural_net_type='gcn')\n",
    "\n",
    "'''Seperately trained LSTM combo'''\n",
    "# GP.generate_prediction_json('01-04-2021--14--20--SEP_LSTM_GCN3-1e-5LR--70Epochs--mse-Loss--64-HU--', neural_net_type='gcn')\n",
    "\n",
    "''''''\n",
    "GP.generate_prediction_json('02-04-2021--15--11--E2E_LSTM_VariedLR_RL_ALPHA_1_NOMSE--500Epochs--rlf-Loss--64-HU--', neural_net_type='lstm')"
   ]
  },
  {
   "cell_type": "code",
   "execution_count": null,
   "metadata": {
    "scrolled": true
   },
   "outputs": [],
   "source": [
    "strat_name = '02-04-2021--15--11--E2E_LSTM_VariedLR_RL_ALPHA_1_NOMSE--500Epochs--rlf-Loss--64-HU--_PM'\n",
    "\n",
    "# Testing the PM file feature\n",
    "avg = [1, 5, 20, 50, 100, 200]\n",
    "avg = [1]\n",
    "for a in avg:\n",
    "#     GP.prediction_json_strategy_max_entities(strat_name, average=a, avoid_fall=False, name_override=strat_name+ f'{a}AVG')\n",
    "    GP.prediction_json_strategy_determine_best(strat_name, average=a, avoid_fall=False, name_override=strat_name+ f'{a}AVG_Correct_BuyDay_plus1')\n",
    "    GP.save_results()\n",
    "# Testing the mse tracking feature\n",
    "# GP.prediction_json_mse('01-04-2021--15--57--SEP_LSTM_GCN3-5e-6LR--820Epochs--mse-Loss--64-HU--_PM')\n",
    "GP.save_results()"
   ]
  },
  {
   "cell_type": "code",
   "execution_count": null,
   "metadata": {},
   "outputs": [],
   "source": [
    "GP.generate_model_diagnostics('02-04-2021--15--11--E2E_LSTM_VariedLR_RL_ALPHA_1_NOMSE--500Epochs--rlf-Loss--64-HU--_PM', datablock_folder='RL_validation_set')\n",
    "\n",
    "'01-04-2021--15--57--SEP_LSTM_GCN3-5e-6LR--820Epochs--mse-Loss--64-HU--_PM'\n",
    "255025890000.0\n",
    "0.012249682697757544\n",
    "0.7766990291262136\n"
   ]
  },
  {
   "cell_type": "code",
   "execution_count": null,
   "metadata": {
    "scrolled": true
   },
   "outputs": [],
   "source": [
    "# GP.generate_upper_lower_avg_bounds()\n",
    "\n",
    "GP.display_graph()"
   ]
  },
  {
   "cell_type": "code",
   "execution_count": null,
   "metadata": {},
   "outputs": [],
   "source": [
    "# GP.strategy_ratio_gcn('11-22-2020--16--46--GCN3-MSE--50Epochs--mse-Loss--64-HU--', avoid_fall=False, average=10, name_override='GCN3-MSE-50Epoch-Average10')\n",
    "# GP.strategy_ratio_gcn(r'11-22-2020--16--46--GCN3-MSE--50Epochs--mse-Loss--64-HU--', avoid_fall=True, name_override='GCN3-MSE-50Epoch-AvoidFall')\n",
    "\n",
    "# GP.strategy_ratio_gcn('11-22-2020--16--43--GCN3-RankLoss--50Epochs--rlf-Loss--64-HU--', avoid_fall=False, average=10, name_override='GCN3-RankLoss-50Epoch-Average10')\n",
    "# GP.strategy_ratio_gcn(r'11-22-2020--16--43--GCN3-RankLoss--50Epochs--rlf-Loss--64-HU--', avoid_fall=True, name_override='GCN3-RankLoss-50Epoch-AvoidFall')"
   ]
  },
  {
   "cell_type": "code",
   "execution_count": null,
   "metadata": {},
   "outputs": [],
   "source": [
    "# GP.save_results('./strategies')"
   ]
  },
  {
   "cell_type": "code",
   "execution_count": null,
   "metadata": {},
   "outputs": [],
   "source": []
  },
  {
   "cell_type": "code",
   "execution_count": null,
   "metadata": {},
   "outputs": [],
   "source": []
  },
  {
   "cell_type": "code",
   "execution_count": null,
   "metadata": {},
   "outputs": [],
   "source": [
    "import ipywidgets as widgets\n",
    "from ipywidgets import GridBox"
   ]
  },
  {
   "cell_type": "code",
   "execution_count": null,
   "metadata": {},
   "outputs": [],
   "source": [
    "import time\n",
    "bar = widgets.IntProgress(min=0, max=10, description='Loading:', bar_style='info')\n",
    "display(bar)\n",
    "\n",
    "for i in range(11):\n",
    "    time.sleep(0.2)\n",
    "    bar.value = i"
   ]
  },
  {
   "cell_type": "code",
   "execution_count": null,
   "metadata": {},
   "outputs": [],
   "source": [
    "\n",
    "widgets.Text(\n",
    "    value='Loading',\n",
    "    description='',\n",
    "    disabled=True\n",
    "    layout=L\n",
    ")\n",
    "\n"
   ]
  },
  {
   "cell_type": "code",
   "execution_count": null,
   "metadata": {},
   "outputs": [],
   "source": [
    "# Start the loading bar by initializing it\n",
    "nam_bar = widgets.IntProgress(min=0, max=5, value=0, description='Loading Normalized Adjacency Matrix:',\n",
    "                              layout=widgets.Layout(width='auto'))\n",
    "text = widgets.Text(value='Loading', description='', disabled=True, layout=widgets.Layout(width='auto'))\n",
    "\n",
    "test = widgets.GridBox(children=[text, nam_bar], layout=widgets.Layout(width='auto'))\n",
    "\n",
    "display(test)"
   ]
  },
  {
   "cell_type": "code",
   "execution_count": null,
   "metadata": {},
   "outputs": [],
   "source": []
  },
  {
   "cell_type": "code",
   "execution_count": null,
   "metadata": {},
   "outputs": [],
   "source": []
  },
  {
   "cell_type": "code",
   "execution_count": null,
   "metadata": {},
   "outputs": [],
   "source": [
    "x_test = [1, 2, 3, 4, 5]"
   ]
  },
  {
   "cell_type": "code",
   "execution_count": null,
   "metadata": {},
   "outputs": [],
   "source": [
    "x_test[0:1]"
   ]
  },
  {
   "cell_type": "code",
   "execution_count": null,
   "metadata": {},
   "outputs": [],
   "source": [
    "for i in range(0, 10):\n",
    "    print(i)"
   ]
  },
  {
   "cell_type": "code",
   "execution_count": null,
   "metadata": {},
   "outputs": [],
   "source": []
  },
  {
   "cell_type": "code",
   "execution_count": null,
   "metadata": {},
   "outputs": [],
   "source": [
    "%tensorboard --logdir logs/fit\n"
   ]
  },
  {
   "cell_type": "code",
   "execution_count": null,
   "metadata": {},
   "outputs": [],
   "source": [
    "import numpy as np\n",
    "np.amax(GP.rr_test[:, 0])"
   ]
  },
  {
   "cell_type": "code",
   "execution_count": null,
   "metadata": {},
   "outputs": [],
   "source": [
    "np.argmax(GP.rr_test[:, 0])"
   ]
  },
  {
   "cell_type": "code",
   "execution_count": null,
   "metadata": {},
   "outputs": [],
   "source": [
    "GP.rr_test[476,0]"
   ]
  },
  {
   "cell_type": "code",
   "execution_count": null,
   "metadata": {},
   "outputs": [],
   "source": [
    "from sklearn.metrics import mean_squared_error"
   ]
  },
  {
   "cell_type": "code",
   "execution_count": null,
   "metadata": {},
   "outputs": [],
   "source": [
    "mean_squared_error(GP.rr_test[5, :], GP.rr_test[100, :])"
   ]
  },
  {
   "cell_type": "code",
   "execution_count": null,
   "metadata": {},
   "outputs": [],
   "source": [
    "import random\n",
    "import numpy as np\n",
    "import matplotlib.pyplot as plt\n",
    "\n",
    "def swap_random(seq):\n",
    "    idx = range(len(seq))\n",
    "    i1, i2 = random.sample(idx, 2)\n",
    "    seq[i1], seq[i2] = seq[i2], seq[i1]\n",
    "\n",
    "trials_RL = []\n",
    "for e in range(100,300):\n",
    "    RL = []\n",
    "    for t in range(300):\n",
    "        A = []; B = [];\n",
    "        for l in range(e):\n",
    "            n = random.uniform(-1, 1)\n",
    "            A.append(n)\n",
    "            B.append(n)\n",
    "        swap_random(B)\n",
    "        swap_random(B)\n",
    "        swap_random(B)\n",
    "        swap_random(B)\n",
    "        \n",
    "        return_ratio = tf.constant(A, shape=(len(A), 1))\n",
    "        ground_truth = tf.constant(B, shape=(len(B), 1))\n",
    "\n",
    "        ###############################################################\n",
    "        # Create an array of all_ones so that we can calculate all permutations of subtractions\n",
    "        all_ones = tf.ones([len(return_ratio), 1], dtype=tf.float32)\n",
    "\n",
    "        # Creates a N x N matrix with every predicted return ratio for each company subtracted with every other\n",
    "        # company\n",
    "        pred_dif = tf.math.subtract(\n",
    "            tf.matmul(return_ratio, all_ones, transpose_b=True),\n",
    "            tf.matmul(all_ones, return_ratio, transpose_b=True)\n",
    "        )\n",
    "\n",
    "        # Creates an N x N matrix containing every actual return ratio for each company subtracted with every other\n",
    "        # company By switching the order of the all_ones matricies and the actual prices, a negative sign is introduced\n",
    "        # When RELU is applied later, correct predictions will not affect loss while incorrect predictions will affect\n",
    "        # loss depending on how incorrect the prediction was\n",
    "        actual_dif = tf.math.subtract(\n",
    "            tf.matmul(all_ones, ground_truth, transpose_b=True),\n",
    "            tf.matmul(ground_truth, all_ones, transpose_b=True)\n",
    "        )\n",
    "\n",
    "        # Using the above two qualities, the algorithm can be punished for incorrectly calculating when a company is\n",
    "        # doing better than another company Reduces the mean across each dimension until only 1 value remains\n",
    "        rank_loss = tf.reduce_mean(\n",
    "            # Takes if a given value is >0, it is kept, otherwise, it becomes 0\n",
    "            tf.nn.relu(\n",
    "                # Multiplies all of the\n",
    "                tf.multiply(pred_dif, actual_dif)\n",
    "            )\n",
    "        )\n",
    "        RL.append(rank_loss)\n",
    "    trials_RL.append(np.mean(RL))\n",
    "\n",
    "plt.plot(trials_RL)"
   ]
  },
  {
   "cell_type": "code",
   "execution_count": null,
   "metadata": {},
   "outputs": [],
   "source": [
    "r = [0.1, 0.5, 0.2, 0.3]\n",
    "print(list(zip(range(4), r)))"
   ]
  },
  {
   "cell_type": "code",
   "execution_count": null,
   "metadata": {},
   "outputs": [],
   "source": [
    "predictions = [100, 300, 200, 400]\n",
    "predictions = list(zip(range(len(predictions)), predictions))\n",
    "predictions"
   ]
  },
  {
   "cell_type": "code",
   "execution_count": null,
   "metadata": {},
   "outputs": [],
   "source": [
    "predictions.sort(key=lambda x: x[1], reverse=True)\n",
    "predictions"
   ]
  },
  {
   "cell_type": "code",
   "execution_count": null,
   "metadata": {},
   "outputs": [],
   "source": []
  },
  {
   "cell_type": "code",
   "execution_count": null,
   "metadata": {},
   "outputs": [],
   "source": [
    "import numpy as np\n",
    "\n",
    "# Normal Rank\n",
    "A = list(range(1, 10001))\n",
    "B = [i**(-1) for i in A]\n",
    "print(np.mean(A))\n",
    "print(np.mean(B)**-1)\n",
    "\n",
    "\n",
    "'000_Avg_RR.p'\n",
    "'000_Highest_RR_Possible.p'\n",
    "'000_Lowest_RR_Possible.p'"
   ]
  },
  {
   "cell_type": "code",
   "execution_count": null,
   "metadata": {},
   "outputs": [],
   "source": [
    "import similaritymeasures as sm\n",
    "import numpy as np\n",
    "\n",
    "# Generate random experimental data\n",
    "n = 5\n",
    "x = list(range(n))\n",
    "y = [11, 26, 26, 11, -60]\n",
    "exp_data = np.zeros((n, 2))\n",
    "exp_data[:, 0] = x\n",
    "exp_data[:, 1] = y\n",
    "\n",
    "# Generate random numerical data\n",
    "x = list(range(n))\n",
    "y = [1, 2, 30, 4, -9000]\n",
    "num_data = np.zeros((n, 2))\n",
    "num_data[:, 0] = x\n",
    "num_data[:, 1] = y\n",
    "\n",
    "area = sm.area_between_two_curves(exp_data, num_data)\n",
    "print(area)"
   ]
  },
  {
   "cell_type": "code",
   "execution_count": null,
   "metadata": {},
   "outputs": [],
   "source": []
  },
  {
   "cell_type": "code",
   "execution_count": null,
   "metadata": {},
   "outputs": [],
   "source": [
    "pm_name = 'uhhhh.json'\n",
    "# If the .json file was already attached, this will fix the problem\n",
    "pm_name = pm_name.split('.json')\n",
    "pm_name = pm_name[0]"
   ]
  },
  {
   "cell_type": "code",
   "execution_count": null,
   "metadata": {},
   "outputs": [],
   "source": [
    "print(pm_name)"
   ]
  },
  {
   "cell_type": "code",
   "execution_count": 4,
   "metadata": {},
   "outputs": [
    {
     "name": "stdout",
     "output_type": "stream",
     "text": [
      "we're out baby\n"
     ]
    }
   ],
   "source": [
    "model_folder = './ignorable_data/alpha_1000_beta_0.01/models'\n",
    "model_folder = './ignorable_data/models/'\n",
    "model_name = '01-04-2021--15--57--SEP_LSTM_GCN3-5e-6LR--820Epochs--mse-Loss--64-HU--'\n",
    "\n",
    "new_name = '01-04-2021--15--57--SEP_LSTM_GCN3-5e-6LR--820Epochs--mse-Loss--64-HU--400_slidewindow'\n",
    "\n",
    "directory = \"./ignorable_data/alpha_1000_beta_0.01/models/\"\n",
    "predictions_folder = './ignorable_data/alpha_1000_beta_0.01/models/'\n",
    "\n",
    "DMJ = TF_Models('./ignorable_data/data_sets/NASDAQ_Cleaned', model_folder, reload=False)\n",
    "\n",
    "# For training over sliding window\n",
    "# Reset the training object to get rid of old data\n",
    "GP = Graph_Predictions(model_folder, \"./ignorable_data/strategies/RL_validation_strategies\", 'x_val', DMJ)\n",
    "\n",
    "directory = './ignorable_data/prediction_results/[55, 25, 20]_splits/'\n",
    "model = '02-13-2021--23--27-E2E_1LSTM_ReturnSeqTrue_Outputsize[None,683,1]_VariedLR_TFMSE_Dropout0.5_-108Epochs-mse-Loss-64-HU-_683window_PM'\n",
    "GP.generate_model_diagnostics(directory + model, datablock_folder='./ignorable_data/datablocks/[55, 25, 20]_splits/')"
   ]
  },
  {
   "cell_type": "code",
   "execution_count": 24,
   "metadata": {},
   "outputs": [
    {
     "data": {
      "text/plain": [
       "array([0.04342359, 0.04119842, 0.05864105, 0.07902957, 0.09087781,\n",
       "       0.04185348, 0.07068139, 0.04110918, 0.02539998, 0.04790636,\n",
       "       0.05832908, 0.04458663, 0.07172409, 0.07192592, 0.06663913,\n",
       "       0.08135604, 0.09721243, 0.06090426, 0.03716227, 0.06083799,\n",
       "       0.06348862, 0.10426967, 0.04374418, 0.08586936, 0.03508477,\n",
       "       0.092379  , 0.03232364, 0.0475781 , 0.0526994 , 0.05984573,\n",
       "       0.1035826 , 0.06954417, 0.07910027, 0.08434433, 0.05907116,\n",
       "       0.06662738, 0.04066036, 0.07948153, 0.02880796, 0.04781285,\n",
       "       0.04084376, 0.03089666, 0.08824629, 0.06137196, 0.03706343,\n",
       "       0.02707023, 0.07315287, 0.03468054, 0.06104265, 0.06318755,\n",
       "       0.05597892, 0.07523824, 0.0480017 , 0.03879616, 0.03820492,\n",
       "       0.06710581, 0.06023788, 0.05709454, 0.0706509 , 0.03493707,\n",
       "       0.05987395, 0.04527026, 0.0521309 , 0.09227718, 0.07886332,\n",
       "       0.0550091 , 0.03698212, 0.10815957, 0.05425001, 0.07224297,\n",
       "       0.09623867, 0.07208976, 0.06652603, 0.08467798, 0.05069097,\n",
       "       0.06682011, 0.06123568, 0.05180647, 0.07615615, 0.0580197 ,\n",
       "       0.04155822, 0.04596008, 0.0340579 , 0.0551689 , 0.08326636,\n",
       "       0.10181611, 0.05513707, 0.03920955, 0.05154411, 0.06450235,\n",
       "       0.084028  , 0.05327   , 0.05651719, 0.06718253, 0.06706752,\n",
       "       0.07125058, 0.05987713, 0.06729554, 0.03202814, 0.05283165,\n",
       "       0.04726943, 0.07739998, 0.10807762, 0.03915159, 0.0737635 ,\n",
       "       0.06502343, 0.06396101, 0.06677634, 0.03670601, 0.07520634,\n",
       "       0.07309594, 0.06630663, 0.0613714 , 0.04731125, 0.06606255,\n",
       "       0.05795632, 0.040655  , 0.0460288 , 0.0782793 , 0.05563981,\n",
       "       0.03797005, 0.05899639, 0.09736128, 0.0516229 , 0.07657827,\n",
       "       0.06474118, 0.04753411, 0.06445315, 0.08560744, 0.04950433,\n",
       "       0.0411446 , 0.0454303 , 0.05414758, 0.07128   , 0.05450242,\n",
       "       0.05837912, 0.05218334, 0.04070287, 0.05264223, 0.06857093,\n",
       "       0.05929813, 0.05035701, 0.07186057, 0.05801234, 0.04589137,\n",
       "       0.04377341, 0.04087344, 0.04278933, 0.06722561, 0.04761261,\n",
       "       0.08266128, 0.03073795, 0.06291272, 0.0446496 , 0.06719764,\n",
       "       0.05637458, 0.0552496 , 0.08466111, 0.06787815, 0.06410572,\n",
       "       0.05061839, 0.03179331, 0.05566395, 0.05996246, 0.04952718,\n",
       "       0.0433475 , 0.07851525, 0.05271826, 0.06139823, 0.05687839,\n",
       "       0.06870919, 0.0538855 , 0.05049482, 0.03335902, 0.05683009,\n",
       "       0.04413733, 0.05401585, 0.05303594, 0.05286827, 0.04148256,\n",
       "       0.06760818, 0.05325511, 0.04554785, 0.03450612, 0.08544722,\n",
       "       0.05652355, 0.05254352, 0.06008377, 0.05250408, 0.08437178,\n",
       "       0.09441741, 0.0559381 , 0.05233673, 0.04662207, 0.06769476,\n",
       "       0.04514496, 0.05241681, 0.04729259, 0.06295612, 0.03960595,\n",
       "       0.06523564, 0.04266014, 0.07223772, 0.06255642, 0.06376603,\n",
       "       0.06213377, 0.05272138, 0.03696768, 0.05758214, 0.0473996 ,\n",
       "       0.04823103, 0.09146634, 0.07094164, 0.06026875, 0.07662233,\n",
       "       0.07690969, 0.08542787, 0.08372351, 0.07690175, 0.06891987,\n",
       "       0.0903409 , 0.08166267, 0.05739175, 0.04691962, 0.06432644,\n",
       "       0.08444695, 0.08147623, 0.06103003, 0.05237353, 0.07309021,\n",
       "       0.06102259, 0.06881198, 0.05619134, 0.04577085, 0.04499087,\n",
       "       0.05721742, 0.05813432, 0.02995981, 0.09165714, 0.05835529,\n",
       "       0.06787336, 0.05725495, 0.07301854, 0.04017358, 0.05282251,\n",
       "       0.04536986, 0.04313764, 0.07768323, 0.05893339, 0.06521104,\n",
       "       0.10304202, 0.06649666, 0.04455414, 0.08618658, 0.06815502,\n",
       "       0.06287373, 0.04253874, 0.0819626 , 0.07214267, 0.0781945 ,\n",
       "       0.03500247, 0.08797891, 0.05109525, 0.10743918, 0.04923591,\n",
       "       0.05850052, 0.07579985, 0.05419478, 0.03533133, 0.03399308,\n",
       "       0.05397781, 0.06953524, 0.09844323, 0.03250607, 0.04912361,\n",
       "       0.06357466, 0.06554434, 0.05382765, 0.04952108, 0.0872823 ,\n",
       "       0.07968668, 0.06517395, 0.0642408 , 0.05691893, 0.07933768,\n",
       "       0.04491425, 0.05245551, 0.05044351, 0.0745547 , 0.06795385,\n",
       "       0.04637505, 0.06373843, 0.06402139, 0.02965178, 0.04857942,\n",
       "       0.05572698, 0.06251805, 0.05045101, 0.06460407, 0.0550119 ,\n",
       "       0.06518059, 0.0594165 , 0.07124422, 0.08308584, 0.0839707 ,\n",
       "       0.07978525, 0.09674343, 0.04019569, 0.04938792, 0.07340814,\n",
       "       0.05846189, 0.09023714, 0.05672173, 0.06652372, 0.06541573,\n",
       "       0.07333656, 0.05393011, 0.07745045, 0.05263012, 0.09150986,\n",
       "       0.04857031, 0.034837  , 0.09219886, 0.02846405, 0.08726622,\n",
       "       0.10368395, 0.04040862, 0.0465592 , 0.06641467, 0.08003329,\n",
       "       0.03828981, 0.09246704, 0.09131044, 0.04969145, 0.04923217,\n",
       "       0.06600818, 0.03495342, 0.06742097, 0.07989323, 0.06054049,\n",
       "       0.06590021, 0.02910454, 0.0537551 , 0.05519235, 0.08387312,\n",
       "       0.04278013, 0.04734213, 0.10219839, 0.05878222, 0.07573049,\n",
       "       0.06031279, 0.08442756, 0.07588392, 0.05746792, 0.07238144,\n",
       "       0.05369052, 0.04725775, 0.05989651, 0.09213343, 0.09073903,\n",
       "       0.09528119, 0.04467919, 0.05897808, 0.05887084, 0.04462973,\n",
       "       0.06705081, 0.03664562, 0.10733978, 0.05889248, 0.06657553,\n",
       "       0.02608013, 0.08485927, 0.07489131, 0.06448109, 0.05763987,\n",
       "       0.0295979 , 0.06253114, 0.06573327, 0.0791983 , 0.06557412,\n",
       "       0.05803639, 0.08587514, 0.05005233, 0.05091278, 0.05083615,\n",
       "       0.06978283, 0.03977828, 0.05916483, 0.05475349, 0.07059228,\n",
       "       0.04444841, 0.05716166, 0.03861244, 0.04363954, 0.10252845,\n",
       "       0.11097402, 0.04561124, 0.05097281, 0.07637586, 0.03965807,\n",
       "       0.04683228, 0.0586524 , 0.0564202 , 0.02920937, 0.05401814,\n",
       "       0.08268765, 0.04117023, 0.03850398, 0.05950303, 0.05550509,\n",
       "       0.05413125, 0.10211564, 0.03112349, 0.06202965, 0.05809185,\n",
       "       0.0682525 , 0.04321944, 0.09127984, 0.05566048, 0.03560229,\n",
       "       0.06602386, 0.07243984, 0.08132946, 0.05672468, 0.0709038 ,\n",
       "       0.05138237, 0.09509754, 0.05368903, 0.04207941, 0.04423772,\n",
       "       0.06801431, 0.03818246, 0.04157532, 0.05740197, 0.05002777,\n",
       "       0.06710465, 0.07879372, 0.05271107, 0.0436306 , 0.07249194,\n",
       "       0.0720495 , 0.06572481, 0.06435182, 0.05261374, 0.05947573,\n",
       "       0.0576792 , 0.09767547, 0.09936795, 0.0434956 , 0.06234783,\n",
       "       0.05141542, 0.05957247, 0.06540678, 0.06472573, 0.04511629,\n",
       "       0.03165224, 0.04556823, 0.05366385, 0.04934245, 0.06840512,\n",
       "       0.03281833, 0.08495003, 0.08506504, 0.07445284, 0.07860295,\n",
       "       0.03582156, 0.0351972 , 0.04128076, 0.08348012, 0.0659949 ,\n",
       "       0.05887385, 0.03433416, 0.06475372, 0.06275453, 0.10422914,\n",
       "       0.05443284, 0.08659975, 0.06897785, 0.060627  , 0.03678201,\n",
       "       0.06607807, 0.04547891, 0.03671502, 0.09025507, 0.05732933,\n",
       "       0.05745862, 0.05018838, 0.03992781, 0.09198954, 0.10273374,\n",
       "       0.06981559, 0.04117572, 0.04337419, 0.05933441, 0.0609928 ,\n",
       "       0.06490213, 0.06544016, 0.07385204, 0.06416038, 0.02832464,\n",
       "       0.05894671, 0.04055838, 0.0341869 , 0.04646751, 0.05329952,\n",
       "       0.07372516, 0.10180482, 0.07917341, 0.04632574, 0.04852391,\n",
       "       0.06075764, 0.06294867, 0.06907778, 0.08065589, 0.03363892,\n",
       "       0.03494236, 0.10537818, 0.03403822, 0.08180216, 0.05172   ,\n",
       "       0.04785352, 0.05259703, 0.05736463, 0.04761013, 0.0478472 ,\n",
       "       0.05726771, 0.1054773 , 0.0470303 , 0.08051872, 0.03881208,\n",
       "       0.03101527, 0.06857264, 0.07312661, 0.06490602, 0.06172358,\n",
       "       0.04948409, 0.07092439, 0.08759717, 0.05810827, 0.02860338,\n",
       "       0.06335434, 0.08728057, 0.04816885, 0.06353936, 0.05185448,\n",
       "       0.06278548, 0.02511063, 0.0536704 , 0.08201662, 0.03820554,\n",
       "       0.04448677, 0.0332174 , 0.07381435, 0.05324968, 0.07196057,\n",
       "       0.06948338, 0.02958507, 0.07851941, 0.03075527, 0.10493675,\n",
       "       0.03632592, 0.02442273, 0.07467629, 0.04195195, 0.07825918,\n",
       "       0.07171915, 0.03937026, 0.03264726, 0.05184872, 0.04042926,\n",
       "       0.06023627, 0.04297446, 0.08492128, 0.03421075, 0.10474037,\n",
       "       0.03154856, 0.04433129, 0.04834192, 0.07887784, 0.05925738,\n",
       "       0.03267235, 0.09453466, 0.0470934 , 0.08087781, 0.03964987,\n",
       "       0.05588354, 0.06667286, 0.0960252 , 0.04621592, 0.09995091,\n",
       "       0.05989905, 0.06112912, 0.07565811, 0.07500366, 0.08701196,\n",
       "       0.04705366, 0.03761476, 0.06145059, 0.05052167, 0.03217439,\n",
       "       0.05662515, 0.08061773, 0.06833278, 0.07585853, 0.0350968 ,\n",
       "       0.09756068, 0.08387029, 0.03922955, 0.03889181, 0.0628947 ,\n",
       "       0.10022151, 0.03060274, 0.05573148, 0.08588886, 0.08963461,\n",
       "       0.04842266, 0.06031921, 0.04880087, 0.08020648, 0.03854871,\n",
       "       0.05548652, 0.05608718, 0.04346421, 0.05128118, 0.04615445,\n",
       "       0.04874507, 0.05580432, 0.04133487, 0.03720826, 0.0686997 ,\n",
       "       0.0637122 , 0.06822253, 0.06390183, 0.06083086, 0.0996627 ,\n",
       "       0.08716869, 0.11076441, 0.06978917, 0.06973942, 0.05220604,\n",
       "       0.05369825, 0.10703819, 0.07543021, 0.0498677 , 0.06441468,\n",
       "       0.04677645, 0.05039663, 0.0601073 , 0.09110658, 0.0584089 ,\n",
       "       0.0687214 , 0.04031035, 0.06084522, 0.0573905 , 0.06660411,\n",
       "       0.08670816, 0.05060458, 0.0780605 , 0.07671499, 0.07679745,\n",
       "       0.06501848, 0.09881171, 0.07171782, 0.05121674, 0.08270965,\n",
       "       0.07515527, 0.05469594, 0.06311401, 0.03188516, 0.09910505,\n",
       "       0.05125581, 0.05779134, 0.04890047, 0.07043229, 0.0534159 ,\n",
       "       0.05151409, 0.06142915, 0.06439131, 0.05328015, 0.05384377,\n",
       "       0.04937844, 0.04458823, 0.04463995, 0.07029402, 0.03894671,\n",
       "       0.0421575 , 0.05848706, 0.06960223, 0.03775476, 0.04623878,\n",
       "       0.04600277, 0.05914401, 0.07878415, 0.06488618, 0.05729194,\n",
       "       0.074715  , 0.10677511, 0.08519498, 0.07874642, 0.04907459,\n",
       "       0.08728071, 0.06512688, 0.05399533, 0.04861564, 0.03531152,\n",
       "       0.07367788, 0.07770872, 0.05025696, 0.0476569 , 0.04045032,\n",
       "       0.04196617, 0.05748832, 0.04127463, 0.03990394, 0.05846759,\n",
       "       0.05944471, 0.07957663, 0.07712958, 0.1072228 , 0.04095494,\n",
       "       0.08424877, 0.08119022, 0.08289207, 0.05452147, 0.05900329,\n",
       "       0.07369585, 0.0678352 , 0.04490881, 0.04533115, 0.04651923,\n",
       "       0.06290574, 0.05472609, 0.03309743, 0.05765411, 0.07642546,\n",
       "       0.08139836, 0.04375379, 0.04739079, 0.05756638, 0.06585534,\n",
       "       0.06676637, 0.0497807 , 0.02925833, 0.07173034, 0.05952962,\n",
       "       0.1090873 , 0.08116829, 0.03413634, 0.03554268, 0.04779463,\n",
       "       0.05882059, 0.07003199, 0.04554153, 0.06680786, 0.05111105,\n",
       "       0.08209158, 0.06445237, 0.05445886, 0.09425837, 0.10015757,\n",
       "       0.07017959, 0.05700225, 0.06603292, 0.06882344, 0.06308168,\n",
       "       0.07225309, 0.03962793, 0.09193498, 0.07339606, 0.05967537,\n",
       "       0.02776733, 0.02429315, 0.05422784, 0.08384293, 0.0772628 ,\n",
       "       0.07818501, 0.08068595, 0.06962798, 0.06141256, 0.02734363,\n",
       "       0.0274196 , 0.05661168, 0.0670997 , 0.06289444, 0.06955677,\n",
       "       0.02811284, 0.03927467, 0.06777902, 0.04754118, 0.04875536,\n",
       "       0.06257293, 0.08144724, 0.03590167, 0.05689276, 0.06563657,\n",
       "       0.04027851, 0.04196661, 0.05907176, 0.04939589, 0.07181278,\n",
       "       0.11070797, 0.04532701, 0.06829593, 0.04775832, 0.05643283,\n",
       "       0.06887077, 0.06818314, 0.07855648, 0.09791882, 0.10944802,\n",
       "       0.02908596, 0.06308076, 0.04436314, 0.06019349, 0.06819239,\n",
       "       0.11097711, 0.10708634, 0.11235202, 0.03989108, 0.08248303,\n",
       "       0.11045164, 0.11244035, 0.07675894, 0.07547363, 0.035124  ,\n",
       "       0.08897172, 0.0988363 , 0.11024937, 0.10219218, 0.07530289,\n",
       "       0.06843653, 0.06408326, 0.09640782, 0.05968432, 0.06833766,\n",
       "       0.04919773, 0.06422548, 0.04456972, 0.0631019 , 0.03771991,\n",
       "       0.1127957 , 0.06601833, 0.0693828 , 0.09642541, 0.08049544,\n",
       "       0.06241304, 0.05967244, 0.06058684, 0.05230217, 0.05437579,\n",
       "       0.05535984, 0.07087596, 0.04096209, 0.08883262, 0.04629832,\n",
       "       0.05714429, 0.06884093, 0.06733984, 0.06972557, 0.0795971 ,\n",
       "       0.07831246, 0.08293627, 0.06638545, 0.0547686 , 0.05418098,\n",
       "       0.05856771, 0.06167283, 0.06147629, 0.04860499, 0.03179243,\n",
       "       0.06359992, 0.07268044, 0.06566935, 0.05974113, 0.03621707,\n",
       "       0.04986989, 0.08427852, 0.04512775, 0.0569599 , 0.04567072,\n",
       "       0.06332709])"
      ]
     },
     "execution_count": 24,
     "metadata": {},
     "output_type": "execute_result"
    }
   ],
   "source": [
    "# import numpy as np\n",
    "# for i in range(GP.test_obj.shape[0]):\n",
    "#     print(np.argmax(GP.test_obj[i]))\n",
    "GP.test_obj[0]"
   ]
  },
  {
   "cell_type": "code",
   "execution_count": 15,
   "metadata": {},
   "outputs": [
    {
     "data": {
      "text/plain": [
       "[<matplotlib.lines.Line2D at 0x16aeb873820>]"
      ]
     },
     "execution_count": 15,
     "metadata": {},
     "output_type": "execute_result"
    },
    {
     "data": {
      "image/png": "[encoded data removed]",
      "text/plain": [
       "<Figure size 432x288 with 1 Axes>"
      ]
     },
     "metadata": {
      "needs_background": "light"
     },
     "output_type": "display_data"
    }
   ],
   "source": [
    "import matplotlib.pyplot as plt\n",
    "plt.plot(GP.test_obj[:, 78])\n",
    "# plt.plot(GP.test_obj[1])"
   ]
  },
  {
   "cell_type": "code",
   "execution_count": null,
   "metadata": {},
   "outputs": [],
   "source": []
  }
 ],
 "metadata": {
  "kernelspec": {
   "display_name": "Python 3",
   "language": "python",
   "name": "python3"
  },
  "language_info": {
   "codemirror_mode": {
    "name": "ipython",
    "version": 3
   },
   "file_extension": ".py",
   "mimetype": "text/x-python",
   "name": "python",
   "nbconvert_exporter": "python",
   "pygments_lexer": "ipython3",
   "version": "3.8.5"
  },
  "pycharm": {
   "stem_cell": {
    "cell_type": "raw",
    "metadata": {
     "collapsed": false
    },
    "source": []
   }
  }
 },
 "nbformat": 4,
 "nbformat_minor": 4
}
