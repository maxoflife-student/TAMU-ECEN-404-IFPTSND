{
 "cells": [
  {
   "cell_type": "code",
   "execution_count": 1,
   "metadata": {},
   "outputs": [
    {
     "data": {
      "text/html": [
       "<style>.container { width:100% !important; }</style>"
      ],
      "text/plain": [
       "<IPython.core.display.HTML object>"
      ]
     },
     "metadata": {},
     "output_type": "display_data"
    }
   ],
   "source": [
    "# Ignore cuDDa warning messages\n",
    "import warnings\n",
    "warnings.filterwarnings('ignore')\n",
    "\n",
    "# Enable GPU\n",
    "import tensorflow as tf\n",
    "physical_devices = tf.config.list_physical_devices('GPU') \n",
    "tf.config.experimental.set_memory_growth(physical_devices[0], True)\n",
    "\n",
    "# Expands the Jupyter Notebook Output Size to fit your window\n",
    "from IPython.core.display import display, HTML\n",
    "display(HTML(\"<style>.container { width:100% !important; }</style>\"))\n",
    "\n",
    "# Load in tensorboard\n",
    "%load_ext tensorboard"
   ]
  },
  {
   "cell_type": "code",
   "execution_count": null,
   "metadata": {},
   "outputs": [],
   "source": []
  },
  {
   "cell_type": "code",
   "execution_count": null,
   "metadata": {
    "scrolled": false
   },
   "outputs": [],
   "source": []
  },
  {
   "cell_type": "code",
   "execution_count": null,
   "metadata": {},
   "outputs": [],
   "source": []
  },
  {
   "cell_type": "code",
   "execution_count": 2,
   "metadata": {},
   "outputs": [
    {
     "data": {
      "application/vnd.jupyter.widget-view+json": {
       "model_id": "8d181c3a9e854121984e70be042cbe6f",
       "version_major": 2,
       "version_minor": 0
      },
      "text/plain": [
       "GridBox(children=(Dropdown(description='Model Types:', options=('lstm', 'lstm_gcn_1', 'lstm_gcn_2', 'lstm_gcn_…"
      ]
     },
     "metadata": {},
     "output_type": "display_data"
    }
   ],
   "source": [
    "from tensorflow_models import TF_Models, Ein_Multiply, leaky_relu, rank_loss_func\n",
    "DMJ = TF_Models('./data_sets/NASDAQ_Cleaned', './models', reload=False)\n",
    "data_splits = DMJ.split_data()\n",
    "model = DMJ.generate_model()"
   ]
  },
  {
   "cell_type": "code",
   "execution_count": null,
   "metadata": {
    "scrolled": true
   },
   "outputs": [],
   "source": [
    "# Generate an LSTM model\n",
    "# model = DMJ.generate_model(model_type='lstm', loss_function='mse', activation=leaky_relu)\n",
    "# model = DMJ.generate_model(model_type='lstm', loss_function=rank_loss_func(), activation=leaky_relu)\n",
    "\n",
    "# model = DMJ.generate_model(model_type='lstm_gcn_1', loss_function='mse', activation=leaky_relu, gcn_shape=DMJ.Normalized_Adjacency_Matrix.shape[0])\n",
    "# model = DMJ.generate_model(model_type='lstm_gcn_1', loss_function=rank_loss_func(), activation=leaky_relu, gcn_shape=DMJ.Normalized_Adjacency_Matrix.shape[0])\n",
    "# model = DMJ.generate_model(model_type='lstm_gcn_2', loss_function='mse', activation=leaky_relu, gcn_shape=DMJ.Normalized_Adjacency_Matrix.shape[0])\n",
    "# model = DMJ.generate_model(model_type='lstm_gcn_2', loss_function=rank_loss_func(), activation=leaky_relu, gcn_shape=DMJ.Normalized_Adjacency_Matrix.shape[0])\n",
    "\n",
    "# model = DMJ.generate_model(model_type='lstm_gcn_3', loss_function='mse', activation=leaky_relu, gcn_shape=DMJ.Normalized_Adjacency_Matrix.shape[0])\n",
    "# model = DMJ.generate_model(model_type='lstm_gcn_3', loss_function=rank_loss_func(), activation=leaky_relu, gcn_shape=DMJ.Normalized_Adjacency_Matrix.shape[0])"
   ]
  },
  {
   "cell_type": "code",
   "execution_count": null,
   "metadata": {},
   "outputs": [],
   "source": []
  },
  {
   "cell_type": "code",
   "execution_count": null,
   "metadata": {
    "scrolled": true
   },
   "outputs": [],
   "source": [
    "# Train the  model\n",
    "model = DMJ.train_model(epochs=500)\n",
    "# model = DMJ.train_model(model, data_splits['x_train'], data_splits['y_train'], data_splits['x_val'], data_splits['y_val'], epochs=50, learning_rate=5e-5, gcn_matrix=DMJ.Normalized_Adjacency_Matrix)"
   ]
  },
  {
   "cell_type": "code",
   "execution_count": null,
   "metadata": {},
   "outputs": [],
   "source": [
    "DMJ.save_model(tag='E2E_LSTM_VariedLR_RL_ALPHA_1_NOMSE')"
   ]
  },
  {
   "cell_type": "code",
   "execution_count": 3,
   "metadata": {},
   "outputs": [],
   "source": [
    "from graph_predictions import Graph_Predictions\n",
    "GP = Graph_Predictions(\"./models\", \"./strategies\", DMJ)"
   ]
  },
  {
   "cell_type": "code",
   "execution_count": null,
   "metadata": {
    "scrolled": true
   },
   "outputs": [],
   "source": [
    "# GP.strategy_ratio_lstm('11-22-2020--17--32--LSTM--50Epochs--mse-Loss--64-HU--None', avoid_fall=False, name_override='test_')\n",
    "# GP.strategy_ratio_lstm('11-22-2020--17--32--LSTM--50Epochs--mse-Loss--64-HU--None', avoid_fall=False, average=10, name_override='LSTM-MSE-50Epoch-Average10')\n",
    "# GP.strategy_ratio_lstm('11-22-2020--17--32--LSTM--50Epochs--mse-Loss--64-HU--None', avoid_fall=True, name_override='LSTM-MSE-50Epoch-AvoidFall')\n",
    "\n",
    "# GP.strategy_ratio_lstm('11-22-2020--14--55--LSTM-Rankloss--50Epochs--rlf-Loss--64-HU--', avoid_fall=False, name_override='LSTM-RankLoss-50Epoch')\n",
    "# GP.strategy_ratio_lstm('11-22-2020--14--55--LSTM-Rankloss--50Epochs--rlf-Loss--64-HU--', avoid_fall=False, average=10, name_override='LSTM-RankLoss-50Epoch-Average10')\n",
    "# GP.strategy_ratio_lstm('11-22-2020--14--55--LSTM-Rankloss--50Epochs--rlf-Loss--64-HU--', avoid_fall=True, name_override='LSTM-RankLoss-50Epoch-AvoidFall')\n",
    "\n",
    "# GP.strategy_ratio_gcn(r'11-22-2020--16--31--GCN1-MSE--50Epochs--mse-Loss--64-HU--', avoid_fall=False, average=10, name_override='GCN1-MSE-50Epoch-Average10')\n",
    "# GP.strategy_ratio_gcn(r'11-22-2020--16--31--GCN1-MSE--50Epochs--mse-Loss--64-HU--', avoid_fall=True, name_override='GCN1-MSE-50Epoch-AvoidFall')\n",
    "\n",
    "# GP.strategy_ratio_gcn(r'11-22-2020--16--34--GCN1-Rankloss--50Epochs--rlf-Loss--64-HU--', avoid_fall=False, average=10, name_override='GCN1-RankLoss-50Epoch-Average10')\n",
    "# GP.strategy_ratio_gcn(r'11-22-2020--16--34--GCN1-Rankloss--50Epochs--rlf-Loss--64-HU--', avoid_fall=True, name_override='GCN1-RankLoss-50Epoch-AvoidFall')\n",
    "\n",
    "# GP.strategy_ratio_gcn(r'11-22-2020--16--37--GCN2-MSE--50Epochs--mse-Loss--64-HU--', avoid_fall=False, average=10, name_override='GCN2-MSE-50Epoch-Average10')\n",
    "# GP.strategy_ratio_gcn(r'11-22-2020--16--37--GCN2-MSE--50Epochs--mse-Loss--64-HU--', avoid_fall=True, name_override='GCN2-MSE-50Epoch-AvoidFall')\n",
    "\n",
    "# GP.strategy_ratio_gcn(r'11-22-2020--16--39--GCN2-RankLoss--50Epochs--rlf-Loss--64-HU--', avoid_fall=False, average=10, name_override='GCN2-RankLoss-50Epoch-Average10')\n",
    "# GP.strategy_ratio_gcn(r'11-22-2020--16--39--GCN2-RankLoss--50Epochs--rlf-Loss--64-HU--', avoid_fall=True, name_override='GCN2-RankLoss-50Epoch-AvoidFall')\n",
    "\n",
    "# GP.strategy_ratio_gcn('11-22-2020--16--46--GCN3-MSE--50Epochs--mse-Loss--64-HU--', avoid_fall=False, average=10, name_override='GCN3-MSE-50Epoch-Average10')\n",
    "# GP.strategy_ratio_gcn(r'11-22-2020--16--46--GCN3-MSE--50Epochs--mse-Loss--64-HU--', avoid_fall=True, name_override='GCN3-MSE-50Epoch-AvoidFall-2ndBest')\n",
    "\n",
    "# GP.strategy_ratio_gcn('11-22-2020--16--43--GCN3-RankLoss--50Epochs--rlf-Loss--64-HU--', avoid_fall=False, average=10, name_override='GCN3-RankLoss-50Epoch-Average10')\n",
    "# GP.strategy_ratio_gcn(r'11-22-2020--16--43--GCN3-RankLoss--50Epochs--rlf-Loss--64-HU--', avoid_fall=True, name_override='GCN3-RankLoss-50Epoch-AvoidFall')\n",
    "\n",
    "# GP.strategy_ratio_gcn('11-22-2020--20--46--GCN3-MSE-Ratio+1--50Epochs--mse-Loss--64-HU--', avoid_fall=True, average=1, name_override='GCN3-MSE-200Epoch-Ratio+1')\n",
    "# GP.strategy_ratio_gcn('11-22-2020--20--43--GCN3-RankLoss-Ratio+1--50Epochs--rlf-Loss--64-HU--', avoid_fall=True, average=1, name_override='GCN3-RankLoss-200Epoch-Ratio+1')\n",
    "\n",
    "'''New prediction memory storage'''\n",
    "# GP.generate_prediction_json('11-22-2020--15--01--LSTM-MSE--50Epochs--mse-Loss--64-HU--', neural_net_type='lstm')\n",
    "# GP.generate_prediction_json('11-22-2020--16--46--GCN3-MSE--50Epochs--mse-Loss--64-HU--', neural_net_type='gcn')\n",
    "\n",
    "'''Seperately trained LSTM combo'''\n",
    "# GP.generate_prediction_json('01-04-2021--14--20--SEP_LSTM_GCN3-1e-5LR--70Epochs--mse-Loss--64-HU--', neural_net_type='gcn')\n",
    "\n",
    "''''''\n",
    "GP.generate_prediction_json('02-04-2021--15--11--E2E_LSTM_VariedLR_RL_ALPHA_1_NOMSE--500Epochs--rlf-Loss--64-HU--', neural_net_type='lstm')"
   ]
  },
  {
   "cell_type": "code",
   "execution_count": 4,
   "metadata": {
    "scrolled": true
   },
   "outputs": [
    {
     "name": "stdout",
     "output_type": "stream",
     "text": [
      "\n",
      "Loading PM Model: '02-04-2021--15--11--E2E_LSTM_VariedLR_RL_ALPHA_1_NOMSE--500Epochs--rlf-Loss--64-HU--_PM'\n",
      "Day: 1\t\tTotal: 100000 Buying: ['FNSR']\n",
      "Day: 2\t\tTotal: 50000 Buying: ['FNSR']\n",
      "Day: 3\t\tTotal: 51899 Buying: ['FNSR']\n",
      "Day: 4\t\tTotal: 52633 Buying: ['FNSR']\n",
      "Day: 5\t\tTotal: 53316 Buying: ['FNSR']\n",
      "Day: 6\t\tTotal: 53783 Buying: ['FNSR']\n",
      "Day: 7\t\tTotal: 54080 Buying: ['FNSR']\n",
      "Day: 8\t\tTotal: 54470 Buying: ['FNSR']\n",
      "Day: 9\t\tTotal: 54825 Buying: ['FNSR']\n",
      "Day: 10\t\tTotal: 54967 Buying: ['FNSR']\n",
      "Day: 11\t\tTotal: 55595 Buying: ['FNSR']\n",
      "Day: 12\t\tTotal: 55898 Buying: ['FNSR']\n",
      "Day: 13\t\tTotal: 55949 Buying: ['FNSR']\n",
      "Day: 14\t\tTotal: 56145 Buying: ['LWAY']\n",
      "Day: 15\t\tTotal: 56243 Buying: ['LWAY']\n",
      "Day: 16\t\tTotal: 56428 Buying: ['LWAY']\n",
      "Day: 17\t\tTotal: 55930 Buying: ['NXPI']\n",
      "Day: 18\t\tTotal: 55141 Buying: ['NXPI']\n",
      "Day: 19\t\tTotal: 55236 Buying: ['NXPI']\n",
      "Day: 20\t\tTotal: 55243 Buying: ['NXPI']\n",
      "Day: 21\t\tTotal: 55116 Buying: ['NXPI']\n",
      "Day: 22\t\tTotal: 55140 Buying: ['ZUMZ']\n",
      "Day: 23\t\tTotal: 54979 Buying: ['ICUI']\n",
      "Day: 24\t\tTotal: 55249 Buying: ['ZUMZ']\n",
      "Day: 25\t\tTotal: 54976 Buying: ['LWAY']\n",
      "Day: 26\t\tTotal: 54765 Buying: ['LWAY']\n",
      "Day: 27\t\tTotal: 55004 Buying: ['LWAY']\n",
      "Day: 28\t\tTotal: 55086 Buying: ['LWAY']\n",
      "Day: 29\t\tTotal: 55092 Buying: ['MMYT']\n",
      "Day: 30\t\tTotal: 54612 Buying: ['MMYT']\n",
      "Day: 31\t\tTotal: 54243 Buying: ['MMYT']\n",
      "Day: 32\t\tTotal: 54402 Buying: ['MMYT']\n",
      "Day: 33\t\tTotal: 54685 Buying: ['MMYT']\n",
      "Day: 34\t\tTotal: 54843 Buying: ['MMYT']\n",
      "Day: 35\t\tTotal: 54790 Buying: ['AKAM']\n",
      "Day: 36\t\tTotal: 54510 Buying: ['AKAM']\n",
      "Day: 37\t\tTotal: 54453 Buying: ['AKAM']\n",
      "Day: 38\t\tTotal: 54120 Buying: ['CPLA']\n",
      "Day: 39\t\tTotal: 53520 Buying: ['CPLA']\n",
      "Day: 40\t\tTotal: 53880 Buying: ['CPLA']\n",
      "Day: 41\t\tTotal: 53926 Buying: ['CPLA']\n",
      "Day: 42\t\tTotal: 54416 Buying: ['CPLA']\n",
      "Day: 43\t\tTotal: 55006 Buying: ['CPLA']\n",
      "Day: 44\t\tTotal: 55985 Buying: ['SGEN']\n",
      "Day: 45\t\tTotal: 56875 Buying: ['IONS']\n",
      "Day: 46\t\tTotal: 58781 Buying: ['IONS']\n",
      "Day: 47\t\tTotal: 60433 Buying: ['IONS']\n",
      "Day: 48\t\tTotal: 61646 Buying: ['IONS']\n",
      "Day: 49\t\tTotal: 62200 Buying: ['IONS']\n",
      "Day: 50\t\tTotal: 61830 Buying: ['IONS']\n",
      "Day: 51\t\tTotal: 60845 Buying: ['IONS']\n",
      "Day: 52\t\tTotal: 60806 Buying: ['PLCE']\n",
      "Day: 53\t\tTotal: 60720 Buying: ['PLCE']\n",
      "Day: 54\t\tTotal: 61136 Buying: ['PLCE']\n",
      "Day: 55\t\tTotal: 61434 Buying: ['PERY']\n",
      "Day: 56\t\tTotal: 61386 Buying: ['IIIN']\n",
      "Day: 57\t\tTotal: 61410 Buying: ['IIIN']\n",
      "Day: 58\t\tTotal: 60617 Buying: ['IIIN']\n",
      "Day: 59\t\tTotal: 60069 Buying: ['IIIN']\n",
      "Day: 60\t\tTotal: 59707 Buying: ['PTEN']\n",
      "Day: 61\t\tTotal: 59480 Buying: ['PTEN']\n",
      "Day: 62\t\tTotal: 59877 Buying: ['PTEN']\n",
      "Day: 63\t\tTotal: 59905 Buying: ['HEES']\n",
      "Day: 64\t\tTotal: 59866 Buying: ['FRAN']\n",
      "Day: 65\t\tTotal: 60137 Buying: ['FRAN']\n",
      "Day: 66\t\tTotal: 60104 Buying: ['FRAN']\n",
      "Day: 67\t\tTotal: 59261 Buying: ['FRAN']\n",
      "Day: 68\t\tTotal: 58730 Buying: ['HOFT']\n",
      "Day: 69\t\tTotal: 58352 Buying: ['NSIT']\n",
      "Day: 70\t\tTotal: 59450 Buying: ['HOFT']\n",
      "Day: 71\t\tTotal: 59762 Buying: ['OFLX']\n",
      "Day: 72\t\tTotal: 59862 Buying: ['OFLX']\n",
      "Day: 73\t\tTotal: 60903 Buying: ['OFLX']\n",
      "Day: 74\t\tTotal: 61856 Buying: ['OFLX']\n",
      "Day: 75\t\tTotal: 62415 Buying: ['OFLX']\n",
      "Day: 76\t\tTotal: 62244 Buying: ['OFLX']\n",
      "Day: 77\t\tTotal: 61854 Buying: ['OFLX']\n",
      "Day: 78\t\tTotal: 61111 Buying: ['OFLX']\n",
      "Day: 79\t\tTotal: 60296 Buying: ['HOFT']\n",
      "Day: 80\t\tTotal: 59439 Buying: ['HOFT']\n",
      "Day: 81\t\tTotal: 59346 Buying: ['HOFT']\n",
      "Day: 82\t\tTotal: 59120 Buying: ['HOFT']\n",
      "Day: 83\t\tTotal: 59387 Buying: ['ALXN']\n",
      "Day: 84\t\tTotal: 58775 Buying: ['ALXN']\n",
      "Day: 85\t\tTotal: 58646 Buying: ['ILMN']\n",
      "Day: 86\t\tTotal: 58173 Buying: ['ILMN']\n",
      "Day: 87\t\tTotal: 59365 Buying: ['ILMN']\n",
      "Day: 88\t\tTotal: 59130 Buying: ['ILMN']\n",
      "Day: 89\t\tTotal: 59021 Buying: ['ILMN']\n",
      "Day: 90\t\tTotal: 58829 Buying: ['MMYT']\n",
      "Day: 91\t\tTotal: 58725 Buying: ['MMYT']\n",
      "Day: 92\t\tTotal: 59778 Buying: ['MMYT']\n",
      "Day: 93\t\tTotal: 61176 Buying: ['MMYT']\n",
      "Day: 94\t\tTotal: 62488 Buying: ['MMYT']\n",
      "Day: 95\t\tTotal: 63316 Buying: ['MMYT']\n",
      "Day: 96\t\tTotal: 63843 Buying: ['MMYT']\n",
      "Day: 97\t\tTotal: 64427 Buying: ['MMYT']\n",
      "Day: 98\t\tTotal: 65535 Buying: ['MMYT']\n",
      "Day: 99\t\tTotal: 66144 Buying: ['MMYT']\n",
      "Day: 100\t\tTotal: 66687 Buying: ['CTXS']\n",
      "Day: 101\t\tTotal: 67006 Buying: ['CTXS']\n",
      "Day: 102\t\tTotal: 71654 Buying: ['CTXS']\n",
      "Day: 103\t\tTotal: 72510 Buying: ['CTXS']\n",
      "Day: 104\t\tTotal: 72962 Buying: ['CTXS']\n",
      "Day: 105\t\tTotal: 73201 Buying: ['CTXS']\n",
      "Day: 106\t\tTotal: 73520 Buying: ['CTXS']\n",
      "Day: 107\t\tTotal: 73684 Buying: ['CTXS']\n",
      "Day: 108\t\tTotal: 73999 Buying: ['CTXS']\n",
      "Day: 109\t\tTotal: 74191 Buying: ['CTXS']\n",
      "Day: 110\t\tTotal: 74437 Buying: ['CTXS']\n",
      "Day: 111\t\tTotal: 74687 Buying: ['CTXS']\n",
      "Day: 112\t\tTotal: 74842 Buying: ['CTXS']\n",
      "Day: 113\t\tTotal: 74813 Buying: ['CTXS']\n",
      "Day: 114\t\tTotal: 74843 Buying: ['CTXS']\n",
      "Day: 115\t\tTotal: 74801 Buying: ['SWIR']\n",
      "Day: 116\t\tTotal: 74574 Buying: ['SWIR']\n",
      "Day: 117\t\tTotal: 75244 Buying: ['SWIR']\n",
      "Day: 118\t\tTotal: 76138 Buying: ['NTRI']\n",
      "Day: 119\t\tTotal: 76717 Buying: ['NTRI']\n",
      "Day: 120\t\tTotal: 78831 Buying: ['NTRI']\n",
      "Day: 121\t\tTotal: 79341 Buying: ['NTRI']\n",
      "Day: 122\t\tTotal: 79691 Buying: ['NTRI']\n",
      "Day: 123\t\tTotal: 79435 Buying: ['NTRI']\n",
      "Day: 124\t\tTotal: 79435 Buying: ['NTRI']\n",
      "Day: 125\t\tTotal: 79415 Buying: ['NTRI']\n",
      "Day: 126\t\tTotal: 79384 Buying: ['NTRI']\n",
      "Day: 127\t\tTotal: 80145 Buying: ['NTRI']\n",
      "Day: 128\t\tTotal: 81047 Buying: ['LCUT']\n",
      "Day: 129\t\tTotal: 82013 Buying: ['LCUT']\n",
      "Day: 130\t\tTotal: 82496 Buying: ['LCUT']\n",
      "Day: 131\t\tTotal: 82395 Buying: ['LCUT']\n",
      "Day: 132\t\tTotal: 82294 Buying: ['LCUT']\n",
      "Day: 133\t\tTotal: 82218 Buying: ['LCUT']\n",
      "Day: 134\t\tTotal: 82421 Buying: ['LCUT']\n",
      "Day: 135\t\tTotal: 82395 Buying: ['LCUT']\n",
      "Day: 136\t\tTotal: 82370 Buying: ['LCUT']\n",
      "Day: 137\t\tTotal: 82370 Buying: ['LCUT']\n",
      "Day: 138\t\tTotal: 82496 Buying: ['FIZZ']\n",
      "Day: 139\t\tTotal: 82597 Buying: ['FIZZ']\n",
      "Day: 140\t\tTotal: 82931 Buying: ['FIZZ']\n",
      "Day: 141\t\tTotal: 83230 Buying: ['FIZZ']\n",
      "Day: 142\t\tTotal: 83365 Buying: ['GNCMA']\n",
      "Day: 143\t\tTotal: 83441 Buying: ['GNCMA']\n",
      "Day: 144\t\tTotal: 88498 Buying: ['GNCMA']\n",
      "Day: 145\t\tTotal: 93397 Buying: ['GNCMA']\n",
      "Day: 146\t\tTotal: 94210 Buying: ['GNCMA']\n",
      "Day: 147\t\tTotal: 94595 Buying: ['GNCMA']\n",
      "Day: 148\t\tTotal: 94589 Buying: ['GNCMA']\n",
      "Day: 149\t\tTotal: 94706 Buying: ['CPRT']\n",
      "Day: 150\t\tTotal: 94540 Buying: ['CPRT']\n",
      "Day: 151\t\tTotal: 94493 Buying: ['CPRT']\n",
      "Day: 152\t\tTotal: 94627 Buying: ['CPRT']\n",
      "Day: 153\t\tTotal: 94824 Buying: ['CPRT']\n",
      "Day: 154\t\tTotal: 95077 Buying: ['CPRT']\n",
      "Day: 155\t\tTotal: 95421 Buying: ['CPRT']\n",
      "Day: 156\t\tTotal: 95754 Buying: ['CPRT']\n",
      "Day: 157\t\tTotal: 96064 Buying: ['CPRT']\n",
      "Day: 158\t\tTotal: 96278 Buying: ['CPRT']\n",
      "Day: 159\t\tTotal: 96266 Buying: ['CPRT']\n",
      "Day: 160\t\tTotal: 96198 Buying: ['CPRT']\n",
      "Day: 161\t\tTotal: 95964 Buying: ['CPRT']\n",
      "Day: 162\t\tTotal: 95750 Buying: ['CPRT']\n",
      "Day: 163\t\tTotal: 95668 Buying: ['IRBT']\n",
      "Day: 164\t\tTotal: 95622 Buying: ['IRBT']\n",
      "Day: 165\t\tTotal: 95966 Buying: ['IAC']\n",
      "Day: 166\t\tTotal: 96388 Buying: ['BREW']\n",
      "Day: 167\t\tTotal: 96937 Buying: ['WRLD']\n",
      "Day: 168\t\tTotal: 96493 Buying: ['WRLD']\n",
      "Day: 169\t\tTotal: 98434 Buying: ['WRLD']\n",
      "Day: 170\t\tTotal: 97322 Buying: ['WRLD']\n",
      "Day: 171\t\tTotal: 96840 Buying: ['WRLD']\n",
      "Day: 172\t\tTotal: 96967 Buying: ['PETS']\n",
      "Day: 173\t\tTotal: 97335 Buying: ['PETS']\n",
      "Day: 174\t\tTotal: 97266 Buying: ['SINA']\n",
      "Day: 175\t\tTotal: 97083 Buying: ['SINA']\n",
      "Day: 176\t\tTotal: 97384 Buying: ['SINA']\n",
      "Day: 177\t\tTotal: 97334 Buying: ['SINA']\n",
      "Day: 178\t\tTotal: 97544 Buying: ['SINA']\n",
      "Day: 179\t\tTotal: 97173 Buying: ['SINA']\n",
      "Day: 180\t\tTotal: 96954 Buying: ['TTEC']\n",
      "Day: 181\t\tTotal: 96689 Buying: ['TTEC']\n",
      "Day: 182\t\tTotal: 96819 Buying: ['NATR']\n",
      "Day: 183\t\tTotal: 96619 Buying: ['NATR']\n",
      "Day: 184\t\tTotal: 96580 Buying: ['NATR']\n",
      "Day: 185\t\tTotal: 96928 Buying: ['NATR']\n",
      "Day: 186\t\tTotal: 97503 Buying: ['NATR']\n",
      "Day: 187\t\tTotal: 98035 Buying: ['NATR']\n",
      "Day: 188\t\tTotal: 98560 Buying: ['NATR']\n",
      "Day: 189\t\tTotal: 98486 Buying: ['NATR']\n",
      "Day: 190\t\tTotal: 99081 Buying: ['NATR']\n",
      "Day: 191\t\tTotal: 99265 Buying: ['CMTL']\n",
      "Day: 192\t\tTotal: 98752 Buying: ['GDEN']\n",
      "Day: 193\t\tTotal: 98925 Buying: ['GDEN']\n",
      "Day: 194\t\tTotal: 99126 Buying: ['CLVS']\n",
      "Day: 195\t\tTotal: 99189 Buying: ['CLVS']\n",
      "Day: 196\t\tTotal: 103937 Buying: ['CLVS']\n",
      "Day: 197\t\tTotal: 108033 Buying: ['CLVS']\n",
      "Day: 198\t\tTotal: 108744 Buying: ['CLVS']\n",
      "Day: 199\t\tTotal: 108880 Buying: ['CLVS']\n",
      "Day: 200\t\tTotal: 108803 Buying: ['CLVS']\n",
      "Day: 201\t\tTotal: 108294 Buying: ['CLVS']\n",
      "Day: 202\t\tTotal: 108147 Buying: ['CLVS']\n",
      "Day: 203\t\tTotal: 108008 Buying: ['CLVS']\n",
      "Day: 204\t\tTotal: 108397 Buying: ['CLVS']\n",
      "Day: 205\t\tTotal: 108314 Buying: ['CLVS']\n"
     ]
    },
    {
     "name": "stdout",
     "output_type": "stream",
     "text": [
      "Day: 206\t\tTotal: 108706 Buying: ['CLVS']\n",
      "Day: 207\t\tTotal: 108850 Buying: ['CLVS']\n",
      "Day: 208\t\tTotal: 108947 Buying: ['CLVS']\n",
      "Day: 209\t\tTotal: 109136 Buying: ['CLVS']\n",
      "Day: 210\t\tTotal: 109106 Buying: ['CLVS']\n",
      "Day: 211\t\tTotal: 108672 Buying: ['AVAV']\n",
      "Day: 212\t\tTotal: 108020 Buying: ['ARNA']\n",
      "Day: 213\t\tTotal: 107774 Buying: ['QDEL']\n",
      "Day: 214\t\tTotal: 106800 Buying: ['QDEL']\n",
      "Day: 215\t\tTotal: 110051 Buying: ['QDEL']\n",
      "Day: 216\t\tTotal: 113064 Buying: ['QDEL']\n",
      "Day: 217\t\tTotal: 114066 Buying: ['QDEL']\n",
      "Day: 218\t\tTotal: 114116 Buying: ['QDEL']\n",
      "Day: 219\t\tTotal: 114013 Buying: ['QDEL']\n",
      "Day: 220\t\tTotal: 113563 Buying: ['QDEL']\n",
      "Day: 221\t\tTotal: 112260 Buying: ['QDEL']\n",
      "Day: 222\t\tTotal: 110654 Buying: ['QDEL']\n",
      "Day: 223\t\tTotal: 109055 Buying: ['PETS']\n",
      "Day: 224\t\tTotal: 107421 Buying: ['TREE']\n",
      "Day: 225\t\tTotal: 107190 Buying: ['TREE']\n",
      "Day: 226\t\tTotal: 107757 Buying: ['TREE']\n",
      "Day: 227\t\tTotal: 108324 Buying: ['STMP']\n",
      "Day: 228\t\tTotal: 108545 Buying: ['STMP']\n",
      "Day: 229\t\tTotal: 111733 Buying: ['STMP']\n",
      "Day: 230\t\tTotal: 111721 Buying: ['STMP']\n",
      "Day: 231\t\tTotal: 111598 Buying: ['STMP']\n",
      "Day: 232\t\tTotal: 111465 Buying: ['STMP']\n",
      "Day: 233\t\tTotal: 111382 Buying: ['STMP']\n",
      "Day: 234\t\tTotal: 111211 Buying: ['STMP']\n",
      "Day: 235\t\tTotal: 111378 Buying: ['STMP']\n",
      "Day: 236\t\tTotal: 111459 Buying: ['STMP']\n",
      "Day: 237\t\tTotal: 111324 Buying: ['STMP']\n",
      "Day: 238\t\tTotal: 111257 Buying: ['CUTR']\n",
      "Day: 239\t\tTotal: 111025 Buying: ['CUTR']\n",
      "Day: 240\t\tTotal: 111434 Buying: ['CUTR']\n",
      "Day: 241\t\tTotal: 111999 Buying: ['CUTR']\n",
      "Day: 242\t\tTotal: 112542 Buying: ['CUTR']\n",
      "Day: 243\t\tTotal: 112542 Buying: ['CUTR']\n",
      "Day: 244\t\tTotal: 113066 Buying: ['IXYS']\n",
      "Day: 245\t\tTotal: 113627 Buying: ['IXYS']\n",
      "Day: 246\t\tTotal: 116965 Buying: ['IXYS']\n",
      "Day: 247\t\tTotal: 117185 Buying: ['IXYS']\n",
      "Day: 248\t\tTotal: 117536 Buying: ['IXYS']\n",
      "Day: 249\t\tTotal: 117667 Buying: ['INSM']\n",
      "Day: 250\t\tTotal: 117624 Buying: ['INSM']\n",
      "Day: 251\t\tTotal: 124913 Buying: ['INSM']\n",
      "Day: 252\t\tTotal: 125909 Buying: ['INSM']\n",
      "Day: 253\t\tTotal: 125327 Buying: ['INSM']\n",
      "Day: 254\t\tTotal: 124449 Buying: ['INSM']\n",
      "Day: 255\t\tTotal: 123628 Buying: ['INSM']\n",
      "Day: 256\t\tTotal: 122641 Buying: ['INSM']\n",
      "Day: 257\t\tTotal: 122125 Buying: ['INSM']\n",
      "Day: 258\t\tTotal: 122646 Buying: ['INSM']\n",
      "Day: 259\t\tTotal: 122946 Buying: ['INSM']\n",
      "Day: 260\t\tTotal: 123252 Buying: ['INSM']\n",
      "Day: 261\t\tTotal: 123298 Buying: ['INSM']\n",
      "Day: 262\t\tTotal: 123168 Buying: ['INSM']\n",
      "Day: 263\t\tTotal: 123350 Buying: ['ALNY']\n",
      "Day: 264\t\tTotal: 123964 Buying: ['ALNY']\n",
      "Day: 265\t\tTotal: 124285 Buying: ['ALNY']\n",
      "Day: 266\t\tTotal: 124741 Buying: ['ZGNX']\n",
      "Day: 267\t\tTotal: 125412 Buying: ['ZGNX']\n",
      "Day: 268\t\tTotal: 134412 Buying: ['ZGNX']\n",
      "Day: 269\t\tTotal: 142198 Buying: ['ZGNX']\n",
      "Day: 270\t\tTotal: 143051 Buying: ['ZGNX']\n",
      "Day: 271\t\tTotal: 143090 Buying: ['ZGNX']\n",
      "Day: 272\t\tTotal: 143721 Buying: ['ZGNX']\n",
      "Day: 273\t\tTotal: 143989 Buying: ['ZGNX']\n",
      "Day: 274\t\tTotal: 144318 Buying: ['ZGNX']\n",
      "Day: 275\t\tTotal: 144305 Buying: ['ZGNX']\n",
      "Day: 276\t\tTotal: 144180 Buying: ['ZGNX']\n",
      "Day: 277\t\tTotal: 143372 Buying: ['ZGNX']\n",
      "Day: 278\t\tTotal: 143052 Buying: ['ZGNX']\n",
      "Day: 279\t\tTotal: 143000 Buying: ['ZGNX']\n",
      "Day: 280\t\tTotal: 143388 Buying: ['ZGNX']\n",
      "Day: 281\t\tTotal: 143272 Buying: ['ZGNX']\n",
      "Day: 282\t\tTotal: 143208 Buying: ['ZGNX']\n",
      "Day: 283\t\tTotal: 142964 Buying: ['ZGNX']\n",
      "Day: 284\t\tTotal: 142705 Buying: ['OSTK']\n",
      "Day: 285\t\tTotal: 142393 Buying: ['OSTK']\n",
      "Day: 286\t\tTotal: 144550 Buying: ['OSTK']\n",
      "Day: 287\t\tTotal: 146264 Buying: ['OSTK']\n",
      "Day: 288\t\tTotal: 147355 Buying: ['OSTK']\n",
      "Day: 289\t\tTotal: 146832 Buying: ['OSTK']\n",
      "Day: 290\t\tTotal: 147203 Buying: ['OSTK']\n",
      "Day: 291\t\tTotal: 146445 Buying: ['FARO']\n",
      "Day: 292\t\tTotal: 145211 Buying: ['FARO']\n",
      "Day: 293\t\tTotal: 145430 Buying: ['FARO']\n",
      "Day: 294\t\tTotal: 145673 Buying: ['FARO']\n",
      "Day: 295\t\tTotal: 146078 Buying: ['FARO']\n",
      "Day: 296\t\tTotal: 146155 Buying: ['OSTK']\n",
      "Day: 297\t\tTotal: 146336 Buying: ['OSTK']\n",
      "Day: 298\t\tTotal: 148304 Buying: ['OSTK']\n",
      "Day: 299\t\tTotal: 148657 Buying: ['OSTK']\n",
      "Day: 300\t\tTotal: 148515 Buying: ['OSTK']\n",
      "Day: 301\t\tTotal: 148581 Buying: ['OSTK']\n",
      "Day: 302\t\tTotal: 150516 Buying: ['OSTK']\n",
      "Day: 303\t\tTotal: 152530 Buying: ['OSTK']\n",
      "Day: 304\t\tTotal: 154233 Buying: ['OSTK']\n",
      "Day: 305\t\tTotal: 155184 Buying: ['OSTK']\n",
      "Day: 306\t\tTotal: 155342 Buying: ['OSTK']\n"
     ]
    }
   ],
   "source": [
    "strat_name = '02-04-2021--15--11--E2E_LSTM_VariedLR_RL_ALPHA_1_NOMSE--500Epochs--rlf-Loss--64-HU--_PM'\n",
    "\n",
    "# Testing the PM file feature\n",
    "avg = [1, 5, 20, 50, 100, 200]\n",
    "avg = [1]\n",
    "for a in avg:\n",
    "#     GP.prediction_json_strategy_max_entities(strat_name, average=a, avoid_fall=False, name_override=strat_name+ f'{a}AVG')\n",
    "    GP.prediction_json_strategy_determine_best(strat_name, average=a, avoid_fall=False, name_override=strat_name+ f'{a}AVG_Correct_BuyDay_plus1')\n",
    "    GP.save_results()\n",
    "# Testing the mse tracking feature\n",
    "# GP.prediction_json_mse('01-04-2021--15--57--SEP_LSTM_GCN3-5e-6LR--820Epochs--mse-Loss--64-HU--_PM')\n",
    "GP.save_results()"
   ]
  },
  {
   "cell_type": "code",
   "execution_count": 5,
   "metadata": {
    "scrolled": true
   },
   "outputs": [
    {
     "data": {
      "application/vnd.jupyter.widget-view+json": {
       "model_id": "ee41ec9b9df842a6bd28d0c09d3f2764",
       "version_major": 2,
       "version_minor": 0
      },
      "text/plain": [
       "interactive(children=(SelectMultiple(description='Strategies', index=(0,), layout=Layout(width='50%'), options…"
      ]
     },
     "metadata": {},
     "output_type": "display_data"
    }
   ],
   "source": [
    "GP.display_graph()"
   ]
  },
  {
   "cell_type": "code",
   "execution_count": null,
   "metadata": {},
   "outputs": [],
   "source": [
    "# GP.strategy_ratio_gcn('11-22-2020--16--46--GCN3-MSE--50Epochs--mse-Loss--64-HU--', avoid_fall=False, average=10, name_override='GCN3-MSE-50Epoch-Average10')\n",
    "# GP.strategy_ratio_gcn(r'11-22-2020--16--46--GCN3-MSE--50Epochs--mse-Loss--64-HU--', avoid_fall=True, name_override='GCN3-MSE-50Epoch-AvoidFall')\n",
    "\n",
    "# GP.strategy_ratio_gcn('11-22-2020--16--43--GCN3-RankLoss--50Epochs--rlf-Loss--64-HU--', avoid_fall=False, average=10, name_override='GCN3-RankLoss-50Epoch-Average10')\n",
    "# GP.strategy_ratio_gcn(r'11-22-2020--16--43--GCN3-RankLoss--50Epochs--rlf-Loss--64-HU--', avoid_fall=True, name_override='GCN3-RankLoss-50Epoch-AvoidFall')"
   ]
  },
  {
   "cell_type": "code",
   "execution_count": null,
   "metadata": {},
   "outputs": [],
   "source": [
    "# GP.save_results('./strategies')"
   ]
  },
  {
   "cell_type": "code",
   "execution_count": null,
   "metadata": {},
   "outputs": [],
   "source": []
  },
  {
   "cell_type": "code",
   "execution_count": null,
   "metadata": {},
   "outputs": [],
   "source": []
  },
  {
   "cell_type": "code",
   "execution_count": null,
   "metadata": {},
   "outputs": [],
   "source": [
    "import ipywidgets as widgets\n",
    "from ipywidgets import GridBox"
   ]
  },
  {
   "cell_type": "code",
   "execution_count": null,
   "metadata": {},
   "outputs": [],
   "source": [
    "import time\n",
    "bar = widgets.IntProgress(min=0, max=10, description='Loading:', bar_style='info')\n",
    "display(bar)\n",
    "\n",
    "for i in range(11):\n",
    "    time.sleep(0.2)\n",
    "    bar.value = i"
   ]
  },
  {
   "cell_type": "code",
   "execution_count": null,
   "metadata": {},
   "outputs": [],
   "source": [
    "\n",
    "widgets.Text(\n",
    "    value='Loading',\n",
    "    description='',\n",
    "    disabled=True\n",
    "    layout=L\n",
    ")\n",
    "\n"
   ]
  },
  {
   "cell_type": "code",
   "execution_count": null,
   "metadata": {},
   "outputs": [],
   "source": [
    "# Start the loading bar by initializing it\n",
    "nam_bar = widgets.IntProgress(min=0, max=5, value=0, description='Loading Normalized Adjacency Matrix:',\n",
    "                              layout=widgets.Layout(width='auto'))\n",
    "text = widgets.Text(value='Loading', description='', disabled=True, layout=widgets.Layout(width='auto'))\n",
    "\n",
    "test = widgets.GridBox(children=[text, nam_bar], layout=widgets.Layout(width='auto'))\n",
    "\n",
    "display(test)"
   ]
  },
  {
   "cell_type": "code",
   "execution_count": null,
   "metadata": {},
   "outputs": [],
   "source": []
  },
  {
   "cell_type": "code",
   "execution_count": null,
   "metadata": {},
   "outputs": [],
   "source": []
  },
  {
   "cell_type": "code",
   "execution_count": null,
   "metadata": {},
   "outputs": [],
   "source": [
    "x_test = [1, 2, 3, 4, 5]"
   ]
  },
  {
   "cell_type": "code",
   "execution_count": null,
   "metadata": {},
   "outputs": [],
   "source": [
    "x_test[0:1]"
   ]
  },
  {
   "cell_type": "code",
   "execution_count": null,
   "metadata": {},
   "outputs": [],
   "source": [
    "for i in range(0, 10):\n",
    "    print(i)"
   ]
  },
  {
   "cell_type": "code",
   "execution_count": null,
   "metadata": {},
   "outputs": [],
   "source": []
  },
  {
   "cell_type": "code",
   "execution_count": null,
   "metadata": {},
   "outputs": [],
   "source": [
    "%tensorboard --logdir logs/fit\n"
   ]
  },
  {
   "cell_type": "code",
   "execution_count": null,
   "metadata": {},
   "outputs": [],
   "source": []
  }
 ],
 "metadata": {
  "kernelspec": {
   "display_name": "Python 3",
   "language": "python",
   "name": "python3"
  },
  "language_info": {
   "codemirror_mode": {
    "name": "ipython",
    "version": 3
   },
   "file_extension": ".py",
   "mimetype": "text/x-python",
   "name": "python",
   "nbconvert_exporter": "python",
   "pygments_lexer": "ipython3",
   "version": "3.8.5"
  },
  "pycharm": {
   "stem_cell": {
    "cell_type": "raw",
    "metadata": {
     "collapsed": false
    },
    "source": []
   }
  }
 },
 "nbformat": 4,
 "nbformat_minor": 4
}
