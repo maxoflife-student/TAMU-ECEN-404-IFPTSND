{
 "cells": [
  {
   "cell_type": "code",
   "execution_count": 1,
   "metadata": {},
   "outputs": [
    {
     "data": {
      "text/html": [
       "<style>.container { width:100% !important; }</style>"
      ],
      "text/plain": [
       "<IPython.core.display.HTML object>"
      ]
     },
     "metadata": {},
     "output_type": "display_data"
    }
   ],
   "source": [
    "# Ignore cuDDa warning messages\n",
    "import warnings\n",
    "warnings.filterwarnings('ignore')\n",
    "\n",
    "# Enable GPU\n",
    "import tensorflow as tf\n",
    "physical_devices = tf.config.list_physical_devices('GPU') \n",
    "tf.config.experimental.set_memory_growth(physical_devices[0], True)\n",
    "\n",
    "# Expands the Jupyter Notebook Output Size to fit your window\n",
    "from IPython.core.display import display, HTML\n",
    "display(HTML(\"<style>.container { width:100% !important; }</style>\"))"
   ]
  },
  {
   "cell_type": "code",
   "execution_count": null,
   "metadata": {},
   "outputs": [],
   "source": []
  },
  {
   "cell_type": "code",
   "execution_count": null,
   "metadata": {
    "scrolled": false
   },
   "outputs": [],
   "source": [
    "# DMJ Now contains a tensor with all return ratios for every time-point\n",
    "print(DMJ.XX_tf[89,98,0])\n",
    "print(DMJ.YY_tf[89,98])\n",
    "print(DMJ.RR_tf[89,98])"
   ]
  },
  {
   "cell_type": "code",
   "execution_count": null,
   "metadata": {},
   "outputs": [],
   "source": []
  },
  {
   "cell_type": "code",
   "execution_count": 2,
   "metadata": {},
   "outputs": [
    {
     "data": {
      "application/vnd.jupyter.widget-view+json": {
       "model_id": "56c6a16e99c7444eb5ebb245276bf105",
       "version_major": 2,
       "version_minor": 0
      },
      "text/plain": [
       "GridBox(children=(Dropdown(description='Model Types:', options=('lstm', 'lstm_gcn_1', 'lstm_gcn_2', 'lstm_gcn_…"
      ]
     },
     "metadata": {},
     "output_type": "display_data"
    }
   ],
   "source": [
    "from tensorflow_models import TF_Models, Ein_Multiply, leaky_relu, rank_loss_func\n",
    "DMJ = TF_Models('./data_sets/NASDAQ_Cleaned', './models', reload=False)\n",
    "data_splits = DMJ.split_data()\n",
    "model = DMJ.generate_model()"
   ]
  },
  {
   "cell_type": "code",
   "execution_count": null,
   "metadata": {
    "scrolled": true
   },
   "outputs": [],
   "source": [
    "# Generate an LSTM model\n",
    "# model = DMJ.generate_model(model_type='lstm', loss_function='mse', activation=leaky_relu)\n",
    "# model = DMJ.generate_model(model_type='lstm', loss_function=rank_loss_func(), activation=leaky_relu)\n",
    "\n",
    "# model = DMJ.generate_model(model_type='lstm_gcn_1', loss_function='mse', activation=leaky_relu, gcn_shape=DMJ.Normalized_Adjacency_Matrix.shape[0])\n",
    "# model = DMJ.generate_model(model_type='lstm_gcn_1', loss_function=rank_loss_func(), activation=leaky_relu, gcn_shape=DMJ.Normalized_Adjacency_Matrix.shape[0])\n",
    "# model = DMJ.generate_model(model_type='lstm_gcn_2', loss_function='mse', activation=leaky_relu, gcn_shape=DMJ.Normalized_Adjacency_Matrix.shape[0])\n",
    "# model = DMJ.generate_model(model_type='lstm_gcn_2', loss_function=rank_loss_func(), activation=leaky_relu, gcn_shape=DMJ.Normalized_Adjacency_Matrix.shape[0])\n",
    "\n",
    "# model = DMJ.generate_model(model_type='lstm_gcn_3', loss_function='mse', activation=leaky_relu, gcn_shape=DMJ.Normalized_Adjacency_Matrix.shape[0])\n",
    "# model = DMJ.generate_model(model_type='lstm_gcn_3', loss_function=rank_loss_func(), activation=leaky_relu, gcn_shape=DMJ.Normalized_Adjacency_Matrix.shape[0])"
   ]
  },
  {
   "cell_type": "code",
   "execution_count": null,
   "metadata": {},
   "outputs": [],
   "source": []
  },
  {
   "cell_type": "code",
   "execution_count": null,
   "metadata": {
    "scrolled": true
   },
   "outputs": [],
   "source": [
    "# Train the  model\n",
    "model = DMJ.train_model(epochs=20, learning_rate=1e-4)\n",
    "# model = DMJ.train_model(model, data_splits['x_train'], data_splits['y_train'], data_splits['x_val'], data_splits['y_val'], epochs=50, learning_rate=5e-5, gcn_matrix=DMJ.Normalized_Adjacency_Matrix)"
   ]
  },
  {
   "cell_type": "code",
   "execution_count": null,
   "metadata": {},
   "outputs": [],
   "source": [
    "DMJ.save_model(tag='E2E_LSTM_1e-4LR_RLCORRECTED')"
   ]
  },
  {
   "cell_type": "code",
   "execution_count": 3,
   "metadata": {},
   "outputs": [],
   "source": [
    "from graph_predictions import Graph_Predictions\n",
    "GP = Graph_Predictions(\"./models\", \"./strategies\", DMJ)"
   ]
  },
  {
   "cell_type": "code",
   "execution_count": 4,
   "metadata": {
    "scrolled": true
   },
   "outputs": [
    {
     "name": "stdout",
     "output_type": "stream",
     "text": [
      "\n",
      "Loading Model: '01-27-2021--16--34--E2E_LSTM_1e-4LR_RLCORRECTED--90Epochs--rlf-Loss--64-HU--'\n",
      "Total number of days: 309\n",
      "Day 0 | Day 1 | Day 2 | Day 3 | Day 4 | Day 5 | Day 6 | Day 7 | Day 8 | Day 9 | Day 10 | Day 11 | Day 12 | Day 13 | Day 14 | Day 15 | Day 16 | Day 17 | Day 18 | Day 19 | Day 20 | Day 21 | Day 22 | Day 23 | Day 24 | Day 25 | Day 26 | Day 27 | Day 28 | Day 29 | Day 30 | Day 31 | Day 32 | Day 33 | Day 34 | Day 35 | Day 36 | Day 37 | Day 38 | Day 39 | Day 40 | Day 41 | Day 42 | Day 43 | Day 44 | Day 45 | Day 46 | Day 47 | Day 48 | Day 49 | Day 50 | Day 51 | Day 52 | Day 53 | Day 54 | Day 55 | Day 56 | Day 57 | Day 58 | Day 59 | Day 60 | Day 61 | Day 62 | Day 63 | Day 64 | Day 65 | Day 66 | Day 67 | Day 68 | Day 69 | Day 70 | Day 71 | Day 72 | Day 73 | Day 74 | Day 75 | Day 76 | Day 77 | Day 78 | Day 79 | Day 80 | Day 81 | Day 82 | Day 83 | Day 84 | Day 85 | Day 86 | Day 87 | Day 88 | Day 89 | Day 90 | Day 91 | Day 92 | Day 93 | Day 94 | Day 95 | Day 96 | Day 97 | Day 98 | Day 99 | Day 100 | Day 101 | Day 102 | Day 103 | Day 104 | Day 105 | Day 106 | Day 107 | Day 108 | Day 109 | Day 110 | Day 111 | Day 112 | Day 113 | Day 114 | Day 115 | Day 116 | Day 117 | Day 118 | Day 119 | Day 120 | Day 121 | Day 122 | Day 123 | Day 124 | Day 125 | Day 126 | Day 127 | Day 128 | Day 129 | Day 130 | Day 131 | Day 132 | Day 133 | Day 134 | Day 135 | Day 136 | Day 137 | Day 138 | Day 139 | Day 140 | Day 141 | Day 142 | Day 143 | Day 144 | Day 145 | Day 146 | Day 147 | Day 148 | Day 149 | Day 150 | Day 151 | Day 152 | Day 153 | Day 154 | Day 155 | Day 156 | Day 157 | Day 158 | Day 159 | Day 160 | Day 161 | Day 162 | Day 163 | Day 164 | Day 165 | Day 166 | Day 167 | Day 168 | Day 169 | Day 170 | Day 171 | Day 172 | Day 173 | Day 174 | Day 175 | Day 176 | Day 177 | Day 178 | Day 179 | Day 180 | Day 181 | Day 182 | Day 183 | Day 184 | Day 185 | Day 186 | Day 187 | Day 188 | Day 189 | Day 190 | Day 191 | Day 192 | Day 193 | Day 194 | Day 195 | Day 196 | Day 197 | Day 198 | Day 199 | Day 200 | Day 201 | Day 202 | Day 203 | Day 204 | Day 205 | Day 206 | Day 207 | Day 208 | Day 209 | Day 210 | Day 211 | Day 212 | Day 213 | Day 214 | Day 215 | Day 216 | Day 217 | Day 218 | Day 219 | Day 220 | Day 221 | Day 222 | Day 223 | Day 224 | Day 225 | Day 226 | Day 227 | Day 228 | Day 229 | Day 230 | Day 231 | Day 232 | Day 233 | Day 234 | Day 235 | Day 236 | Day 237 | Day 238 | Day 239 | Day 240 | Day 241 | Day 242 | Day 243 | Day 244 | Day 245 | Day 246 | Day 247 | Day 248 | Day 249 | Day 250 | Day 251 | Day 252 | Day 253 | Day 254 | Day 255 | Day 256 | Day 257 | Day 258 | Day 259 | Day 260 | Day 261 | Day 262 | Day 263 | Day 264 | Day 265 | Day 266 | Day 267 | Day 268 | Day 269 | Day 270 | Day 271 | Day 272 | Day 273 | Day 274 | Day 275 | Day 276 | Day 277 | Day 278 | Day 279 | Day 280 | Day 281 | Day 282 | Day 283 | Day 284 | Day 285 | Day 286 | Day 287 | Day 288 | Day 289 | Day 290 | Day 291 | Day 292 | Day 293 | Day 294 | Day 295 | Day 296 | Day 297 | Day 298 | Day 299 | Day 300 | Day 301 | Day 302 | Day 303 | Day 304 | Day 305 | Day 306 | Day 307 | "
     ]
    }
   ],
   "source": [
    "# GP.strategy_ratio_lstm('11-22-2020--17--32--LSTM--50Epochs--mse-Loss--64-HU--None', avoid_fall=False, name_override='test_')\n",
    "# GP.strategy_ratio_lstm('11-22-2020--17--32--LSTM--50Epochs--mse-Loss--64-HU--None', avoid_fall=False, average=10, name_override='LSTM-MSE-50Epoch-Average10')\n",
    "# GP.strategy_ratio_lstm('11-22-2020--17--32--LSTM--50Epochs--mse-Loss--64-HU--None', avoid_fall=True, name_override='LSTM-MSE-50Epoch-AvoidFall')\n",
    "\n",
    "# GP.strategy_ratio_lstm('11-22-2020--14--55--LSTM-Rankloss--50Epochs--rlf-Loss--64-HU--', avoid_fall=False, name_override='LSTM-RankLoss-50Epoch')\n",
    "# GP.strategy_ratio_lstm('11-22-2020--14--55--LSTM-Rankloss--50Epochs--rlf-Loss--64-HU--', avoid_fall=False, average=10, name_override='LSTM-RankLoss-50Epoch-Average10')\n",
    "# GP.strategy_ratio_lstm('11-22-2020--14--55--LSTM-Rankloss--50Epochs--rlf-Loss--64-HU--', avoid_fall=True, name_override='LSTM-RankLoss-50Epoch-AvoidFall')\n",
    "\n",
    "# GP.strategy_ratio_gcn(r'11-22-2020--16--31--GCN1-MSE--50Epochs--mse-Loss--64-HU--', avoid_fall=False, average=10, name_override='GCN1-MSE-50Epoch-Average10')\n",
    "# GP.strategy_ratio_gcn(r'11-22-2020--16--31--GCN1-MSE--50Epochs--mse-Loss--64-HU--', avoid_fall=True, name_override='GCN1-MSE-50Epoch-AvoidFall')\n",
    "\n",
    "# GP.strategy_ratio_gcn(r'11-22-2020--16--34--GCN1-Rankloss--50Epochs--rlf-Loss--64-HU--', avoid_fall=False, average=10, name_override='GCN1-RankLoss-50Epoch-Average10')\n",
    "# GP.strategy_ratio_gcn(r'11-22-2020--16--34--GCN1-Rankloss--50Epochs--rlf-Loss--64-HU--', avoid_fall=True, name_override='GCN1-RankLoss-50Epoch-AvoidFall')\n",
    "\n",
    "# GP.strategy_ratio_gcn(r'11-22-2020--16--37--GCN2-MSE--50Epochs--mse-Loss--64-HU--', avoid_fall=False, average=10, name_override='GCN2-MSE-50Epoch-Average10')\n",
    "# GP.strategy_ratio_gcn(r'11-22-2020--16--37--GCN2-MSE--50Epochs--mse-Loss--64-HU--', avoid_fall=True, name_override='GCN2-MSE-50Epoch-AvoidFall')\n",
    "\n",
    "# GP.strategy_ratio_gcn(r'11-22-2020--16--39--GCN2-RankLoss--50Epochs--rlf-Loss--64-HU--', avoid_fall=False, average=10, name_override='GCN2-RankLoss-50Epoch-Average10')\n",
    "# GP.strategy_ratio_gcn(r'11-22-2020--16--39--GCN2-RankLoss--50Epochs--rlf-Loss--64-HU--', avoid_fall=True, name_override='GCN2-RankLoss-50Epoch-AvoidFall')\n",
    "\n",
    "# GP.strategy_ratio_gcn('11-22-2020--16--46--GCN3-MSE--50Epochs--mse-Loss--64-HU--', avoid_fall=False, average=10, name_override='GCN3-MSE-50Epoch-Average10')\n",
    "# GP.strategy_ratio_gcn(r'11-22-2020--16--46--GCN3-MSE--50Epochs--mse-Loss--64-HU--', avoid_fall=True, name_override='GCN3-MSE-50Epoch-AvoidFall-2ndBest')\n",
    "\n",
    "# GP.strategy_ratio_gcn('11-22-2020--16--43--GCN3-RankLoss--50Epochs--rlf-Loss--64-HU--', avoid_fall=False, average=10, name_override='GCN3-RankLoss-50Epoch-Average10')\n",
    "# GP.strategy_ratio_gcn(r'11-22-2020--16--43--GCN3-RankLoss--50Epochs--rlf-Loss--64-HU--', avoid_fall=True, name_override='GCN3-RankLoss-50Epoch-AvoidFall')\n",
    "\n",
    "# GP.strategy_ratio_gcn('11-22-2020--20--46--GCN3-MSE-Ratio+1--50Epochs--mse-Loss--64-HU--', avoid_fall=True, average=1, name_override='GCN3-MSE-200Epoch-Ratio+1')\n",
    "# GP.strategy_ratio_gcn('11-22-2020--20--43--GCN3-RankLoss-Ratio+1--50Epochs--rlf-Loss--64-HU--', avoid_fall=True, average=1, name_override='GCN3-RankLoss-200Epoch-Ratio+1')\n",
    "\n",
    "'''New prediction memory storage'''\n",
    "# GP.generate_prediction_json('11-22-2020--15--01--LSTM-MSE--50Epochs--mse-Loss--64-HU--', neural_net_type='lstm')\n",
    "# GP.generate_prediction_json('11-22-2020--16--46--GCN3-MSE--50Epochs--mse-Loss--64-HU--', neural_net_type='gcn')\n",
    "\n",
    "'''Seperately trained LSTM combo'''\n",
    "# GP.generate_prediction_json('01-04-2021--14--20--SEP_LSTM_GCN3-1e-5LR--70Epochs--mse-Loss--64-HU--', neural_net_type='gcn')\n",
    "\n",
    "''''''\n",
    "GP.generate_prediction_json('01-27-2021--16--34--E2E_LSTM_1e-4LR_RLCORRECTED--90Epochs--rlf-Loss--64-HU--', neural_net_type='lstm')"
   ]
  },
  {
   "cell_type": "code",
   "execution_count": null,
   "metadata": {
    "scrolled": true
   },
   "outputs": [
    {
     "name": "stdout",
     "output_type": "stream",
     "text": [
      "\n",
      "Loading PM Model: '01-27-2021--16--34--E2E_LSTM_1e-4LR_RLCORRECTED--90Epochs--rlf-Loss--64-HU--_PM'\n",
      "Day: 2\t\tTotal: 49586 Buying: ['MDGL']\n",
      "Day: 3\t\tTotal: 48721 Buying: ['MDGL']\n",
      "Day: 4\t\tTotal: 47568 Buying: ['MDGL']\n",
      "Day: 5\t\tTotal: 46599 Buying: ['MDGL']\n",
      "Day: 6\t\tTotal: 46284 Buying: ['MDGL']\n",
      "Day: 7\t\tTotal: 47080 Buying: ['MDGL']\n",
      "Day: 8\t\tTotal: 48527 Buying: ['MDGL']\n",
      "Day: 9\t\tTotal: 50237 Buying: ['MDGL']\n",
      "Day: 10\t\tTotal: 52012 Buying: ['MDGL']\n",
      "Day: 11\t\tTotal: 53379 Buying: ['MDGL']\n",
      "Day: 12\t\tTotal: 54390 Buying: ['MDGL']\n",
      "Day: 13\t\tTotal: 54991 Buying: ['MDGL']\n",
      "Day: 14\t\tTotal: 55853 Buying: ['MDGL']\n",
      "Day: 15\t\tTotal: 56683 Buying: ['MDGL']\n",
      "Day: 16\t\tTotal: 58618 Buying: ['MDGL']\n",
      "Day: 17\t\tTotal: 60986 Buying: ['MDGL']\n",
      "Day: 18\t\tTotal: 63976 Buying: ['MDGL']\n",
      "Day: 19\t\tTotal: 66952 Buying: ['MDGL']\n",
      "Day: 20\t\tTotal: 70039 Buying: ['MDGL']\n",
      "Day: 21\t\tTotal: 72253 Buying: ['MDGL']\n",
      "Day: 22\t\tTotal: 73320 Buying: ['MDGL']\n",
      "Day: 23\t\tTotal: 73589 Buying: ['MDGL']\n",
      "Day: 24\t\tTotal: 73240 Buying: ['MDGL']\n",
      "Day: 25\t\tTotal: 72174 Buying: ['MDGL']\n",
      "Day: 26\t\tTotal: 70941 Buying: ['MDGL']\n",
      "Day: 27\t\tTotal: 69814 Buying: ['MDGL']\n",
      "Day: 28\t\tTotal: 68961 Buying: ['MDGL']\n",
      "Day: 29\t\tTotal: 69394 Buying: ['MDGL']\n",
      "Day: 30\t\tTotal: 70249 Buying: ['MDGL']\n",
      "Day: 31\t\tTotal: 71071 Buying: ['MDGL']\n",
      "Day: 32\t\tTotal: 72120 Buying: ['MDGL']\n",
      "Day: 33\t\tTotal: 73080 Buying: ['MDGL']\n",
      "Day: 34\t\tTotal: 72985 Buying: ['MDGL']\n",
      "Day: 35\t\tTotal: 72690 Buying: ['MDGL']\n",
      "Day: 36\t\tTotal: 72335 Buying: ['MDGL']\n",
      "Day: 37\t\tTotal: 71623 Buying: ['MDGL']\n",
      "Day: 38\t\tTotal: 70750 Buying: ['MDGL']\n",
      "Day: 39\t\tTotal: 69918 Buying: ['MDGL']\n",
      "Day: 40\t\tTotal: 69233 Buying: ['MDGL']\n",
      "Day: 41\t\tTotal: 68558 Buying: ['MDGL']\n",
      "Day: 42\t\tTotal: 68352 Buying: ['MDGL']\n",
      "Day: 43\t\tTotal: 68507 Buying: ['MDGL']\n",
      "Day: 44\t\tTotal: 68928 Buying: ['MDGL']\n",
      "Day: 45\t\tTotal: 69945 Buying: ['MDGL']\n",
      "Day: 46\t\tTotal: 71036 Buying: ['MDGL']\n",
      "Day: 47\t\tTotal: 71810 Buying: ['MDGL']\n",
      "Day: 48\t\tTotal: 72331 Buying: ['MDGL']\n",
      "Day: 49\t\tTotal: 72557 Buying: ['MDGL']\n",
      "Day: 50\t\tTotal: 72260 Buying: ['MDGL']\n",
      "Day: 51\t\tTotal: 71757 Buying: ['MDGL']\n",
      "Day: 52\t\tTotal: 71417 Buying: ['MDGL']\n",
      "Day: 53\t\tTotal: 70845 Buying: ['MDGL']\n",
      "Day: 54\t\tTotal: 70524 Buying: ['MDGL']\n",
      "Day: 55\t\tTotal: 70214 Buying: ['MDGL']\n",
      "Day: 56\t\tTotal: 70121 Buying: ['MDGL']\n",
      "Day: 57\t\tTotal: 70058 Buying: ['MDGL']\n",
      "Day: 58\t\tTotal: 70182 Buying: ['MDGL']\n",
      "Day: 59\t\tTotal: 70182 Buying: ['MDGL']\n",
      "Day: 60\t\tTotal: 70283 Buying: ['MDGL']\n",
      "Day: 61\t\tTotal: 70277 Buying: ['COWN']\n",
      "Day: 62\t\tTotal: 70277 Buying: ['COWN']\n",
      "Day: 63\t\tTotal: 71662 Buying: ['COWN']\n",
      "Day: 64\t\tTotal: 72878 Buying: ['COWN']\n",
      "Day: 65\t\tTotal: 73424 Buying: ['COWN']\n",
      "Day: 66\t\tTotal: 73869 Buying: ['COWN']\n",
      "Day: 67\t\tTotal: 74183 Buying: ['MDGL']\n",
      "Day: 68\t\tTotal: 74433 Buying: ['MDGL']\n",
      "Day: 69\t\tTotal: 74433 Buying: ['MDGL']\n",
      "Day: 70\t\tTotal: 74377 Buying: ['MDGL']\n",
      "Day: 71\t\tTotal: 74414 Buying: ['MDGL']\n",
      "Day: 72\t\tTotal: 74370 Buying: ['MDGL']\n",
      "Day: 73\t\tTotal: 74395 Buying: ['MDGL']\n",
      "Day: 74\t\tTotal: 74440 Buying: ['MDGL']\n",
      "Day: 75\t\tTotal: 74283 Buying: ['MDGL']\n",
      "Day: 76\t\tTotal: 73829 Buying: ['MDGL']\n",
      "Day: 77\t\tTotal: 73193 Buying: ['MDGL']\n",
      "Day: 78\t\tTotal: 73200 Buying: ['MDGL']\n",
      "Day: 79\t\tTotal: 73457 Buying: ['MDGL']\n",
      "Day: 80\t\tTotal: 73937 Buying: ['MDGL']\n",
      "Day: 81\t\tTotal: 74153 Buying: ['MDGL']\n",
      "Day: 82\t\tTotal: 74721 Buying: ['MDGL']\n",
      "Day: 83\t\tTotal: 74870 Buying: ['MDGL']\n",
      "Day: 84\t\tTotal: 74535 Buying: ['MDGL']\n",
      "Day: 85\t\tTotal: 74285 Buying: ['MDGL']\n",
      "Day: 86\t\tTotal: 74587 Buying: ['MDGL']\n",
      "Day: 87\t\tTotal: 74649 Buying: ['MDGL']\n",
      "Day: 88\t\tTotal: 74411 Buying: ['MDGL']\n",
      "Day: 89\t\tTotal: 74343 Buying: ['MDGL']\n",
      "Day: 90\t\tTotal: 74223 Buying: ['MDGL']\n",
      "Day: 91\t\tTotal: 73927 Buying: ['MDGL']\n",
      "Day: 92\t\tTotal: 73293 Buying: ['MDGL']\n",
      "Day: 93\t\tTotal: 72714 Buying: ['MDGL']\n",
      "Day: 94\t\tTotal: 72214 Buying: ['MDGL']\n",
      "Day: 95\t\tTotal: 71788 Buying: ['MDGL']\n",
      "Day: 96\t\tTotal: 71271 Buying: ['MDGL']\n",
      "Day: 97\t\tTotal: 71525 Buying: ['MDGL']\n",
      "Day: 98\t\tTotal: 72224 Buying: ['MDGL']\n",
      "Day: 99\t\tTotal: 72933 Buying: ['MDGL']\n",
      "Day: 100\t\tTotal: 73386 Buying: ['MDGL']\n",
      "Day: 101\t\tTotal: 74034 Buying: ['MDGL']\n",
      "Day: 102\t\tTotal: 74420 Buying: ['MDGL']\n",
      "Day: 103\t\tTotal: 74445 Buying: ['MDGL']\n",
      "Day: 104\t\tTotal: 74338 Buying: ['MDGL']\n",
      "Day: 105\t\tTotal: 74364 Buying: ['MDGL']\n",
      "Day: 106\t\tTotal: 74366 Buying: ['MDGL']\n",
      "Day: 107\t\tTotal: 74423 Buying: ['MDGL']\n",
      "Day: 108\t\tTotal: 74417 Buying: ['MDGL']\n",
      "Day: 109\t\tTotal: 74442 Buying: ['MDGL']\n",
      "Day: 110\t\tTotal: 74508 Buying: ['MDGL']\n",
      "Day: 111\t\tTotal: 74569 Buying: ['MDGL']\n",
      "Day: 112\t\tTotal: 74393 Buying: ['MDGL']\n",
      "Day: 113\t\tTotal: 74098 Buying: ['MDGL']\n",
      "Day: 114\t\tTotal: 73939 Buying: ['MDGL']\n",
      "Day: 115\t\tTotal: 73689 Buying: ['MDGL']\n",
      "Day: 116\t\tTotal: 73478 Buying: ['MDGL']\n",
      "Day: 117\t\tTotal: 73657 Buying: ['MDGL']\n",
      "Day: 118\t\tTotal: 73829 Buying: ['MDGL']\n",
      "Day: 119\t\tTotal: 74103 Buying: ['MDGL']\n",
      "Day: 120\t\tTotal: 74349 Buying: ['MDGL']\n",
      "Day: 121\t\tTotal: 74576 Buying: ['MDGL']\n",
      "Day: 122\t\tTotal: 74363 Buying: ['MDGL']\n",
      "Day: 123\t\tTotal: 74520 Buying: ['MDGL']\n",
      "Day: 124\t\tTotal: 74300 Buying: ['MDGL']\n",
      "Day: 125\t\tTotal: 74300 Buying: ['MDGL']\n",
      "Day: 126\t\tTotal: 74326 Buying: ['MDGL']\n",
      "Day: 127\t\tTotal: 74383 Buying: ['MDGL']\n",
      "Day: 128\t\tTotal: 74351 Buying: ['MDGL']\n",
      "Day: 129\t\tTotal: 74357 Buying: ['MDGL']\n",
      "Day: 130\t\tTotal: 74301 Buying: ['MDGL']\n",
      "Day: 131\t\tTotal: 73917 Buying: ['MDGL']\n",
      "Day: 132\t\tTotal: 73701 Buying: ['MDGL']\n",
      "Day: 133\t\tTotal: 73210 Buying: ['MDGL']\n",
      "Day: 134\t\tTotal: 72875 Buying: ['MDGL']\n",
      "Day: 135\t\tTotal: 72616 Buying: ['MDGL']\n",
      "Day: 136\t\tTotal: 72654 Buying: ['MDGL']\n",
      "Day: 137\t\tTotal: 72688 Buying: ['MDGL']\n",
      "Day: 138\t\tTotal: 72830 Buying: ['MDGL']\n",
      "Day: 139\t\tTotal: 72947 Buying: ['MDGL']\n",
      "Day: 140\t\tTotal: 72695 Buying: ['MDGL']\n",
      "Day: 141\t\tTotal: 72265 Buying: ['MDGL']\n",
      "Day: 142\t\tTotal: 71779 Buying: ['MDGL']\n",
      "Day: 143\t\tTotal: 71607 Buying: ['MDGL']\n",
      "Day: 144\t\tTotal: 71368 Buying: ['MDGL']\n",
      "Day: 145\t\tTotal: 71542 Buying: ['MDGL']\n",
      "Day: 146\t\tTotal: 72215 Buying: ['MDGL']\n",
      "Day: 147\t\tTotal: 72898 Buying: ['MDGL']\n",
      "Day: 148\t\tTotal: 73260 Buying: ['MDGL']\n",
      "Day: 149\t\tTotal: 73608 Buying: ['MDGL']\n",
      "Day: 150\t\tTotal: 73844 Buying: ['MDGL']\n",
      "Day: 151\t\tTotal: 73616 Buying: ['MDGL']\n",
      "Day: 152\t\tTotal: 73718 Buying: ['MDGL']\n",
      "Day: 153\t\tTotal: 73813 Buying: ['MDGL']\n",
      "Day: 154\t\tTotal: 74545 Buying: ['MDGL']\n",
      "Day: 155\t\tTotal: 75523 Buying: ['MDGL']\n",
      "Day: 156\t\tTotal: 76551 Buying: ['MDGL']\n",
      "Day: 157\t\tTotal: 77516 Buying: ['MDGL']\n",
      "Day: 158\t\tTotal: 77871 Buying: ['MDGL']\n"
     ]
    }
   ],
   "source": [
    "strat_name = '01-27-2021--16--34--E2E_LSTM_1e-4LR_RLCORRECTED--90Epochs--rlf-Loss--64-HU--_PM'\n",
    "\n",
    "# Testing the PM file feature\n",
    "avg = [1, 5, 20, 50, 100, 200]\n",
    "for a in avg:\n",
    "#     GP.prediction_json_strategy_max_entities(strat_name, average=a, avoid_fall=False, name_override=strat_name+ f'{a}AVG')\n",
    "    GP.prediction_json_strategy_determine_best(strat_name, average=a, avoid_fall=False, name_override=strat_name+ f'{a}AVG')\n",
    "    GP.save_results()\n",
    "# Testing the mse tracking feature\n",
    "# GP.prediction_json_mse('01-04-2021--15--57--SEP_LSTM_GCN3-5e-6LR--820Epochs--mse-Loss--64-HU--_PM')\n",
    "GP.save_results()"
   ]
  },
  {
   "cell_type": "code",
   "execution_count": null,
   "metadata": {
    "scrolled": true
   },
   "outputs": [],
   "source": [
    "GP.display_graph()"
   ]
  },
  {
   "cell_type": "code",
   "execution_count": null,
   "metadata": {},
   "outputs": [],
   "source": [
    "# GP.strategy_ratio_gcn('11-22-2020--16--46--GCN3-MSE--50Epochs--mse-Loss--64-HU--', avoid_fall=False, average=10, name_override='GCN3-MSE-50Epoch-Average10')\n",
    "# GP.strategy_ratio_gcn(r'11-22-2020--16--46--GCN3-MSE--50Epochs--mse-Loss--64-HU--', avoid_fall=True, name_override='GCN3-MSE-50Epoch-AvoidFall')\n",
    "\n",
    "# GP.strategy_ratio_gcn('11-22-2020--16--43--GCN3-RankLoss--50Epochs--rlf-Loss--64-HU--', avoid_fall=False, average=10, name_override='GCN3-RankLoss-50Epoch-Average10')\n",
    "# GP.strategy_ratio_gcn(r'11-22-2020--16--43--GCN3-RankLoss--50Epochs--rlf-Loss--64-HU--', avoid_fall=True, name_override='GCN3-RankLoss-50Epoch-AvoidFall')"
   ]
  },
  {
   "cell_type": "code",
   "execution_count": null,
   "metadata": {},
   "outputs": [],
   "source": [
    "# GP.save_results('./strategies')"
   ]
  },
  {
   "cell_type": "code",
   "execution_count": null,
   "metadata": {},
   "outputs": [],
   "source": []
  },
  {
   "cell_type": "code",
   "execution_count": null,
   "metadata": {},
   "outputs": [],
   "source": []
  },
  {
   "cell_type": "code",
   "execution_count": null,
   "metadata": {},
   "outputs": [],
   "source": [
    "import ipywidgets as widgets\n",
    "from ipywidgets import GridBox"
   ]
  },
  {
   "cell_type": "code",
   "execution_count": null,
   "metadata": {},
   "outputs": [],
   "source": [
    "import time\n",
    "bar = widgets.IntProgress(min=0, max=10, description='Loading:', bar_style='info')\n",
    "display(bar)\n",
    "\n",
    "for i in range(11):\n",
    "    time.sleep(0.2)\n",
    "    bar.value = i"
   ]
  },
  {
   "cell_type": "code",
   "execution_count": null,
   "metadata": {},
   "outputs": [],
   "source": [
    "\n",
    "widgets.Text(\n",
    "    value='Loading',\n",
    "    description='',\n",
    "    disabled=True\n",
    "    layout=L\n",
    ")\n",
    "\n"
   ]
  },
  {
   "cell_type": "code",
   "execution_count": null,
   "metadata": {},
   "outputs": [],
   "source": [
    "# Start the loading bar by initializing it\n",
    "nam_bar = widgets.IntProgress(min=0, max=5, value=0, description='Loading Normalized Adjacency Matrix:',\n",
    "                              layout=widgets.Layout(width='auto'))\n",
    "text = widgets.Text(value='Loading', description='', disabled=True, layout=widgets.Layout(width='auto'))\n",
    "\n",
    "test = widgets.GridBox(children=[text, nam_bar], layout=widgets.Layout(width='auto'))\n",
    "\n",
    "display(test)"
   ]
  },
  {
   "cell_type": "code",
   "execution_count": null,
   "metadata": {},
   "outputs": [],
   "source": []
  },
  {
   "cell_type": "code",
   "execution_count": null,
   "metadata": {},
   "outputs": [],
   "source": []
  },
  {
   "cell_type": "code",
   "execution_count": null,
   "metadata": {},
   "outputs": [],
   "source": [
    "x_test = [1, 2, 3, 4, 5]"
   ]
  },
  {
   "cell_type": "code",
   "execution_count": null,
   "metadata": {},
   "outputs": [],
   "source": [
    "x_test[0:0]"
   ]
  },
  {
   "cell_type": "code",
   "execution_count": null,
   "metadata": {},
   "outputs": [],
   "source": []
  }
 ],
 "metadata": {
  "kernelspec": {
   "display_name": "Python 3",
   "language": "python",
   "name": "python3"
  },
  "language_info": {
   "codemirror_mode": {
    "name": "ipython",
    "version": 3
   },
   "file_extension": ".py",
   "mimetype": "text/x-python",
   "name": "python",
   "nbconvert_exporter": "python",
   "pygments_lexer": "ipython3",
   "version": "3.8.5"
  },
  "pycharm": {
   "stem_cell": {
    "cell_type": "raw",
    "metadata": {
     "collapsed": false
    },
    "source": []
   }
  }
 },
 "nbformat": 4,
 "nbformat_minor": 4
}
