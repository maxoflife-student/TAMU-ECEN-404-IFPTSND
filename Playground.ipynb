{
 "cells": [
  {
   "cell_type": "code",
   "execution_count": 2,
   "metadata": {},
   "outputs": [
    {
     "data": {
      "text/html": [
       "<style>.container { width:100% !important; }</style>"
      ],
      "text/plain": [
       "<IPython.core.display.HTML object>"
      ]
     },
     "metadata": {},
     "output_type": "display_data"
    }
   ],
   "source": [
    "# Ignore cuDDa warning messages\n",
    "import warnings\n",
    "warnings.filterwarnings('ignore')\n",
    "\n",
    "# Enable GPU\n",
    "import tensorflow as tf\n",
    "physical_devices = tf.config.list_physical_devices('GPU') \n",
    "tf.config.experimental.set_memory_growth(physical_devices[0], True)\n",
    "\n",
    "# # Expands the Jupyter Notebook Output Size to fit your window\n",
    "from IPython.core.display import display, HTML\n",
    "display(HTML(\"<style>.container { width:100% !important; }</style>\"))\n",
    "\n",
    "# Load in tensorboard\n",
    "%load_ext tensorboard"
   ]
  },
  {
   "cell_type": "code",
   "execution_count": null,
   "metadata": {},
   "outputs": [],
   "source": []
  },
  {
   "cell_type": "code",
   "execution_count": null,
   "metadata": {
    "scrolled": false
   },
   "outputs": [],
   "source": []
  },
  {
   "cell_type": "code",
   "execution_count": null,
   "metadata": {},
   "outputs": [],
   "source": []
  },
  {
   "cell_type": "code",
   "execution_count": 3,
   "metadata": {},
   "outputs": [
    {
     "data": {
      "application/vnd.jupyter.widget-view+json": {
       "model_id": "1783c07745764a0eb212be2f39fb0075",
       "version_major": 2,
       "version_minor": 0
      },
      "text/plain": [
       "GridBox(children=(Dropdown(description='Model Types:', options=('lstm', 'lstm_gcn_1', 'lstm_gcn_2', 'lstm_gcn_…"
      ]
     },
     "metadata": {},
     "output_type": "display_data"
    }
   ],
   "source": [
    "from tensorflow_models import TF_Models, Ein_Multiply, leaky_relu, rank_loss_func\n",
    "DMJ = TF_Models('./ignorable_data/data_sets/NASDAQ_Cleaned', './ignorable_data/models', reload=False)\n",
    "data_splits = DMJ.split_data()\n",
    "model = DMJ.generate_model()\n",
    "\n",
    "from graph_predictions import Graph_Predictions\n",
    "GP = Graph_Predictions(\"./ignorable_data/models\", \"./ignorable_data/strategies\", DMJ)"
   ]
  },
  {
   "cell_type": "code",
   "execution_count": null,
   "metadata": {
    "scrolled": true
   },
   "outputs": [],
   "source": [
    "# Generate an LSTM model\n",
    "# model = DMJ.generate_model(model_type='lstm', loss_function='mse', activation=leaky_relu)\n",
    "# model = DMJ.generate_model(model_type='lstm', loss_function=rank_loss_func(), activation=leaky_relu)\n",
    "\n",
    "# model = DMJ.generate_model(model_type='lstm_gcn_1', loss_function='mse', activation=leaky_relu, gcn_shape=DMJ.Normalized_Adjacency_Matrix.shape[0])\n",
    "# model = DMJ.generate_model(model_type='lstm_gcn_1', loss_function=rank_loss_func(), activation=leaky_relu, gcn_shape=DMJ.Normalized_Adjacency_Matrix.shape[0])\n",
    "# model = DMJ.generate_model(model_type='lstm_gcn_2', loss_function='mse', activation=leaky_relu, gcn_shape=DMJ.Normalized_Adjacency_Matrix.shape[0])\n",
    "# model = DMJ.generate_model(model_type='lstm_gcn_2', loss_function=rank_loss_func(), activation=leaky_relu, gcn_shape=DMJ.Normalized_Adjacency_Matrix.shape[0])\n",
    "\n",
    "# model = DMJ.generate_model(model_type='lstm_gcn_3', loss_function='mse', activation=leaky_relu, gcn_shape=DMJ.Normalized_Adjacency_Matrix.shape[0])\n",
    "# model = DMJ.generate_model(model_type='lstm_gcn_3', loss_function=rank_loss_func(), activation=leaky_relu, gcn_shape=DMJ.Normalized_Adjacency_Matrix.shape[0])"
   ]
  },
  {
   "cell_type": "code",
   "execution_count": null,
   "metadata": {},
   "outputs": [],
   "source": []
  },
  {
   "cell_type": "code",
   "execution_count": null,
   "metadata": {
    "scrolled": true
   },
   "outputs": [],
   "source": [
    "# Train the  model\n",
    "model = DMJ.train_model(epochs=500)\n",
    "# model = DMJ.train_model(model, data_splits['x_train'], data_splits['y_train'], data_splits['x_val'], data_splits['y_val'], epochs=50, learning_rate=5e-5, gcn_matrix=DMJ.Normalized_Adjacency_Matrix)"
   ]
  },
  {
   "cell_type": "code",
   "execution_count": null,
   "metadata": {},
   "outputs": [],
   "source": [
    "DMJ.save_model(tag='E2E_LSTM_VariedLR_RL_ALPHA_1_NOMSE')"
   ]
  },
  {
   "cell_type": "code",
   "execution_count": null,
   "metadata": {},
   "outputs": [],
   "source": []
  },
  {
   "cell_type": "code",
   "execution_count": null,
   "metadata": {
    "scrolled": true
   },
   "outputs": [],
   "source": [
    "# GP.strategy_ratio_lstm('11-22-2020--17--32--LSTM--50Epochs--mse-Loss--64-HU--None', avoid_fall=False, name_override='test_')\n",
    "# GP.strategy_ratio_lstm('11-22-2020--17--32--LSTM--50Epochs--mse-Loss--64-HU--None', avoid_fall=False, average=10, name_override='LSTM-MSE-50Epoch-Average10')\n",
    "# GP.strategy_ratio_lstm('11-22-2020--17--32--LSTM--50Epochs--mse-Loss--64-HU--None', avoid_fall=True, name_override='LSTM-MSE-50Epoch-AvoidFall')\n",
    "\n",
    "# GP.strategy_ratio_lstm('11-22-2020--14--55--LSTM-Rankloss--50Epochs--rlf-Loss--64-HU--', avoid_fall=False, name_override='LSTM-RankLoss-50Epoch')\n",
    "# GP.strategy_ratio_lstm('11-22-2020--14--55--LSTM-Rankloss--50Epochs--rlf-Loss--64-HU--', avoid_fall=False, average=10, name_override='LSTM-RankLoss-50Epoch-Average10')\n",
    "# GP.strategy_ratio_lstm('11-22-2020--14--55--LSTM-Rankloss--50Epochs--rlf-Loss--64-HU--', avoid_fall=True, name_override='LSTM-RankLoss-50Epoch-AvoidFall')\n",
    "\n",
    "# GP.strategy_ratio_gcn(r'11-22-2020--16--31--GCN1-MSE--50Epochs--mse-Loss--64-HU--', avoid_fall=False, average=10, name_override='GCN1-MSE-50Epoch-Average10')\n",
    "# GP.strategy_ratio_gcn(r'11-22-2020--16--31--GCN1-MSE--50Epochs--mse-Loss--64-HU--', avoid_fall=True, name_override='GCN1-MSE-50Epoch-AvoidFall')\n",
    "\n",
    "# GP.strategy_ratio_gcn(r'11-22-2020--16--34--GCN1-Rankloss--50Epochs--rlf-Loss--64-HU--', avoid_fall=False, average=10, name_override='GCN1-RankLoss-50Epoch-Average10')\n",
    "# GP.strategy_ratio_gcn(r'11-22-2020--16--34--GCN1-Rankloss--50Epochs--rlf-Loss--64-HU--', avoid_fall=True, name_override='GCN1-RankLoss-50Epoch-AvoidFall')\n",
    "\n",
    "# GP.strategy_ratio_gcn(r'11-22-2020--16--37--GCN2-MSE--50Epochs--mse-Loss--64-HU--', avoid_fall=False, average=10, name_override='GCN2-MSE-50Epoch-Average10')\n",
    "# GP.strategy_ratio_gcn(r'11-22-2020--16--37--GCN2-MSE--50Epochs--mse-Loss--64-HU--', avoid_fall=True, name_override='GCN2-MSE-50Epoch-AvoidFall')\n",
    "\n",
    "# GP.strategy_ratio_gcn(r'11-22-2020--16--39--GCN2-RankLoss--50Epochs--rlf-Loss--64-HU--', avoid_fall=False, average=10, name_override='GCN2-RankLoss-50Epoch-Average10')\n",
    "# GP.strategy_ratio_gcn(r'11-22-2020--16--39--GCN2-RankLoss--50Epochs--rlf-Loss--64-HU--', avoid_fall=True, name_override='GCN2-RankLoss-50Epoch-AvoidFall')\n",
    "\n",
    "# GP.strategy_ratio_gcn('11-22-2020--16--46--GCN3-MSE--50Epochs--mse-Loss--64-HU--', avoid_fall=False, average=10, name_override='GCN3-MSE-50Epoch-Average10')\n",
    "# GP.strategy_ratio_gcn(r'11-22-2020--16--46--GCN3-MSE--50Epochs--mse-Loss--64-HU--', avoid_fall=True, name_override='GCN3-MSE-50Epoch-AvoidFall-2ndBest')\n",
    "\n",
    "# GP.strategy_ratio_gcn('11-22-2020--16--43--GCN3-RankLoss--50Epochs--rlf-Loss--64-HU--', avoid_fall=False, average=10, name_override='GCN3-RankLoss-50Epoch-Average10')\n",
    "# GP.strategy_ratio_gcn(r'11-22-2020--16--43--GCN3-RankLoss--50Epochs--rlf-Loss--64-HU--', avoid_fall=True, name_override='GCN3-RankLoss-50Epoch-AvoidFall')\n",
    "\n",
    "# GP.strategy_ratio_gcn('11-22-2020--20--46--GCN3-MSE-Ratio+1--50Epochs--mse-Loss--64-HU--', avoid_fall=True, average=1, name_override='GCN3-MSE-200Epoch-Ratio+1')\n",
    "# GP.strategy_ratio_gcn('11-22-2020--20--43--GCN3-RankLoss-Ratio+1--50Epochs--rlf-Loss--64-HU--', avoid_fall=True, average=1, name_override='GCN3-RankLoss-200Epoch-Ratio+1')\n",
    "\n",
    "'''New prediction memory storage'''\n",
    "# GP.generate_prediction_json('11-22-2020--15--01--LSTM-MSE--50Epochs--mse-Loss--64-HU--', neural_net_type='lstm')\n",
    "# GP.generate_prediction_json('11-22-2020--16--46--GCN3-MSE--50Epochs--mse-Loss--64-HU--', neural_net_type='gcn')\n",
    "\n",
    "'''Seperately trained LSTM combo'''\n",
    "# GP.generate_prediction_json('01-04-2021--14--20--SEP_LSTM_GCN3-1e-5LR--70Epochs--mse-Loss--64-HU--', neural_net_type='gcn')\n",
    "\n",
    "''''''\n",
    "GP.generate_prediction_json('02-04-2021--15--11--E2E_LSTM_VariedLR_RL_ALPHA_1_NOMSE--500Epochs--rlf-Loss--64-HU--', neural_net_type='lstm')"
   ]
  },
  {
   "cell_type": "code",
   "execution_count": null,
   "metadata": {
    "scrolled": true
   },
   "outputs": [],
   "source": [
    "strat_name = '02-04-2021--15--11--E2E_LSTM_VariedLR_RL_ALPHA_1_NOMSE--500Epochs--rlf-Loss--64-HU--_PM'\n",
    "\n",
    "# Testing the PM file feature\n",
    "avg = [1, 5, 20, 50, 100, 200]\n",
    "avg = [1]\n",
    "for a in avg:\n",
    "#     GP.prediction_json_strategy_max_entities(strat_name, average=a, avoid_fall=False, name_override=strat_name+ f'{a}AVG')\n",
    "    GP.prediction_json_strategy_determine_best(strat_name, average=a, avoid_fall=False, name_override=strat_name+ f'{a}AVG_Correct_BuyDay_plus1')\n",
    "    GP.save_results()\n",
    "# Testing the mse tracking feature\n",
    "# GP.prediction_json_mse('01-04-2021--15--57--SEP_LSTM_GCN3-5e-6LR--820Epochs--mse-Loss--64-HU--_PM')\n",
    "GP.save_results()"
   ]
  },
  {
   "cell_type": "code",
   "execution_count": null,
   "metadata": {},
   "outputs": [],
   "source": [
    "GP.generate_model_diagnostics('02-04-2021--15--11--E2E_LSTM_VariedLR_RL_ALPHA_1_NOMSE--500Epochs--rlf-Loss--64-HU--_PM', datablock_folder='RL_validation_set')\n",
    "\n",
    "'01-04-2021--15--57--SEP_LSTM_GCN3-5e-6LR--820Epochs--mse-Loss--64-HU--_PM'\n",
    "255025890000.0\n",
    "0.012249682697757544\n",
    "0.7766990291262136\n"
   ]
  },
  {
   "cell_type": "code",
   "execution_count": null,
   "metadata": {
    "scrolled": true
   },
   "outputs": [],
   "source": [
    "# GP.generate_upper_lower_avg_bounds()\n",
    "\n",
    "GP.display_graph()"
   ]
  },
  {
   "cell_type": "code",
   "execution_count": null,
   "metadata": {},
   "outputs": [],
   "source": [
    "# GP.strategy_ratio_gcn('11-22-2020--16--46--GCN3-MSE--50Epochs--mse-Loss--64-HU--', avoid_fall=False, average=10, name_override='GCN3-MSE-50Epoch-Average10')\n",
    "# GP.strategy_ratio_gcn(r'11-22-2020--16--46--GCN3-MSE--50Epochs--mse-Loss--64-HU--', avoid_fall=True, name_override='GCN3-MSE-50Epoch-AvoidFall')\n",
    "\n",
    "# GP.strategy_ratio_gcn('11-22-2020--16--43--GCN3-RankLoss--50Epochs--rlf-Loss--64-HU--', avoid_fall=False, average=10, name_override='GCN3-RankLoss-50Epoch-Average10')\n",
    "# GP.strategy_ratio_gcn(r'11-22-2020--16--43--GCN3-RankLoss--50Epochs--rlf-Loss--64-HU--', avoid_fall=True, name_override='GCN3-RankLoss-50Epoch-AvoidFall')"
   ]
  },
  {
   "cell_type": "code",
   "execution_count": null,
   "metadata": {},
   "outputs": [],
   "source": [
    "# GP.save_results('./strategies')"
   ]
  },
  {
   "cell_type": "code",
   "execution_count": null,
   "metadata": {},
   "outputs": [],
   "source": []
  },
  {
   "cell_type": "code",
   "execution_count": null,
   "metadata": {},
   "outputs": [],
   "source": []
  },
  {
   "cell_type": "code",
   "execution_count": null,
   "metadata": {},
   "outputs": [],
   "source": [
    "import ipywidgets as widgets\n",
    "from ipywidgets import GridBox"
   ]
  },
  {
   "cell_type": "code",
   "execution_count": null,
   "metadata": {},
   "outputs": [],
   "source": [
    "import time\n",
    "bar = widgets.IntProgress(min=0, max=10, description='Loading:', bar_style='info')\n",
    "display(bar)\n",
    "\n",
    "for i in range(11):\n",
    "    time.sleep(0.2)\n",
    "    bar.value = i"
   ]
  },
  {
   "cell_type": "code",
   "execution_count": null,
   "metadata": {},
   "outputs": [],
   "source": [
    "\n",
    "widgets.Text(\n",
    "    value='Loading',\n",
    "    description='',\n",
    "    disabled=True\n",
    "    layout=L\n",
    ")\n",
    "\n"
   ]
  },
  {
   "cell_type": "code",
   "execution_count": null,
   "metadata": {},
   "outputs": [],
   "source": [
    "# Start the loading bar by initializing it\n",
    "nam_bar = widgets.IntProgress(min=0, max=5, value=0, description='Loading Normalized Adjacency Matrix:',\n",
    "                              layout=widgets.Layout(width='auto'))\n",
    "text = widgets.Text(value='Loading', description='', disabled=True, layout=widgets.Layout(width='auto'))\n",
    "\n",
    "test = widgets.GridBox(children=[text, nam_bar], layout=widgets.Layout(width='auto'))\n",
    "\n",
    "display(test)"
   ]
  },
  {
   "cell_type": "code",
   "execution_count": null,
   "metadata": {},
   "outputs": [],
   "source": []
  },
  {
   "cell_type": "code",
   "execution_count": null,
   "metadata": {},
   "outputs": [],
   "source": []
  },
  {
   "cell_type": "code",
   "execution_count": null,
   "metadata": {},
   "outputs": [],
   "source": [
    "x_test = [1, 2, 3, 4, 5]"
   ]
  },
  {
   "cell_type": "code",
   "execution_count": null,
   "metadata": {},
   "outputs": [],
   "source": [
    "x_test[0:1]"
   ]
  },
  {
   "cell_type": "code",
   "execution_count": null,
   "metadata": {},
   "outputs": [],
   "source": [
    "for i in range(0, 10):\n",
    "    print(i)"
   ]
  },
  {
   "cell_type": "code",
   "execution_count": null,
   "metadata": {},
   "outputs": [],
   "source": []
  },
  {
   "cell_type": "code",
   "execution_count": null,
   "metadata": {},
   "outputs": [],
   "source": [
    "%tensorboard --logdir logs/fit\n"
   ]
  },
  {
   "cell_type": "code",
   "execution_count": null,
   "metadata": {},
   "outputs": [],
   "source": [
    "import numpy as np\n",
    "np.amax(GP.rr_test[:, 0])"
   ]
  },
  {
   "cell_type": "code",
   "execution_count": null,
   "metadata": {},
   "outputs": [],
   "source": [
    "np.argmax(GP.rr_test[:, 0])"
   ]
  },
  {
   "cell_type": "code",
   "execution_count": null,
   "metadata": {},
   "outputs": [],
   "source": [
    "GP.rr_test[476,0]"
   ]
  },
  {
   "cell_type": "code",
   "execution_count": null,
   "metadata": {},
   "outputs": [],
   "source": [
    "from sklearn.metrics import mean_squared_error"
   ]
  },
  {
   "cell_type": "code",
   "execution_count": null,
   "metadata": {},
   "outputs": [],
   "source": [
    "mean_squared_error(GP.rr_test[5, :], GP.rr_test[100, :])"
   ]
  },
  {
   "cell_type": "code",
   "execution_count": null,
   "metadata": {},
   "outputs": [],
   "source": [
    "import random\n",
    "import numpy as np\n",
    "import matplotlib.pyplot as plt\n",
    "\n",
    "def swap_random(seq):\n",
    "    idx = range(len(seq))\n",
    "    i1, i2 = random.sample(idx, 2)\n",
    "    seq[i1], seq[i2] = seq[i2], seq[i1]\n",
    "\n",
    "trials_RL = []\n",
    "for e in range(100,300):\n",
    "    RL = []\n",
    "    for t in range(300):\n",
    "        A = []; B = [];\n",
    "        for l in range(e):\n",
    "            n = random.uniform(-1, 1)\n",
    "            A.append(n)\n",
    "            B.append(n)\n",
    "        swap_random(B)\n",
    "        swap_random(B)\n",
    "        swap_random(B)\n",
    "        swap_random(B)\n",
    "        \n",
    "        return_ratio = tf.constant(A, shape=(len(A), 1))\n",
    "        ground_truth = tf.constant(B, shape=(len(B), 1))\n",
    "\n",
    "        ###############################################################\n",
    "        # Create an array of all_ones so that we can calculate all permutations of subtractions\n",
    "        all_ones = tf.ones([len(return_ratio), 1], dtype=tf.float32)\n",
    "\n",
    "        # Creates a N x N matrix with every predicted return ratio for each company subtracted with every other\n",
    "        # company\n",
    "        pred_dif = tf.math.subtract(\n",
    "            tf.matmul(return_ratio, all_ones, transpose_b=True),\n",
    "            tf.matmul(all_ones, return_ratio, transpose_b=True)\n",
    "        )\n",
    "\n",
    "        # Creates an N x N matrix containing every actual return ratio for each company subtracted with every other\n",
    "        # company By switching the order of the all_ones matricies and the actual prices, a negative sign is introduced\n",
    "        # When RELU is applied later, correct predictions will not affect loss while incorrect predictions will affect\n",
    "        # loss depending on how incorrect the prediction was\n",
    "        actual_dif = tf.math.subtract(\n",
    "            tf.matmul(all_ones, ground_truth, transpose_b=True),\n",
    "            tf.matmul(ground_truth, all_ones, transpose_b=True)\n",
    "        )\n",
    "\n",
    "        # Using the above two qualities, the algorithm can be punished for incorrectly calculating when a company is\n",
    "        # doing better than another company Reduces the mean across each dimension until only 1 value remains\n",
    "        rank_loss = tf.reduce_mean(\n",
    "            # Takes if a given value is >0, it is kept, otherwise, it becomes 0\n",
    "            tf.nn.relu(\n",
    "                # Multiplies all of the\n",
    "                tf.multiply(pred_dif, actual_dif)\n",
    "            )\n",
    "        )\n",
    "        RL.append(rank_loss)\n",
    "    trials_RL.append(np.mean(RL))\n",
    "\n",
    "plt.plot(trials_RL)"
   ]
  },
  {
   "cell_type": "code",
   "execution_count": null,
   "metadata": {},
   "outputs": [],
   "source": [
    "r = [0.1, 0.5, 0.2, 0.3]\n",
    "print(list(zip(range(4), r)))"
   ]
  },
  {
   "cell_type": "code",
   "execution_count": null,
   "metadata": {},
   "outputs": [],
   "source": [
    "predictions = [100, 300, 200, 400]\n",
    "predictions = list(zip(range(len(predictions)), predictions))\n",
    "predictions"
   ]
  },
  {
   "cell_type": "code",
   "execution_count": null,
   "metadata": {},
   "outputs": [],
   "source": [
    "predictions.sort(key=lambda x: x[1], reverse=True)\n",
    "predictions"
   ]
  },
  {
   "cell_type": "code",
   "execution_count": null,
   "metadata": {},
   "outputs": [],
   "source": []
  },
  {
   "cell_type": "code",
   "execution_count": null,
   "metadata": {},
   "outputs": [],
   "source": [
    "import numpy as np\n",
    "\n",
    "# Normal Rank\n",
    "A = list(range(1, 10001))\n",
    "B = [i**(-1) for i in A]\n",
    "print(np.mean(A))\n",
    "print(np.mean(B)**-1)\n",
    "\n",
    "\n",
    "'000_Avg_RR.p'\n",
    "'000_Highest_RR_Possible.p'\n",
    "'000_Lowest_RR_Possible.p'"
   ]
  },
  {
   "cell_type": "code",
   "execution_count": null,
   "metadata": {},
   "outputs": [],
   "source": [
    "import similaritymeasures as sm\n",
    "import numpy as np\n",
    "\n",
    "# Generate random experimental data\n",
    "n = 5\n",
    "x = list(range(n))\n",
    "y = [11, 26, 26, 11, -60]\n",
    "exp_data = np.zeros((n, 2))\n",
    "exp_data[:, 0] = x\n",
    "exp_data[:, 1] = y\n",
    "\n",
    "# Generate random numerical data\n",
    "x = list(range(n))\n",
    "y = [1, 2, 30, 4, -9000]\n",
    "num_data = np.zeros((n, 2))\n",
    "num_data[:, 0] = x\n",
    "num_data[:, 1] = y\n",
    "\n",
    "area = sm.area_between_two_curves(exp_data, num_data)\n",
    "print(area)"
   ]
  },
  {
   "cell_type": "code",
   "execution_count": null,
   "metadata": {},
   "outputs": [],
   "source": [
    "# Assuming aftermarket trading has been accounted for...\n",
    "\n",
    "# If we've seen the last day of validation\n",
    "print(DMJ.data_splits['x_val'][0, -1, 0])\n",
    "# Then we're predicting on the first day of x_test\n",
    "print(DMJ.data_splits['x_test'][0, 0, 0])\n",
    "# Then the ground truth return ratio for our choice is the same as the last seen date\n",
    "print(DMJ.data_splits['rr_val'][0, -1])"
   ]
  },
  {
   "cell_type": "code",
   "execution_count": 4,
   "metadata": {
    "scrolled": true
   },
   "outputs": [
    {
     "name": "stdout",
     "output_type": "stream",
     "text": [
      "01-04-2021--15--57--SEP_LSTM_GCN3-5e-6LR--820Epochs--mse-Loss--64-HU--_PM.json\n",
      "-0.063431635 0.06305041 0.00073330535 -0.001079901306047462\n",
      "01-06-2021--18--06--EXPERIMENT_MSE--150Epochs--mse-Loss--64-HU--_PM.json\n",
      "-0.063431635 0.06305041 0.00073330535 -0.000655818997258952\n",
      "01-27-2021--16--34--E2E_LSTM_1e-4LR_RLCORRECTED--90Epochs--rlf-Loss--64-HU--_PM.json\n",
      "-0.063431635 0.06305041 0.00073330535 0.0005985374475511254\n",
      "01-28-2021--12--52--E2E_LSTM_1e-4LR_RL_ALPHA_0--70Epochs--rlf-Loss--64-HU--_PM.json\n",
      "-0.063431635 0.06305041 0.00073330535 0.0008016378721305979\n",
      "01-28-2021--13--23--E2E_LSTM_5e-5LR_RL_ALPHA_1e4_NOMSE--75Epochs--rlf-Loss--64-HU--_PM.json\n",
      "-0.063431635 0.06305041 0.00073330535 0.007822669632124636\n",
      "01-28-2021--13--58--E2E_LSTM_5e-5LR_RL_ALPHA_1e4_NOMSE--5Epochs--rlf-Loss--64-HU--_PM.json\n",
      "-0.063431635 0.06305041 0.00073330535 -0.00015811952921853696\n",
      "01-28-2021--15--02--E2E_LSTM_2e-6LR_RL_ALPHA_1e4--69Epochs--rlf-Loss--64-HU--_PM.json\n",
      "-0.063431635 0.06305041 0.00073330535 -0.0019042226308586287\n",
      "01-28-2021--15--34--E2E_LSTM_VariedLR_RL_ALPHA_1e3--130Epochs--rlf-Loss--64-HU--_PM.json\n",
      "-0.063431635 0.06305041 0.00073330535 -0.0015802735616293206\n",
      "02-04-2021--15--11--E2E_LSTM_VariedLR_RL_ALPHA_1_NOMSE--500Epochs--rlf-Loss--64-HU--_PM.json\n",
      "-0.063431635 0.06305041 0.00073330535 0.012261024580177892\n",
      "02-07-2021--02--18-E2E_LSTM_ValSet_1000.0-ALPHA0-BETA-10Epochs-rlf-Loss-64-HU-_PM.json\n",
      "-0.063431635 0.06305041 0.00073330535 0.015552501463127935\n",
      "02-07-2021--03--15-E2E_LSTM_ValSet_1000.0-ALPHA0.0001-BETA_SD17-223Epochs-rlf-Loss-64-HU-_PM.json\n",
      "-0.063431635 0.06305041 0.00073330535 0.013910833179906584\n",
      "02-07-2021--03--27-E2E_LSTM_ValSet_1000.0-ALPHA0.001-BETA_SD17-218Epochs-rlf-Loss-64-HU-_PM.json\n",
      "-0.063431635 0.06305041 0.00073330535 0.020034811255041574\n",
      "02-07-2021--03--39-E2E_LSTM_ValSet_1000.0-ALPHA0.01-BETA_SD17-219Epochs-rlf-Loss-64-HU-_PM.json\n",
      "-0.063431635 0.06305041 0.00073330535 0.027551898914347464\n",
      "02-07-2021--03--51-E2E_LSTM_ValSet_1000.0-ALPHA0.1-BETA_SD17-168Epochs-rlf-Loss-64-HU-_PM.json\n",
      "-0.063431635 0.06305041 0.00073330535 0.002301956734751668\n",
      "02-07-2021--04--03-E2E_LSTM_ValSet_1000.0-ALPHA0-BETA_SD17-221Epochs-rlf-Loss-64-HU-_PM.json\n",
      "-0.063431635 0.06305041 0.00073330535 0.011301837118724482\n",
      "02-07-2021--04--14-E2E_LSTM_ValSet_1000.0-ALPHA1.0-BETA_SD17-147Epochs-rlf-Loss-64-HU-_PM.json\n",
      "-0.063431635 0.06305041 0.00073330535 -0.013707415792928229\n",
      "02-07-2021--04--27-E2E_LSTM_ValSet_1000.0-ALPHA100.0-BETA_SD17-277Epochs-rlf-Loss-64-HU-_PM.json\n",
      "-0.063431635 0.06305041 0.00073330535 -0.0196878088045077\n",
      "02-07-2021--04--40-E2E_LSTM_ValSet_1000.0-ALPHA1000.0-BETA_SD17-277Epochs-rlf-Loss-64-HU-_PM.json\n",
      "-0.063431635 0.06305041 0.00073330535 -0.01907336622422555\n",
      "02-07-2021--04--53-E2E_LSTM_ValSet_100.0-ALPHA0.0001-BETA_SD17-269Epochs-rlf-Loss-64-HU-_PM.json\n",
      "-0.063431635 0.06305041 0.00073330535 0.00790902167776283\n",
      "02-07-2021--05--05-E2E_LSTM_ValSet_100.0-ALPHA0.001-BETA_SD17-240Epochs-rlf-Loss-64-HU-_PM.json\n",
      "-0.063431635 0.06305041 0.00073330535 0.025573872908127335\n",
      "02-07-2021--05--17-E2E_LSTM_ValSet_100.0-ALPHA0.01-BETA_SD17-186Epochs-rlf-Loss-64-HU-_PM.json\n",
      "-0.063431635 0.06305041 0.00073330535 0.000734192071641564\n",
      "02-07-2021--05--29-E2E_LSTM_ValSet_100.0-ALPHA0.1-BETA_SD17-147Epochs-rlf-Loss-64-HU-_PM.json\n",
      "-0.063431635 0.06305041 0.00073330535 -0.012961350766381894\n",
      "02-07-2021--05--41-E2E_LSTM_ValSet_100.0-ALPHA0-BETA_SD17-220Epochs-rlf-Loss-64-HU-_PM.json\n",
      "-0.063431635 0.06305041 0.00073330535 0.017459698069157394\n",
      "02-07-2021--05--54-E2E_LSTM_ValSet_100.0-ALPHA1.0-BETA_SD17-272Epochs-rlf-Loss-64-HU-_PM.json\n",
      "-0.063431635 0.06305041 0.00073330535 -0.022031896180980018\n",
      "02-07-2021--06--07-E2E_LSTM_ValSet_100.0-ALPHA100.0-BETA_SD17-277Epochs-rlf-Loss-64-HU-_PM.json\n",
      "-0.063431635 0.06305041 0.00073330535 -0.01907336622422555\n",
      "02-07-2021--06--20-E2E_LSTM_ValSet_100.0-ALPHA1000.0-BETA_SD17-277Epochs-rlf-Loss-64-HU-_PM.json\n",
      "-0.063431635 0.06305041 0.00073330535 -0.01893672945599522\n",
      "02-07-2021--06--34-E2E_LSTM_ValSet_1.0-ALPHA0.0001-BETA_SD17-355Epochs-rlf-Loss-64-HU-_PM.json\n",
      "-0.063431635 0.06305041 0.00073330535 0.0024448825027207767\n",
      "02-07-2021--06--47-E2E_LSTM_ValSet_1.0-ALPHA0.001-BETA_SD17-271Epochs-rlf-Loss-64-HU-_PM.json\n",
      "-0.063431635 0.06305041 0.00073330535 -0.0007567798302796505\n",
      "02-07-2021--07--00-E2E_LSTM_ValSet_1.0-ALPHA0.01-BETA_SD17-273Epochs-rlf-Loss-64-HU-_PM.json\n",
      "-0.063431635 0.06305041 0.00073330535 -0.022768050141547338\n",
      "02-07-2021--07--14-E2E_LSTM_ValSet_1.0-ALPHA0.1-BETA_SD17-373Epochs-rlf-Loss-64-HU-_PM.json\n",
      "-0.063431635 0.06305041 0.00073330535 -0.022535392649135448\n",
      "02-07-2021--07--27-E2E_LSTM_ValSet_1.0-ALPHA0-BETA_SD17-336Epochs-rlf-Loss-64-HU-_PM.json\n",
      "-0.063431635 0.06305041 0.00073330535 -0.0012692825533365953\n",
      "02-07-2021--07--40-E2E_LSTM_ValSet_1.0-ALPHA1.0-BETA_SD17-277Epochs-rlf-Loss-64-HU-_PM.json\n",
      "-0.063431635 0.06305041 0.00073330535 -0.01893991436463099\n",
      "02-07-2021--07--53-E2E_LSTM_ValSet_1.0-ALPHA100.0-BETA_SD17-277Epochs-rlf-Loss-64-HU-_PM.json\n",
      "-0.063431635 0.06305041 0.00073330535 -0.01893672945599522\n",
      "02-07-2021--08--06-E2E_LSTM_ValSet_1.0-ALPHA1000.0-BETA_SD17-277Epochs-rlf-Loss-64-HU-_PM.json\n",
      "-0.063431635 0.06305041 0.00073330535 -0.01893672945599522\n",
      "02-07-2021--08--24-E2E_LSTM_ValSet_0.1-ALPHA0.0001-BETA_SD17-705Epochs-rlf-Loss-64-HU-_PM.json\n",
      "-0.063431635 0.06305041 0.00073330535 -0.0008534362378531727\n",
      "02-07-2021--08--39-E2E_LSTM_ValSet_0.1-ALPHA0.001-BETA_SD17-402Epochs-rlf-Loss-64-HU-_PM.json\n",
      "-0.063431635 0.06305041 0.00073330535 -0.021245813133230044\n",
      "02-07-2021--08--53-E2E_LSTM_ValSet_0.1-ALPHA0.01-BETA_SD17-374Epochs-rlf-Loss-64-HU-_PM.json\n",
      "-0.063431635 0.06305041 0.00073330535 -0.021349584534642547\n",
      "02-07-2021--09--07-E2E_LSTM_ValSet_0.1-ALPHA0.1-BETA_SD17-373Epochs-rlf-Loss-64-HU-_PM.json\n",
      "-0.063431635 0.06305041 0.00073330535 -0.022181066842308403\n",
      "02-07-2021--09--21-E2E_LSTM_ValSet_0.1-ALPHA0-BETA_SD17-346Epochs-rlf-Loss-64-HU-_PM.json\n",
      "-0.063431635 0.06305041 0.00073330535 0.016546011973391943\n",
      "02-07-2021--09--34-E2E_LSTM_ValSet_0.1-ALPHA1.0-BETA_SD17-277Epochs-rlf-Loss-64-HU-_PM.json\n",
      "-0.063431635 0.06305041 0.00073330535 -0.01893991436463099\n",
      "02-07-2021--09--47-E2E_LSTM_ValSet_0.1-ALPHA100.0-BETA_SD17-277Epochs-rlf-Loss-64-HU-_PM.json\n",
      "-0.063431635 0.06305041 0.00073330535 -0.01893672945599522\n",
      "02-07-2021--10--00-E2E_LSTM_ValSet_0.1-ALPHA1000.0-BETA_SD17-277Epochs-rlf-Loss-64-HU-_PM.json\n",
      "-0.063431635 0.06305041 0.00073330535 -0.01893672945599522\n",
      "02-07-2021--10--14-E2E_LSTM_ValSet_0.01-ALPHA0.0001-BETA_SD17-416Epochs-rlf-Loss-64-HU-_PM.json\n",
      "-0.063431635 0.06305041 0.00073330535 -0.0158590392497394\n",
      "02-07-2021--10--30-E2E_LSTM_ValSet_0.01-ALPHA0.001-BETA_SD17-482Epochs-rlf-Loss-64-HU-_PM.json\n",
      "-0.063431635 0.06305041 0.00073330535 -0.020356811698696582\n",
      "02-07-2021--10--44-E2E_LSTM_ValSet_0.01-ALPHA0.01-BETA_SD17-265Epochs-rlf-Loss-64-HU-_PM.json\n",
      "-0.063431635 0.06305041 0.00073330535 -0.0168847409656212\n",
      "02-07-2021--10--58-E2E_LSTM_ValSet_0.01-ALPHA0.1-BETA_SD17-373Epochs-rlf-Loss-64-HU-_PM.json\n",
      "-0.063431635 0.06305041 0.00073330535 -0.022164561700158042\n",
      "02-07-2021--11--09-E2E_LSTM_ValSet_0.01-ALPHA0-BETA_SD17-101Epochs-rlf-Loss-64-HU-_PM.json\n",
      "-0.063431635 0.06305041 0.00073330535 0.00641208066914331\n",
      "02-07-2021--11--22-E2E_LSTM_ValSet_0.01-ALPHA1.0-BETA_SD17-277Epochs-rlf-Loss-64-HU-_PM.json\n",
      "-0.063431635 0.06305041 0.00073330535 -0.01893991436463099\n",
      "02-07-2021--11--35-E2E_LSTM_ValSet_0.01-ALPHA100.0-BETA_SD17-277Epochs-rlf-Loss-64-HU-_PM.json\n",
      "-0.063431635 0.06305041 0.00073330535 -0.01893672945599522\n",
      "02-07-2021--11--48-E2E_LSTM_ValSet_0.01-ALPHA1000.0-BETA_SD17-277Epochs-rlf-Loss-64-HU-_PM.json\n",
      "-0.063431635 0.06305041 0.00073330535 -0.01893672945599522\n",
      "02-07-2021--12--03-E2E_LSTM_ValSet_0.001-ALPHA0.0001-BETA_SD17-418Epochs-rlf-Loss-64-HU-_PM.json\n",
      "-0.063431635 0.06305041 0.00073330535 -0.015267226124373326\n",
      "02-07-2021--12--20-E2E_LSTM_ValSet_0.001-ALPHA0.001-BETA_SD17-496Epochs-rlf-Loss-64-HU-_PM.json\n",
      "-0.063431635 0.06305041 0.00073330535 -0.019590217133453634\n",
      "02-07-2021--12--40-E2E_LSTM_ValSet_0.001-ALPHA0.01-BETA_SD17-265Epochs-rlf-Loss-64-HU-_PM.json\n",
      "-0.063431635 0.06305041 0.00073330535 -0.01692303452266797\n",
      "02-07-2021--15--32-E2E_LSTM_ValSet_1000.0-ALPHA0.0001-BETA_SD100998-30Epochs-rlf-Loss-64-HU-_PM.json\n",
      "-0.063431635 0.06305041 0.00073330535 -0.0013017220955434882\n",
      "02-07-2021--16--02-E2E_LSTM_ValSet_1000.0-ALPHA0.0001-BETA_SD100998-30Epochs-rlf-Loss-64-HU-_PM.json\n"
     ]
    },
    {
     "name": "stdout",
     "output_type": "stream",
     "text": [
      "-0.063431635 0.06305041 0.00073330535 -0.0012984861394073175\n",
      "02-07-2021--16--16-E2E_LSTM_ValSet_1000.0-ALPHA0.001-BETA_SD100998-30Epochs-rlf-Loss-64-HU-_PM.json\n",
      "-0.063431635 0.06305041 0.00073330535 -0.0013118981069590733\n",
      "02-07-2021--16--30-E2E_LSTM_ValSet_1000.0-ALPHA0.01-BETA_SD100998-30Epochs-rlf-Loss-64-HU-_PM.json\n",
      "-0.063431635 0.06305041 0.00073330535 -0.0013076133726547424\n",
      "02-07-2021--16--43-E2E_LSTM_ValSet_1000.0-ALPHA0.1-BETA_SD100998-20Epochs-rlf-Loss-64-HU-_PM.json\n",
      "-0.063431635 0.06305041 0.00073330535 -0.002162882447152572\n",
      "02-07-2021--16--57-E2E_LSTM_ValSet_1000.0-ALPHA0-BETA_SD100998-30Epochs-rlf-Loss-64-HU-_PM.json\n",
      "-0.063431635 0.06305041 0.00073330535 -0.0013145349913233362\n",
      "02-07-2021--17--12-E2E_LSTM_ValSet_1000.0-ALPHA1.0-BETA_SD100998-60Epochs-rlf-Loss-64-HU-_PM.json\n",
      "-0.063431635 0.06305041 0.00073330535 -0.0017946719832442931\n",
      "02-07-2021--17--26-E2E_LSTM_ValSet_1000.0-ALPHA10.0-BETA_SD100998-50Epochs-rlf-Loss-64-HU-_PM.json\n",
      "-0.063431635 0.06305041 0.00073330535 0.0005233500338672338\n",
      "02-07-2021--17--41-E2E_LSTM_ValSet_1000.0-ALPHA100.0-BETA_SD100998-60Epochs-rlf-Loss-64-HU-_PM.json\n",
      "-0.063431635 0.06305041 0.00073330535 0.0005233500338672338\n",
      "02-07-2021--17--55-E2E_LSTM_ValSet_100.0-ALPHA0.0001-BETA_SD100998-30Epochs-rlf-Loss-64-HU-_PM.json\n",
      "-0.063431635 0.06305041 0.00073330535 -0.0014497211879785812\n",
      "02-07-2021--18--10-E2E_LSTM_ValSet_100.0-ALPHA0.001-BETA_SD100998-30Epochs-rlf-Loss-64-HU-_PM.json\n",
      "-0.063431635 0.06305041 0.00073330535 -0.0016683131301630245\n",
      "02-07-2021--18--24-E2E_LSTM_ValSet_100.0-ALPHA0.01-BETA_SD100998-20Epochs-rlf-Loss-64-HU-_PM.json\n",
      "-0.063431635 0.06305041 0.00073330535 -0.00032705381163158166\n",
      "02-07-2021--18--39-E2E_LSTM_ValSet_100.0-ALPHA0.1-BETA_SD100998-60Epochs-rlf-Loss-64-HU-_PM.json\n",
      "-0.063431635 0.06305041 0.00073330535 -0.00186516004308276\n",
      "02-07-2021--18--53-E2E_LSTM_ValSet_100.0-ALPHA0-BETA_SD100998-30Epochs-rlf-Loss-64-HU-_PM.json\n",
      "-0.063431635 0.06305041 0.00073330535 -0.0015581877945140127\n",
      "02-07-2021--19--08-E2E_LSTM_ValSet_100.0-ALPHA1.0-BETA_SD100998-50Epochs-rlf-Loss-64-HU-_PM.json\n",
      "-0.063431635 0.06305041 0.00073330535 0.0005233500338672338\n",
      "02-07-2021--19--23-E2E_LSTM_ValSet_100.0-ALPHA10.0-BETA_SD100998-60Epochs-rlf-Loss-64-HU-_PM.json\n",
      "-0.063431635 0.06305041 0.00073330535 0.0005233500338672338\n",
      "02-07-2021--19--37-E2E_LSTM_ValSet_100.0-ALPHA1000.0-BETA_SD100998-50Epochs-rlf-Loss-64-HU-_PM.json\n",
      "-0.063431635 0.06305041 0.00073330535 0.0005560759573853788\n",
      "02-07-2021--19--51-E2E_LSTM_ValSet_10.0-ALPHA0.0001-BETA_SD100998-30Epochs-rlf-Loss-64-HU-_PM.json\n",
      "-0.063431635 0.06305041 0.00073330535 -1.4725979686249809e-05\n",
      "02-07-2021--20--05-E2E_LSTM_ValSet_10.0-ALPHA0.001-BETA_SD100998-20Epochs-rlf-Loss-64-HU-_PM.json\n",
      "-0.063431635 0.06305041 0.00073330535 -0.00011614164116336231\n",
      "02-07-2021--20--20-E2E_LSTM_ValSet_10.0-ALPHA0.01-BETA_SD100998-50Epochs-rlf-Loss-64-HU-_PM.json\n",
      "-0.063431635 0.06305041 0.00073330535 -0.0011243373807101188\n",
      "02-07-2021--20--35-E2E_LSTM_ValSet_10.0-ALPHA0.1-BETA_SD100998-50Epochs-rlf-Loss-64-HU-_PM.json\n",
      "-0.063431635 0.06305041 0.00073330535 0.0005233500338672338\n",
      "02-07-2021--20--49-E2E_LSTM_ValSet_10.0-ALPHA0-BETA_SD100998-30Epochs-rlf-Loss-64-HU-_PM.json\n",
      "-0.063431635 0.06305041 0.00073330535 7.032219733458144e-05\n",
      "02-07-2021--21--04-E2E_LSTM_ValSet_10.0-ALPHA1.0-BETA_SD100998-60Epochs-rlf-Loss-64-HU-_PM.json\n",
      "-0.063431635 0.06305041 0.00073330535 0.0005233500338672338\n",
      "02-07-2021--21--19-E2E_LSTM_ValSet_10.0-ALPHA100.0-BETA_SD100998-50Epochs-rlf-Loss-64-HU-_PM.json\n",
      "-0.063431635 0.06305041 0.00073330535 0.0005560759573853788\n",
      "02-07-2021--21--34-E2E_LSTM_ValSet_10.0-ALPHA1000.0-BETA_SD100998-50Epochs-rlf-Loss-64-HU-_PM.json\n",
      "-0.063431635 0.06305041 0.00073330535 0.0005560759573853788\n",
      "02-07-2021--21--48-E2E_LSTM_ValSet_1.0-ALPHA0.0001-BETA_SD100998-20Epochs-rlf-Loss-64-HU-_PM.json\n",
      "-0.063431635 0.06305041 0.00073330535 -0.002203297048896168\n",
      "02-07-2021--22--15-E2E_LSTM_ValSet_1000.0-ALPHA0.0001-BETA_SD100998-18Epochs-rlf-Loss-64-HU-_PM.json\n",
      "-0.063431635 0.06305041 0.00073330535 0.00022391708839944948\n",
      "02-07-2021--22--30-E2E_LSTM_ValSet_1000.0-ALPHA0.001-BETA_SD100998-18Epochs-rlf-Loss-64-HU-_PM.json\n",
      "-0.063431635 0.06305041 0.00073330535 0.00027969103526998175\n",
      "02-07-2021--22--45-E2E_LSTM_ValSet_1000.0-ALPHA0.01-BETA_SD100998-18Epochs-rlf-Loss-64-HU-_PM.json\n",
      "-0.063431635 0.06305041 0.00073330535 0.0003159536526510279\n",
      "02-07-2021--22--59-E2E_LSTM_ValSet_1000.0-ALPHA0.1-BETA_SD100998-6Epochs-rlf-Loss-64-HU-_PM.json\n",
      "-0.063431635 0.06305041 0.00073330535 -0.005692743906371593\n",
      "02-07-2021--23--13-E2E_LSTM_ValSet_1000.0-ALPHA0-BETA_SD100998-18Epochs-rlf-Loss-64-HU-_PM.json\n",
      "-0.063431635 0.06305041 0.00073330535 0.00022391708839944948\n",
      "02-07-2021--23--27-E2E_LSTM_ValSet_1000.0-ALPHA1.0-BETA_SD100998-42Epochs-rlf-Loss-64-HU-_PM.json\n",
      "-0.063431635 0.06305041 0.00073330535 -0.0012051073876719349\n",
      "02-07-2021--23--42-E2E_LSTM_ValSet_1000.0-ALPHA10.0-BETA_SD100998-42Epochs-rlf-Loss-64-HU-_PM.json\n",
      "-0.063431635 0.06305041 0.00073330535 0.0005233500338672338\n",
      "02-07-2021--23--57-E2E_LSTM_ValSet_1000.0-ALPHA100.0-BETA_SD100998-48Epochs-rlf-Loss-64-HU-_PM.json\n",
      "-0.063431635 0.06305041 0.00073330535 0.0005233500338672338\n",
      "02-08-2021--00--11-E2E_LSTM_ValSet_100.0-ALPHA0.0001-BETA_SD100998-18Epochs-rlf-Loss-64-HU-_PM.json\n",
      "-0.063431635 0.06305041 0.00073330535 0.0001669306552179882\n",
      "02-08-2021--00--25-E2E_LSTM_ValSet_100.0-ALPHA0.001-BETA_SD100998-18Epochs-rlf-Loss-64-HU-_PM.json\n",
      "-0.063431635 0.06305041 0.00073330535 0.0003405819999208534\n",
      "02-08-2021--00--38-E2E_LSTM_ValSet_100.0-ALPHA0.01-BETA_SD100998-6Epochs-rlf-Loss-64-HU-_PM.json\n",
      "-0.063431635 0.06305041 0.00073330535 -0.005692743906371593\n",
      "02-08-2021--00--53-E2E_LSTM_ValSet_100.0-ALPHA0.1-BETA_SD100998-42Epochs-rlf-Loss-64-HU-_PM.json\n",
      "-0.063431635 0.06305041 0.00073330535 -0.0012051073876719349\n",
      "02-08-2021--01--07-E2E_LSTM_ValSet_100.0-ALPHA0-BETA_SD100998-18Epochs-rlf-Loss-64-HU-_PM.json\n",
      "-0.063431635 0.06305041 0.00073330535 0.0001669306552179882\n",
      "02-08-2021--01--21-E2E_LSTM_ValSet_100.0-ALPHA1.0-BETA_SD100998-42Epochs-rlf-Loss-64-HU-_PM.json\n",
      "-0.063431635 0.06305041 0.00073330535 0.0005233500338672338\n",
      "02-08-2021--01--36-E2E_LSTM_ValSet_100.0-ALPHA10.0-BETA_SD100998-48Epochs-rlf-Loss-64-HU-_PM.json\n",
      "-0.063431635 0.06305041 0.00073330535 0.0005233500338672338\n",
      "02-08-2021--01--51-E2E_LSTM_ValSet_100.0-ALPHA1000.0-BETA_SD100998-48Epochs-rlf-Loss-64-HU-_PM.json\n",
      "-0.063431635 0.06305041 0.00073330535 0.0005233500338672338\n",
      "02-08-2021--02--05-E2E_LSTM_ValSet_10.0-ALPHA0.0001-BETA_SD100998-18Epochs-rlf-Loss-64-HU-_PM.json\n",
      "-0.063431635 0.06305041 0.00073330535 -0.0007490742445476939\n",
      "02-08-2021--02--19-E2E_LSTM_ValSet_10.0-ALPHA0.001-BETA_SD100998-6Epochs-rlf-Loss-64-HU-_PM.json\n",
      "-0.063431635 0.06305041 0.00073330535 -0.006255654315597353\n",
      "02-08-2021--02--34-E2E_LSTM_ValSet_10.0-ALPHA0.01-BETA_SD100998-54Epochs-rlf-Loss-64-HU-_PM.json\n",
      "-0.063431635 0.06305041 0.00073330535 -0.004905262510398756\n",
      "02-08-2021--02--49-E2E_LSTM_ValSet_10.0-ALPHA0.1-BETA_SD100998-42Epochs-rlf-Loss-64-HU-_PM.json\n",
      "-0.063431635 0.06305041 0.00073330535 0.0005233500338672338\n",
      "02-08-2021--03--03-E2E_LSTM_ValSet_10.0-ALPHA0-BETA_SD100998-18Epochs-rlf-Loss-64-HU-_PM.json\n",
      "-0.063431635 0.06305041 0.00073330535 -0.0007580724621315835\n",
      "02-08-2021--03--18-E2E_LSTM_ValSet_10.0-ALPHA1.0-BETA_SD100998-48Epochs-rlf-Loss-64-HU-_PM.json\n",
      "-0.063431635 0.06305041 0.00073330535 0.0005233500338672338\n",
      "02-08-2021--03--33-E2E_LSTM_ValSet_10.0-ALPHA100.0-BETA_SD100998-48Epochs-rlf-Loss-64-HU-_PM.json\n",
      "-0.063431635 0.06305041 0.00073330535 0.0005233500338672338\n",
      "02-08-2021--03--48-E2E_LSTM_ValSet_10.0-ALPHA1000.0-BETA_SD100998-48Epochs-rlf-Loss-64-HU-_PM.json\n",
      "-0.063431635 0.06305041 0.00073330535 0.0005233500338672338\n",
      "02-08-2021--04--02-E2E_LSTM_ValSet_1.0-ALPHA0.0001-BETA_SD100998-6Epochs-rlf-Loss-64-HU-_PM.json\n",
      "-0.063431635 0.06305041 0.00073330535 -0.0060530748674638415\n",
      "02-08-2021--04--18-E2E_LSTM_ValSet_1.0-ALPHA0.001-BETA_SD100998-54Epochs-rlf-Loss-64-HU-_PM.json\n",
      "-0.063431635 0.06305041 0.00073330535 -0.0004328435251308191\n",
      "02-08-2021--04--33-E2E_LSTM_ValSet_1.0-ALPHA0.01-BETA_SD100998-48Epochs-rlf-Loss-64-HU-_PM.json\n",
      "-0.063431635 0.06305041 0.00073330535 0.000480335983892848\n",
      "02-08-2021--04--48-E2E_LSTM_ValSet_1.0-ALPHA0.1-BETA_SD100998-42Epochs-rlf-Loss-64-HU-_PM.json\n"
     ]
    },
    {
     "name": "stdout",
     "output_type": "stream",
     "text": [
      "-0.063431635 0.06305041 0.00073330535 0.0005233500338672338\n",
      "02-08-2021--05--02-E2E_LSTM_ValSet_1.0-ALPHA0-BETA_SD100998-18Epochs-rlf-Loss-64-HU-_PM.json\n",
      "-0.063431635 0.06305041 0.00073330535 -0.0006326078299358426\n",
      "02-08-2021--05--18-E2E_LSTM_ValSet_1.0-ALPHA10.0-BETA_SD100998-48Epochs-rlf-Loss-64-HU-_PM.json\n",
      "-0.063431635 0.06305041 0.00073330535 0.0005233500338672338\n",
      "02-08-2021--05--33-E2E_LSTM_ValSet_1.0-ALPHA100.0-BETA_SD100998-48Epochs-rlf-Loss-64-HU-_PM.json\n",
      "-0.063431635 0.06305041 0.00073330535 0.0005233500338672338\n",
      "02-08-2021--05--48-E2E_LSTM_ValSet_1.0-ALPHA1000.0-BETA_SD100998-48Epochs-rlf-Loss-64-HU-_PM.json\n",
      "-0.063431635 0.06305041 0.00073330535 0.0005233500338672338\n",
      "02-08-2021--06--03-E2E_LSTM_ValSet_0.1-ALPHA0.0001-BETA_SD100998-42Epochs-rlf-Loss-64-HU-_PM.json\n",
      "-0.063431635 0.06305041 0.00073330535 -0.0004328435251308191\n",
      "02-08-2021--06--19-E2E_LSTM_ValSet_0.1-ALPHA0.001-BETA_SD100998-42Epochs-rlf-Loss-64-HU-_PM.json\n",
      "-0.063431635 0.06305041 0.00073330535 0.0005560759573853788\n",
      "02-08-2021--06--34-E2E_LSTM_ValSet_0.1-ALPHA0.01-BETA_SD100998-54Epochs-rlf-Loss-64-HU-_PM.json\n",
      "-0.063431635 0.06305041 0.00073330535 0.000480335983892848\n",
      "02-08-2021--06--48-E2E_LSTM_ValSet_0.1-ALPHA0-BETA_SD100998-12Epochs-rlf-Loss-64-HU-_PM.json\n",
      "-0.063431635 0.06305041 0.00073330535 -0.005903736260864927\n",
      "02-08-2021--07--04-E2E_LSTM_ValSet_0.1-ALPHA1.0-BETA_SD100998-48Epochs-rlf-Loss-64-HU-_PM.json\n",
      "-0.063431635 0.06305041 0.00073330535 0.0005233500338672338\n",
      "02-08-2021--07--20-E2E_LSTM_ValSet_0.1-ALPHA10.0-BETA_SD100998-48Epochs-rlf-Loss-64-HU-_PM.json\n",
      "-0.063431635 0.06305041 0.00073330535 0.0005233500338672338\n",
      "02-08-2021--07--35-E2E_LSTM_ValSet_0.1-ALPHA100.0-BETA_SD100998-48Epochs-rlf-Loss-64-HU-_PM.json\n",
      "-0.063431635 0.06305041 0.00073330535 0.0005233500338672338\n",
      "02-08-2021--07--51-E2E_LSTM_ValSet_0.1-ALPHA1000.0-BETA_SD100998-48Epochs-rlf-Loss-64-HU-_PM.json\n",
      "-0.063431635 0.06305041 0.00073330535 0.0005233500338672338\n",
      "02-08-2021--08--07-E2E_LSTM_ValSet_0.01-ALPHA0.0001-BETA_SD100998-54Epochs-rlf-Loss-64-HU-_PM.json\n",
      "-0.063431635 0.06305041 0.00073330535 0.00039490970017866297\n",
      "02-08-2021--08--23-E2E_LSTM_ValSet_0.01-ALPHA0.001-BETA_SD100998-48Epochs-rlf-Loss-64-HU-_PM.json\n",
      "-0.063431635 0.06305041 0.00073330535 0.0005560759573853788\n",
      "02-08-2021--08--39-E2E_LSTM_ValSet_0.01-ALPHA0.1-BETA_SD100998-48Epochs-rlf-Loss-64-HU-_PM.json\n",
      "-0.063431635 0.06305041 0.00073330535 0.0005233500338672338\n",
      "02-08-2021--08--53-E2E_LSTM_ValSet_0.01-ALPHA0-BETA_SD100998-12Epochs-rlf-Loss-64-HU-_PM.json\n",
      "-0.063431635 0.06305041 0.00073330535 -0.005867820404590948\n",
      "02-08-2021--09--09-E2E_LSTM_ValSet_0.01-ALPHA1.0-BETA_SD100998-48Epochs-rlf-Loss-64-HU-_PM.json\n",
      "-0.063431635 0.06305041 0.00073330535 0.0005233500338672338\n",
      "02-08-2021--09--26-E2E_LSTM_ValSet_0.01-ALPHA10.0-BETA_SD100998-48Epochs-rlf-Loss-64-HU-_PM.json\n",
      "-0.063431635 0.06305041 0.00073330535 0.0005233500338672338\n",
      "02-08-2021--09--42-E2E_LSTM_ValSet_0.01-ALPHA100.0-BETA_SD100998-48Epochs-rlf-Loss-64-HU-_PM.json\n",
      "-0.063431635 0.06305041 0.00073330535 0.0005233500338672338\n",
      "02-08-2021--10--00-E2E_LSTM_ValSet_0.01-ALPHA1000.0-BETA_SD100998-48Epochs-rlf-Loss-64-HU-_PM.json\n",
      "-0.063431635 0.06305041 0.00073330535 0.0005233500338672338\n",
      "02-08-2021--10--18-E2E_LSTM_ValSet_0.001-ALPHA0.0001-BETA_SD100998-60Epochs-rlf-Loss-64-HU-_PM.json\n",
      "-0.063431635 0.06305041 0.00073330535 0.00039490970017866297\n",
      "02-08-2021--10--37-E2E_LSTM_ValSet_0.001-ALPHA0.01-BETA_SD100998-54Epochs-rlf-Loss-64-HU-_PM.json\n",
      "-0.063431635 0.06305041 0.00073330535 0.000480335983892848\n",
      "02-08-2021--10--54-E2E_LSTM_ValSet_0.001-ALPHA0.1-BETA_SD100998-48Epochs-rlf-Loss-64-HU-_PM.json\n",
      "-0.063431635 0.06305041 0.00073330535 0.0005233500338672338\n",
      "02-08-2021--11--09-E2E_LSTM_ValSet_0.001-ALPHA0-BETA_SD100998-6Epochs-rlf-Loss-64-HU-_PM.json\n",
      "-0.063431635 0.06305041 0.00073330535 -0.0057093362776475835\n",
      "02-08-2021--11--26-E2E_LSTM_ValSet_0.001-ALPHA1.0-BETA_SD100998-48Epochs-rlf-Loss-64-HU-_PM.json\n",
      "-0.063431635 0.06305041 0.00073330535 0.0005233500338672338\n",
      "02-08-2021--11--43-E2E_LSTM_ValSet_0.001-ALPHA10.0-BETA_SD100998-48Epochs-rlf-Loss-64-HU-_PM.json\n",
      "-0.063431635 0.06305041 0.00073330535 0.0005233500338672338\n",
      "02-08-2021--12--01-E2E_LSTM_ValSet_0.001-ALPHA100.0-BETA_SD100998-48Epochs-rlf-Loss-64-HU-_PM.json\n",
      "-0.063431635 0.06305041 0.00073330535 0.0005233500338672338\n",
      "02-08-2021--12--19-E2E_LSTM_ValSet_0.001-ALPHA1000.0-BETA_SD100998-48Epochs-rlf-Loss-64-HU-_PM.json\n",
      "-0.063431635 0.06305041 0.00073330535 0.0005233500338672338\n",
      "02-08-2021--12--36-E2E_LSTM_ValSet_0.0001-ALPHA0.001-BETA_SD100998-48Epochs-rlf-Loss-64-HU-_PM.json\n",
      "-0.063431635 0.06305041 0.00073330535 0.0005560759573853788\n",
      "02-08-2021--12--53-E2E_LSTM_ValSet_0.0001-ALPHA0.01-BETA_SD100998-54Epochs-rlf-Loss-64-HU-_PM.json\n",
      "-0.063431635 0.06305041 0.00073330535 0.000480335983892848\n",
      "02-08-2021--13--12-E2E_LSTM_ValSet_0.0001-ALPHA0.1-BETA_SD100998-48Epochs-rlf-Loss-64-HU-_PM.json\n",
      "-0.063431635 0.06305041 0.00073330535 0.0005233500338672338\n",
      "02-08-2021--13--27-E2E_LSTM_ValSet_0.0001-ALPHA0-BETA_SD100998-6Epochs-rlf-Loss-64-HU-_PM.json\n",
      "-0.063431635 0.06305041 0.00073330535 -0.00586821108261729\n",
      "02-08-2021--13--44-E2E_LSTM_ValSet_0.0001-ALPHA1.0-BETA_SD100998-48Epochs-rlf-Loss-64-HU-_PM.json\n",
      "-0.063431635 0.06305041 0.00073330535 0.0005233500338672338\n",
      "02-08-2021--14--01-E2E_LSTM_ValSet_0.0001-ALPHA10.0-BETA_SD100998-48Epochs-rlf-Loss-64-HU-_PM.json\n",
      "-0.063431635 0.06305041 0.00073330535 0.0005233500338672338\n",
      "02-08-2021--14--19-E2E_LSTM_ValSet_0.0001-ALPHA100.0-BETA_SD100998-48Epochs-rlf-Loss-64-HU-_PM.json\n",
      "-0.063431635 0.06305041 0.00073330535 0.0005233500338672338\n",
      "02-08-2021--14--38-E2E_LSTM_ValSet_0.0001-ALPHA1000.0-BETA_SD100998-48Epochs-rlf-Loss-64-HU-_PM.json\n",
      "-0.063431635 0.06305041 0.00073330535 0.0005233500338672338\n",
      "02-08-2021--15--00-E2E_LSTM_ValSet_0-ALPHA0.0001-BETA_SD100998-60Epochs-rlf-Loss-64-HU-_PM.json\n",
      "-0.063431635 0.06305041 0.00073330535 0.00039490970017866297\n"
     ]
    }
   ],
   "source": [
    "import os\n",
    "[f for f in os.listdir('./ignorable_data/prediction_results/') if f.endswith('.json')]\n",
    "\n",
    "GP.mass_generate_model_diagnostics(\"./ignorable_data/prediction_results/\", \"./ignorable_data/UPDATED_RETURN_RATIO_CALC/\", starting_item=None)"
   ]
  },
  {
   "cell_type": "code",
   "execution_count": null,
   "metadata": {},
   "outputs": [],
   "source": []
  }
 ],
 "metadata": {
  "kernelspec": {
   "display_name": "Python 3",
   "language": "python",
   "name": "python3"
  },
  "language_info": {
   "codemirror_mode": {
    "name": "ipython",
    "version": 3
   },
   "file_extension": ".py",
   "mimetype": "text/x-python",
   "name": "python",
   "nbconvert_exporter": "python",
   "pygments_lexer": "ipython3",
   "version": "3.8.5"
  },
  "pycharm": {
   "stem_cell": {
    "cell_type": "raw",
    "metadata": {
     "collapsed": false
    },
    "source": []
   }
  }
 },
 "nbformat": 4,
 "nbformat_minor": 4
}
