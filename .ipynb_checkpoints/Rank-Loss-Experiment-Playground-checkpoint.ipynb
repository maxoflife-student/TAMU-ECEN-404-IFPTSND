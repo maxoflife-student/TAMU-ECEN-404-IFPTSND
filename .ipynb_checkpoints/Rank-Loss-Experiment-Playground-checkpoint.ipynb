{
 "cells": [
  {
   "cell_type": "code",
   "execution_count": 1,
   "metadata": {},
   "outputs": [
    {
     "data": {
      "text/html": [
       "<style>.container { width:100% !important; }</style>"
      ],
      "text/plain": [
       "<IPython.core.display.HTML object>"
      ]
     },
     "metadata": {},
     "output_type": "display_data"
    },
    {
     "data": {
      "application/vnd.jupyter.widget-view+json": {
       "model_id": "959edd1bd075471bbab40c9574e93e44",
       "version_major": 2,
       "version_minor": 0
      },
      "text/plain": [
       "GridBox(children=(Dropdown(description='Model Types:', options=('lstm', 'lstm_gcn_1', 'lstm_gcn_2', 'lstm_gcn_…"
      ]
     },
     "metadata": {},
     "output_type": "display_data"
    },
    {
     "name": "stdout",
     "output_type": "stream",
     "text": [
      "Model: \"functional_1\"\n",
      "_________________________________________________________________\n",
      "Layer (type)                 Output Shape              Param #   \n",
      "=================================================================\n",
      "input_1 (InputLayer)         [(None, 1239, 5)]         0         \n",
      "_________________________________________________________________\n",
      "lstm_2 (LSTM)                (None, 1239, 64)          17920     \n",
      "_________________________________________________________________\n",
      "dropout (Dropout)            (None, 1239, 64)          0         \n",
      "_________________________________________________________________\n",
      "lstm_3 (LSTM)                (None, 64)                33024     \n",
      "_________________________________________________________________\n",
      "dropout_1 (Dropout)          (None, 64)                0         \n",
      "_________________________________________________________________\n",
      "dense_2 (Dense)              (None, 1)                 65        \n",
      "=================================================================\n",
      "Total params: 51,009\n",
      "Trainable params: 51,009\n",
      "Non-trainable params: 0\n",
      "_________________________________________________________________\n"
     ]
    }
   ],
   "source": [
    "# Ignore cuDDa warning messages\n",
    "import warnings\n",
    "warnings.filterwarnings('ignore')\n",
    "\n",
    "# Enable GPU\n",
    "import tensorflow as tf\n",
    "physical_devices = tf.config.list_physical_devices('GPU') \n",
    "tf.config.experimental.set_memory_growth(physical_devices[0], True)\n",
    "\n",
    "# Expands the Jupyter Notebook Output Size to fit your window\n",
    "from IPython.core.display import display, HTML\n",
    "display(HTML(\"<style>.container { width:100% !important; }</style>\"))\n",
    "\n",
    "from tensorflow_models import TF_Models, Ein_Multiply, leaky_relu, rank_loss_func\n",
    "DMJ = TF_Models('./data_sets/NASDAQ_Cleaned', './models', reload=False)\n",
    "data_splits = DMJ.split_data()\n",
    "model = DMJ.generate_model()"
   ]
  },
  {
   "cell_type": "code",
   "execution_count": 4,
   "metadata": {
    "scrolled": false
   },
   "outputs": [
    {
     "name": "stdout",
     "output_type": "stream",
     "text": [
      "Epoch 1/10\n",
      "1/1 [==============================] - 0s 98ms/step - loss: 0.1205 - val_loss: 0.0593\n",
      "Epoch 2/10\n",
      "1/1 [==============================] - 0s 80ms/step - loss: 0.1298 - val_loss: 0.0590\n",
      "Epoch 3/10\n",
      "1/1 [==============================] - 0s 79ms/step - loss: 0.1172 - val_loss: 0.0588\n",
      "Epoch 4/10\n",
      "1/1 [==============================] - 0s 80ms/step - loss: 0.1177 - val_loss: 0.0586\n",
      "Epoch 5/10\n",
      "1/1 [==============================] - 0s 85ms/step - loss: 0.1237 - val_loss: 0.0584\n",
      "Epoch 6/10\n",
      "1/1 [==============================] - 0s 81ms/step - loss: 0.1278 - val_loss: 0.0583\n",
      "Epoch 7/10\n",
      "1/1 [==============================] - 0s 82ms/step - loss: 0.1292 - val_loss: 0.0583\n",
      "Epoch 8/10\n",
      "1/1 [==============================] - 0s 88ms/step - loss: 0.1238 - val_loss: 0.0582\n",
      "Epoch 9/10\n",
      "1/1 [==============================] - 0s 58ms/step - loss: 0.1159 - val_loss: 0.0582\n",
      "Epoch 10/10\n",
      "1/1 [==============================] - 0s 58ms/step - loss: 0.1141 - val_loss: 0.0582\n"
     ]
    }
   ],
   "source": [
    "# Setting an epoch and learning rate that will not train between experiments\n",
    "model = DMJ.train_model(epochs=10, learning_rate=1e-5)"
   ]
  },
  {
   "cell_type": "code",
   "execution_count": null,
   "metadata": {},
   "outputs": [],
   "source": [
    "# Saving the model\n",
    "DMJ.save_model(tag='Y_LABELS_PRICE_ALPHA_0_DROPOUT_80e-2}')"
   ]
  },
  {
   "cell_type": "code",
   "execution_count": null,
   "metadata": {
    "scrolled": true
   },
   "outputs": [],
   "source": [
    "# Generate a prediction class\n",
    "from graph_predictions import Graph_Predictions\n",
    "GP = Graph_Predictions(\"./models\", \"./strategies\", DMJ)"
   ]
  },
  {
   "cell_type": "code",
   "execution_count": null,
   "metadata": {
    "scrolled": true
   },
   "outputs": [],
   "source": [
    "items = ['01-08-2021--18--28--Y_LABELS_PRICE_ALPHA_0_DROPOUT_15e-2}--80Epochs--rlf-Loss--64-HU--',\n",
    "        ]\n",
    "\n",
    "# Generate prediction files\n",
    "for item in items:\n",
    "    GP.generate_prediction_json(item, neural_net_type='lstm')"
   ]
  },
  {
   "cell_type": "code",
   "execution_count": null,
   "metadata": {},
   "outputs": [],
   "source": [
    "avg = [1, 50, 200]\n",
    "# avg = [1]\n",
    "for a in avg:\n",
    "    for item in items:\n",
    "        GP.prediction_json_strategy(item + '_PM', average=a, avoid_fall=False, name_override=item + f'_PM_{a}AVG')"
   ]
  },
  {
   "cell_type": "code",
   "execution_count": null,
   "metadata": {},
   "outputs": [],
   "source": [
    "GP.save_results()\n",
    "GP.display_graph()"
   ]
  },
  {
   "cell_type": "code",
   "execution_count": null,
   "metadata": {},
   "outputs": [],
   "source": [
    "# Testing RLF on example stocks\n",
    "def rlf(y_actual, y_pred):\n",
    "    \n",
    "    '''Code is modified so that both vectors are clearly 1 dimension'''\n",
    "    # Slice the final predicted time step from the actual value\n",
    "    y_slice = y_actual\n",
    "    \n",
    "    # Make sure that casting is correct\n",
    "    y_slice = tf.cast(y_slice, dtype=tf.float32)\n",
    "    y_pred = tf.cast(y_pred, dtype=tf.float32)\n",
    "    \n",
    "    # Calculate return ratio\n",
    "    return_ratio = tf.math.divide(tf.math.subtract(y_pred, y_slice), y_slice)\n",
    "    \n",
    "    # Create an array of all_ones so that we can calculate all permutations of subtractions\n",
    "    all_ones = tf.ones([y_slice.shape[0], 1])\n",
    "\n",
    "    # Creates a N x N matrix with every predicted return ratio for each company subtracted with every other\n",
    "    # company\n",
    "    pred_dif = tf.math.subtract(\n",
    "        tf.matmul(return_ratio, all_ones, transpose_b=True),\n",
    "        tf.matmul(all_ones, return_ratio, transpose_b=True)\n",
    "    )\n",
    "    \n",
    "    print(pred_dif)\n",
    "\n",
    "    # Creates an N x N matrix containing every actual return ratio for each company subtracted with every other\n",
    "    # company By switching the order of the all_ones matricies and the actual prices, a negative sign is introduced\n",
    "    # When RELU is applied later, correct predictions will not affect loss while incorrect predictions will affect\n",
    "    # loss depending on how incorrect the prediction was\n",
    "    actual_dif = tf.math.subtract(\n",
    "        tf.matmul(all_ones, y_slice, transpose_b=True),\n",
    "        tf.matmul(y_slice, all_ones, transpose_b=True)\n",
    "    )\n",
    "    \n",
    "    print(actual_dif)\n",
    "\n",
    "    # Using the above two qualities, the algorithm can be punished for incorrectly calculating when a company is\n",
    "    # doing better than another company Reduces the mean across each dimension until only 1 value remains\n",
    "    rank_loss = tf.reduce_mean(\n",
    "        # Takes if a given value is >0, it is kept, otherwise, it becomes 0\n",
    "        tf.nn.relu(\n",
    "            tf.multiply(pred_dif, actual_dif)\n",
    "        )\n",
    "    )\n",
    "    print(tf.multiply(pred_dif, actual_dif))\n",
    "    print(rank_loss)"
   ]
  },
  {
   "cell_type": "code",
   "execution_count": null,
   "metadata": {},
   "outputs": [],
   "source": [
    "import numpy as np\n",
    "\n",
    "# Create numpy arrays to mimic the entity column ouput\n",
    "\n",
    "pred = np.array([5, 1, 5])\n",
    "actual = np.array([5, 1, 1])\n",
    "\n",
    "\n",
    "pred = np.reshape(pred, (pred.shape[0],1))\n",
    "actual = np.reshape(actual, (actual.shape[0],1))\n",
    "\n",
    "rlf(actual, pred)"
   ]
  },
  {
   "cell_type": "code",
   "execution_count": null,
   "metadata": {},
   "outputs": [],
   "source": []
  },
  {
   "cell_type": "code",
   "execution_count": null,
   "metadata": {},
   "outputs": [],
   "source": [
    "y_actual = np.array([1, 2, 3, 4, 5])\n",
    "y_actual = np.reshape(y_actual, (y_actual.shape[0], 1))\n",
    "\n",
    "y_1 = y_actual[:, -1:]\n",
    "y_2 = y_actual[:, -2:]"
   ]
  },
  {
   "cell_type": "code",
   "execution_count": null,
   "metadata": {},
   "outputs": [],
   "source": []
  }
 ],
 "metadata": {
  "kernelspec": {
   "display_name": "Python 3",
   "language": "python",
   "name": "python3"
  },
  "language_info": {
   "codemirror_mode": {
    "name": "ipython",
    "version": 3
   },
   "file_extension": ".py",
   "mimetype": "text/x-python",
   "name": "python",
   "nbconvert_exporter": "python",
   "pygments_lexer": "ipython3",
   "version": "3.8.5"
  }
 },
 "nbformat": 4,
 "nbformat_minor": 1
}
