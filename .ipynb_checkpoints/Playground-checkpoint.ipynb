{
 "cells": [
  {
   "cell_type": "code",
   "execution_count": 1,
   "metadata": {},
   "outputs": [
    {
     "data": {
      "text/html": [
       "<style>.container { width:100% !important; }</style>"
      ],
      "text/plain": [
       "<IPython.core.display.HTML object>"
      ]
     },
     "metadata": {},
     "output_type": "display_data"
    }
   ],
   "source": [
    "# Ignore cuDDa warning messages\n",
    "import warnings\n",
    "warnings.filterwarnings('ignore')\n",
    "\n",
    "# Enable GPU\n",
    "import tensorflow as tf\n",
    "physical_devices = tf.config.list_physical_devices('GPU') \n",
    "tf.config.experimental.set_memory_growth(physical_devices[0], True)\n",
    "\n",
    "# Expands the Jupyter Notebook Output Size to fit your window\n",
    "from IPython.core.display import display, HTML\n",
    "display(HTML(\"<style>.container { width:100% !important; }</style>\"))\n",
    "\n",
    "# Load in tensorboard\n",
    "%load_ext tensorboard"
   ]
  },
  {
   "cell_type": "code",
   "execution_count": null,
   "metadata": {},
   "outputs": [],
   "source": []
  },
  {
   "cell_type": "code",
   "execution_count": null,
   "metadata": {
    "scrolled": false
   },
   "outputs": [],
   "source": []
  },
  {
   "cell_type": "code",
   "execution_count": null,
   "metadata": {},
   "outputs": [],
   "source": []
  },
  {
   "cell_type": "code",
   "execution_count": 2,
   "metadata": {},
   "outputs": [
    {
     "data": {
      "application/vnd.jupyter.widget-view+json": {
       "model_id": "3a5e1558d2704a908427837c8d8decfa",
       "version_major": 2,
       "version_minor": 0
      },
      "text/plain": [
       "GridBox(children=(Dropdown(description='Model Types:', options=('lstm', 'lstm_gcn_1', 'lstm_gcn_2', 'lstm_gcn_…"
      ]
     },
     "metadata": {},
     "output_type": "display_data"
    }
   ],
   "source": [
    "from tensorflow_models import TF_Models, Ein_Multiply, leaky_relu, rank_loss_func\n",
    "DMJ = TF_Models('./data_sets/NASDAQ_Cleaned', './models', reload=False)\n",
    "data_splits = DMJ.split_data()\n",
    "model = DMJ.generate_model()"
   ]
  },
  {
   "cell_type": "code",
   "execution_count": null,
   "metadata": {
    "scrolled": true
   },
   "outputs": [],
   "source": [
    "# Generate an LSTM model\n",
    "# model = DMJ.generate_model(model_type='lstm', loss_function='mse', activation=leaky_relu)\n",
    "# model = DMJ.generate_model(model_type='lstm', loss_function=rank_loss_func(), activation=leaky_relu)\n",
    "\n",
    "# model = DMJ.generate_model(model_type='lstm_gcn_1', loss_function='mse', activation=leaky_relu, gcn_shape=DMJ.Normalized_Adjacency_Matrix.shape[0])\n",
    "# model = DMJ.generate_model(model_type='lstm_gcn_1', loss_function=rank_loss_func(), activation=leaky_relu, gcn_shape=DMJ.Normalized_Adjacency_Matrix.shape[0])\n",
    "# model = DMJ.generate_model(model_type='lstm_gcn_2', loss_function='mse', activation=leaky_relu, gcn_shape=DMJ.Normalized_Adjacency_Matrix.shape[0])\n",
    "# model = DMJ.generate_model(model_type='lstm_gcn_2', loss_function=rank_loss_func(), activation=leaky_relu, gcn_shape=DMJ.Normalized_Adjacency_Matrix.shape[0])\n",
    "\n",
    "# model = DMJ.generate_model(model_type='lstm_gcn_3', loss_function='mse', activation=leaky_relu, gcn_shape=DMJ.Normalized_Adjacency_Matrix.shape[0])\n",
    "# model = DMJ.generate_model(model_type='lstm_gcn_3', loss_function=rank_loss_func(), activation=leaky_relu, gcn_shape=DMJ.Normalized_Adjacency_Matrix.shape[0])"
   ]
  },
  {
   "cell_type": "code",
   "execution_count": null,
   "metadata": {},
   "outputs": [],
   "source": []
  },
  {
   "cell_type": "code",
   "execution_count": null,
   "metadata": {
    "scrolled": true
   },
   "outputs": [],
   "source": [
    "# Train the  model\n",
    "model = DMJ.train_model(epochs=500)\n",
    "# model = DMJ.train_model(model, data_splits['x_train'], data_splits['y_train'], data_splits['x_val'], data_splits['y_val'], epochs=50, learning_rate=5e-5, gcn_matrix=DMJ.Normalized_Adjacency_Matrix)"
   ]
  },
  {
   "cell_type": "code",
   "execution_count": null,
   "metadata": {},
   "outputs": [],
   "source": [
    "DMJ.save_model(tag='E2E_LSTM_VariedLR_RL_ALPHA_1_NOMSE')"
   ]
  },
  {
   "cell_type": "code",
   "execution_count": 3,
   "metadata": {},
   "outputs": [],
   "source": [
    "from graph_predictions import Graph_Predictions\n",
    "GP = Graph_Predictions(\"./models\", \"./strategies\", DMJ)"
   ]
  },
  {
   "cell_type": "code",
   "execution_count": null,
   "metadata": {
    "scrolled": true
   },
   "outputs": [],
   "source": [
    "# GP.strategy_ratio_lstm('11-22-2020--17--32--LSTM--50Epochs--mse-Loss--64-HU--None', avoid_fall=False, name_override='test_')\n",
    "# GP.strategy_ratio_lstm('11-22-2020--17--32--LSTM--50Epochs--mse-Loss--64-HU--None', avoid_fall=False, average=10, name_override='LSTM-MSE-50Epoch-Average10')\n",
    "# GP.strategy_ratio_lstm('11-22-2020--17--32--LSTM--50Epochs--mse-Loss--64-HU--None', avoid_fall=True, name_override='LSTM-MSE-50Epoch-AvoidFall')\n",
    "\n",
    "# GP.strategy_ratio_lstm('11-22-2020--14--55--LSTM-Rankloss--50Epochs--rlf-Loss--64-HU--', avoid_fall=False, name_override='LSTM-RankLoss-50Epoch')\n",
    "# GP.strategy_ratio_lstm('11-22-2020--14--55--LSTM-Rankloss--50Epochs--rlf-Loss--64-HU--', avoid_fall=False, average=10, name_override='LSTM-RankLoss-50Epoch-Average10')\n",
    "# GP.strategy_ratio_lstm('11-22-2020--14--55--LSTM-Rankloss--50Epochs--rlf-Loss--64-HU--', avoid_fall=True, name_override='LSTM-RankLoss-50Epoch-AvoidFall')\n",
    "\n",
    "# GP.strategy_ratio_gcn(r'11-22-2020--16--31--GCN1-MSE--50Epochs--mse-Loss--64-HU--', avoid_fall=False, average=10, name_override='GCN1-MSE-50Epoch-Average10')\n",
    "# GP.strategy_ratio_gcn(r'11-22-2020--16--31--GCN1-MSE--50Epochs--mse-Loss--64-HU--', avoid_fall=True, name_override='GCN1-MSE-50Epoch-AvoidFall')\n",
    "\n",
    "# GP.strategy_ratio_gcn(r'11-22-2020--16--34--GCN1-Rankloss--50Epochs--rlf-Loss--64-HU--', avoid_fall=False, average=10, name_override='GCN1-RankLoss-50Epoch-Average10')\n",
    "# GP.strategy_ratio_gcn(r'11-22-2020--16--34--GCN1-Rankloss--50Epochs--rlf-Loss--64-HU--', avoid_fall=True, name_override='GCN1-RankLoss-50Epoch-AvoidFall')\n",
    "\n",
    "# GP.strategy_ratio_gcn(r'11-22-2020--16--37--GCN2-MSE--50Epochs--mse-Loss--64-HU--', avoid_fall=False, average=10, name_override='GCN2-MSE-50Epoch-Average10')\n",
    "# GP.strategy_ratio_gcn(r'11-22-2020--16--37--GCN2-MSE--50Epochs--mse-Loss--64-HU--', avoid_fall=True, name_override='GCN2-MSE-50Epoch-AvoidFall')\n",
    "\n",
    "# GP.strategy_ratio_gcn(r'11-22-2020--16--39--GCN2-RankLoss--50Epochs--rlf-Loss--64-HU--', avoid_fall=False, average=10, name_override='GCN2-RankLoss-50Epoch-Average10')\n",
    "# GP.strategy_ratio_gcn(r'11-22-2020--16--39--GCN2-RankLoss--50Epochs--rlf-Loss--64-HU--', avoid_fall=True, name_override='GCN2-RankLoss-50Epoch-AvoidFall')\n",
    "\n",
    "# GP.strategy_ratio_gcn('11-22-2020--16--46--GCN3-MSE--50Epochs--mse-Loss--64-HU--', avoid_fall=False, average=10, name_override='GCN3-MSE-50Epoch-Average10')\n",
    "# GP.strategy_ratio_gcn(r'11-22-2020--16--46--GCN3-MSE--50Epochs--mse-Loss--64-HU--', avoid_fall=True, name_override='GCN3-MSE-50Epoch-AvoidFall-2ndBest')\n",
    "\n",
    "# GP.strategy_ratio_gcn('11-22-2020--16--43--GCN3-RankLoss--50Epochs--rlf-Loss--64-HU--', avoid_fall=False, average=10, name_override='GCN3-RankLoss-50Epoch-Average10')\n",
    "# GP.strategy_ratio_gcn(r'11-22-2020--16--43--GCN3-RankLoss--50Epochs--rlf-Loss--64-HU--', avoid_fall=True, name_override='GCN3-RankLoss-50Epoch-AvoidFall')\n",
    "\n",
    "# GP.strategy_ratio_gcn('11-22-2020--20--46--GCN3-MSE-Ratio+1--50Epochs--mse-Loss--64-HU--', avoid_fall=True, average=1, name_override='GCN3-MSE-200Epoch-Ratio+1')\n",
    "# GP.strategy_ratio_gcn('11-22-2020--20--43--GCN3-RankLoss-Ratio+1--50Epochs--rlf-Loss--64-HU--', avoid_fall=True, average=1, name_override='GCN3-RankLoss-200Epoch-Ratio+1')\n",
    "\n",
    "'''New prediction memory storage'''\n",
    "# GP.generate_prediction_json('11-22-2020--15--01--LSTM-MSE--50Epochs--mse-Loss--64-HU--', neural_net_type='lstm')\n",
    "# GP.generate_prediction_json('11-22-2020--16--46--GCN3-MSE--50Epochs--mse-Loss--64-HU--', neural_net_type='gcn')\n",
    "\n",
    "'''Seperately trained LSTM combo'''\n",
    "# GP.generate_prediction_json('01-04-2021--14--20--SEP_LSTM_GCN3-1e-5LR--70Epochs--mse-Loss--64-HU--', neural_net_type='gcn')\n",
    "\n",
    "''''''\n",
    "GP.generate_prediction_json('02-04-2021--15--11--E2E_LSTM_VariedLR_RL_ALPHA_1_NOMSE--500Epochs--rlf-Loss--64-HU--', neural_net_type='lstm')"
   ]
  },
  {
   "cell_type": "code",
   "execution_count": 4,
   "metadata": {
    "scrolled": true
   },
   "outputs": [
    {
     "name": "stdout",
     "output_type": "stream",
     "text": [
      "\n",
      "Loading PM Model: '02-04-2021--15--11--E2E_LSTM_VariedLR_RL_ALPHA_1_NOMSE--500Epochs--rlf-Loss--64-HU--_PM'\n",
      "Day: 1\t\tTotal: 100000 Buying: ['FNSR']\n",
      "Day: 2\t\tTotal: 50000 Buying: ['FNSR']\n",
      "Day: 3\t\tTotal: 51749 Buying: ['FNSR']\n",
      "Day: 4\t\tTotal: 53649 Buying: ['FNSR']\n",
      "Day: 5\t\tTotal: 54382 Buying: ['FNSR']\n",
      "Day: 6\t\tTotal: 55065 Buying: ['FNSR']\n",
      "Day: 7\t\tTotal: 55532 Buying: ['FNSR']\n",
      "Day: 8\t\tTotal: 55829 Buying: ['FNSR']\n",
      "Day: 9\t\tTotal: 56219 Buying: ['FNSR']\n",
      "Day: 10\t\tTotal: 56574 Buying: ['FNSR']\n",
      "Day: 11\t\tTotal: 56716 Buying: ['FNSR']\n",
      "Day: 12\t\tTotal: 57344 Buying: ['FNSR']\n",
      "Day: 13\t\tTotal: 57647 Buying: ['FNSR']\n",
      "Day: 14\t\tTotal: 57698 Buying: ['LWAY']\n",
      "Day: 15\t\tTotal: 57895 Buying: ['LWAY']\n",
      "Day: 16\t\tTotal: 58093 Buying: ['LWAY']\n",
      "Day: 17\t\tTotal: 58278 Buying: ['NXPI']\n",
      "Day: 18\t\tTotal: 57780 Buying: ['NXPI']\n",
      "Day: 19\t\tTotal: 58507 Buying: ['NXPI']\n",
      "Day: 20\t\tTotal: 58603 Buying: ['NXPI']\n",
      "Day: 21\t\tTotal: 58609 Buying: ['NXPI']\n",
      "Day: 22\t\tTotal: 58483 Buying: ['ZUMZ']\n",
      "Day: 23\t\tTotal: 58507 Buying: ['ICUI']\n",
      "Day: 24\t\tTotal: 58846 Buying: ['ZUMZ']\n",
      "Day: 25\t\tTotal: 58683 Buying: ['LWAY']\n",
      "Day: 26\t\tTotal: 58437 Buying: ['LWAY']\n",
      "Day: 27\t\tTotal: 59072 Buying: ['LWAY']\n",
      "Day: 28\t\tTotal: 59311 Buying: ['LWAY']\n",
      "Day: 29\t\tTotal: 59394 Buying: ['MMYT']\n",
      "Day: 30\t\tTotal: 59400 Buying: ['MMYT']\n",
      "Day: 31\t\tTotal: 62437 Buying: ['MMYT']\n",
      "Day: 32\t\tTotal: 62068 Buying: ['MMYT']\n",
      "Day: 33\t\tTotal: 62228 Buying: ['MMYT']\n",
      "Day: 34\t\tTotal: 62510 Buying: ['MMYT']\n",
      "Day: 35\t\tTotal: 62668 Buying: ['AKAM']\n",
      "Day: 36\t\tTotal: 62615 Buying: ['AKAM']\n",
      "Day: 37\t\tTotal: 63963 Buying: ['AKAM']\n",
      "Day: 38\t\tTotal: 63907 Buying: ['CPLA']\n",
      "Day: 39\t\tTotal: 63573 Buying: ['CPLA']\n",
      "Day: 40\t\tTotal: 64248 Buying: ['CPLA']\n",
      "Day: 41\t\tTotal: 64609 Buying: ['CPLA']\n",
      "Day: 42\t\tTotal: 64655 Buying: ['CPLA']\n",
      "Day: 43\t\tTotal: 65145 Buying: ['CPLA']\n",
      "Day: 44\t\tTotal: 65735 Buying: ['SGEN']\n",
      "Day: 45\t\tTotal: 66714 Buying: ['IONS']\n",
      "Day: 46\t\tTotal: 68229 Buying: ['IONS']\n",
      "Day: 47\t\tTotal: 72386 Buying: ['IONS']\n",
      "Day: 48\t\tTotal: 74039 Buying: ['IONS']\n",
      "Day: 49\t\tTotal: 75251 Buying: ['IONS']\n",
      "Day: 50\t\tTotal: 75805 Buying: ['IONS']\n",
      "Day: 51\t\tTotal: 75436 Buying: ['IONS']\n",
      "Day: 52\t\tTotal: 74451 Buying: ['PLCE']\n",
      "Day: 53\t\tTotal: 74411 Buying: ['PLCE']\n",
      "Day: 54\t\tTotal: 75044 Buying: ['PLCE']\n",
      "Day: 55\t\tTotal: 75461 Buying: ['PERY']\n",
      "Day: 56\t\tTotal: 75759 Buying: ['IIIN']\n",
      "Day: 57\t\tTotal: 75689 Buying: ['IIIN']\n",
      "Day: 58\t\tTotal: 76487 Buying: ['IIIN']\n",
      "Day: 59\t\tTotal: 75694 Buying: ['IIIN']\n",
      "Day: 60\t\tTotal: 75146 Buying: ['PTEN']\n",
      "Day: 61\t\tTotal: 74784 Buying: ['PTEN']\n",
      "Day: 62\t\tTotal: 75474 Buying: ['PTEN']\n",
      "Day: 63\t\tTotal: 75871 Buying: ['HEES']\n",
      "Day: 64\t\tTotal: 75899 Buying: ['FRAN']\n",
      "Day: 65\t\tTotal: 76590 Buying: ['FRAN']\n",
      "Day: 66\t\tTotal: 77241 Buying: ['FRAN']\n",
      "Day: 67\t\tTotal: 77208 Buying: ['FRAN']\n",
      "Day: 68\t\tTotal: 76365 Buying: ['HOFT']\n",
      "Day: 69\t\tTotal: 75835 Buying: ['NSIT']\n",
      "Day: 70\t\tTotal: 75732 Buying: ['HOFT']\n",
      "Day: 71\t\tTotal: 76118 Buying: ['OFLX']\n",
      "Day: 72\t\tTotal: 76333 Buying: ['OFLX']\n",
      "Day: 73\t\tTotal: 77725 Buying: ['OFLX']\n",
      "Day: 74\t\tTotal: 78766 Buying: ['OFLX']\n",
      "Day: 75\t\tTotal: 79720 Buying: ['OFLX']\n",
      "Day: 76\t\tTotal: 80279 Buying: ['OFLX']\n",
      "Day: 77\t\tTotal: 80107 Buying: ['OFLX']\n",
      "Day: 78\t\tTotal: 79718 Buying: ['OFLX']\n",
      "Day: 79\t\tTotal: 78974 Buying: ['HOFT']\n",
      "Day: 80\t\tTotal: 78160 Buying: ['HOFT']\n",
      "Day: 81\t\tTotal: 78226 Buying: ['HOFT']\n",
      "Day: 82\t\tTotal: 78133 Buying: ['HOFT']\n",
      "Day: 83\t\tTotal: 77907 Buying: ['ALXN']\n",
      "Day: 84\t\tTotal: 78174 Buying: ['ALXN']\n",
      "Day: 85\t\tTotal: 78858 Buying: ['ILMN']\n",
      "Day: 86\t\tTotal: 78729 Buying: ['ILMN']\n",
      "Day: 87\t\tTotal: 80092 Buying: ['ILMN']\n",
      "Day: 88\t\tTotal: 81283 Buying: ['ILMN']\n",
      "Day: 89\t\tTotal: 81049 Buying: ['ILMN']\n",
      "Day: 90\t\tTotal: 80940 Buying: ['MMYT']\n",
      "Day: 91\t\tTotal: 80748 Buying: ['MMYT']\n",
      "Day: 92\t\tTotal: 81966 Buying: ['MMYT']\n",
      "Day: 93\t\tTotal: 83020 Buying: ['MMYT']\n",
      "Day: 94\t\tTotal: 84418 Buying: ['MMYT']\n",
      "Day: 95\t\tTotal: 85729 Buying: ['MMYT']\n",
      "Day: 96\t\tTotal: 86557 Buying: ['MMYT']\n",
      "Day: 97\t\tTotal: 87085 Buying: ['MMYT']\n",
      "Day: 98\t\tTotal: 87668 Buying: ['MMYT']\n",
      "Day: 99\t\tTotal: 88776 Buying: ['MMYT']\n",
      "Day: 100\t\tTotal: 89385 Buying: ['CTXS']\n",
      "Day: 101\t\tTotal: 89928 Buying: ['CTXS']\n",
      "Day: 102\t\tTotal: 94822 Buying: ['CTXS']\n",
      "Day: 103\t\tTotal: 99470 Buying: ['CTXS']\n",
      "Day: 104\t\tTotal: 100326 Buying: ['CTXS']\n",
      "Day: 105\t\tTotal: 100779 Buying: ['CTXS']\n",
      "Day: 106\t\tTotal: 101018 Buying: ['CTXS']\n",
      "Day: 107\t\tTotal: 101337 Buying: ['CTXS']\n",
      "Day: 108\t\tTotal: 101500 Buying: ['CTXS']\n",
      "Day: 109\t\tTotal: 101815 Buying: ['CTXS']\n",
      "Day: 110\t\tTotal: 102008 Buying: ['CTXS']\n",
      "Day: 111\t\tTotal: 102254 Buying: ['CTXS']\n",
      "Day: 112\t\tTotal: 102503 Buying: ['CTXS']\n",
      "Day: 113\t\tTotal: 102658 Buying: ['CTXS']\n",
      "Day: 114\t\tTotal: 102630 Buying: ['CTXS']\n",
      "Day: 115\t\tTotal: 102660 Buying: ['SWIR']\n",
      "Day: 116\t\tTotal: 102617 Buying: ['SWIR']\n",
      "Day: 117\t\tTotal: 102799 Buying: ['SWIR']\n",
      "Day: 118\t\tTotal: 103469 Buying: ['NTRI']\n",
      "Day: 119\t\tTotal: 104363 Buying: ['NTRI']\n",
      "Day: 120\t\tTotal: 106819 Buying: ['NTRI']\n",
      "Day: 121\t\tTotal: 108933 Buying: ['NTRI']\n",
      "Day: 122\t\tTotal: 109443 Buying: ['NTRI']\n",
      "Day: 123\t\tTotal: 109793 Buying: ['NTRI']\n",
      "Day: 124\t\tTotal: 109538 Buying: ['NTRI']\n",
      "Day: 125\t\tTotal: 109538 Buying: ['NTRI']\n",
      "Day: 126\t\tTotal: 109517 Buying: ['NTRI']\n",
      "Day: 127\t\tTotal: 109486 Buying: ['NTRI']\n",
      "Day: 128\t\tTotal: 110248 Buying: ['LCUT']\n",
      "Day: 129\t\tTotal: 111149 Buying: ['LCUT']\n",
      "Day: 130\t\tTotal: 113856 Buying: ['LCUT']\n",
      "Day: 131\t\tTotal: 114339 Buying: ['LCUT']\n",
      "Day: 132\t\tTotal: 114238 Buying: ['LCUT']\n",
      "Day: 133\t\tTotal: 114137 Buying: ['LCUT']\n",
      "Day: 134\t\tTotal: 114061 Buying: ['LCUT']\n",
      "Day: 135\t\tTotal: 114264 Buying: ['LCUT']\n",
      "Day: 136\t\tTotal: 114239 Buying: ['LCUT']\n",
      "Day: 137\t\tTotal: 114213 Buying: ['LCUT']\n",
      "Day: 138\t\tTotal: 114213 Buying: ['FIZZ']\n",
      "Day: 139\t\tTotal: 114340 Buying: ['FIZZ']\n",
      "Day: 140\t\tTotal: 114852 Buying: ['FIZZ']\n",
      "Day: 141\t\tTotal: 115186 Buying: ['FIZZ']\n",
      "Day: 142\t\tTotal: 115485 Buying: ['GNCMA']\n",
      "Day: 143\t\tTotal: 115620 Buying: ['GNCMA']\n",
      "Day: 144\t\tTotal: 120983 Buying: ['GNCMA']\n",
      "Day: 145\t\tTotal: 126040 Buying: ['GNCMA']\n",
      "Day: 146\t\tTotal: 130939 Buying: ['GNCMA']\n",
      "Day: 147\t\tTotal: 131752 Buying: ['GNCMA']\n",
      "Day: 148\t\tTotal: 132137 Buying: ['GNCMA']\n",
      "Day: 149\t\tTotal: 132131 Buying: ['CPRT']\n",
      "Day: 150\t\tTotal: 132248 Buying: ['CPRT']\n",
      "Day: 151\t\tTotal: 132168 Buying: ['CPRT']\n",
      "Day: 152\t\tTotal: 132121 Buying: ['CPRT']\n",
      "Day: 153\t\tTotal: 132255 Buying: ['CPRT']\n",
      "Day: 154\t\tTotal: 132452 Buying: ['CPRT']\n",
      "Day: 155\t\tTotal: 132705 Buying: ['CPRT']\n",
      "Day: 156\t\tTotal: 133050 Buying: ['CPRT']\n",
      "Day: 157\t\tTotal: 133382 Buying: ['CPRT']\n",
      "Day: 158\t\tTotal: 133692 Buying: ['CPRT']\n",
      "Day: 159\t\tTotal: 133907 Buying: ['CPRT']\n",
      "Day: 160\t\tTotal: 133894 Buying: ['CPRT']\n",
      "Day: 161\t\tTotal: 133826 Buying: ['CPRT']\n",
      "Day: 162\t\tTotal: 133593 Buying: ['CPRT']\n",
      "Day: 163\t\tTotal: 133378 Buying: ['IRBT']\n",
      "Day: 164\t\tTotal: 133296 Buying: ['IRBT']\n",
      "Day: 165\t\tTotal: 133543 Buying: ['IAC']\n",
      "Day: 166\t\tTotal: 133887 Buying: ['BREW']\n",
      "Day: 167\t\tTotal: 134529 Buying: ['WRLD']\n",
      "Day: 168\t\tTotal: 134826 Buying: ['WRLD']\n",
      "Day: 169\t\tTotal: 137934 Buying: ['WRLD']\n",
      "Day: 170\t\tTotal: 139874 Buying: ['WRLD']\n",
      "Day: 171\t\tTotal: 138763 Buying: ['WRLD']\n",
      "Day: 172\t\tTotal: 138280 Buying: ['PETS']\n",
      "Day: 173\t\tTotal: 138407 Buying: ['PETS']\n",
      "Day: 174\t\tTotal: 138826 Buying: ['SINA']\n",
      "Day: 175\t\tTotal: 138757 Buying: ['SINA']\n",
      "Day: 176\t\tTotal: 138871 Buying: ['SINA']\n",
      "Day: 177\t\tTotal: 139172 Buying: ['SINA']\n",
      "Day: 178\t\tTotal: 139122 Buying: ['SINA']\n",
      "Day: 179\t\tTotal: 139333 Buying: ['SINA']\n",
      "Day: 180\t\tTotal: 138961 Buying: ['TTEC']\n",
      "Day: 181\t\tTotal: 138742 Buying: ['TTEC']\n",
      "Day: 182\t\tTotal: 139207 Buying: ['NATR']\n",
      "Day: 183\t\tTotal: 139338 Buying: ['NATR']\n",
      "Day: 184\t\tTotal: 139648 Buying: ['NATR']\n",
      "Day: 185\t\tTotal: 139610 Buying: ['NATR']\n",
      "Day: 186\t\tTotal: 139958 Buying: ['NATR']\n",
      "Day: 187\t\tTotal: 140533 Buying: ['NATR']\n",
      "Day: 188\t\tTotal: 141064 Buying: ['NATR']\n",
      "Day: 189\t\tTotal: 141590 Buying: ['NATR']\n",
      "Day: 190\t\tTotal: 141516 Buying: ['NATR']\n",
      "Day: 191\t\tTotal: 142111 Buying: ['CMTL']\n",
      "Day: 192\t\tTotal: 142295 Buying: ['GDEN']\n",
      "Day: 193\t\tTotal: 142733 Buying: ['GDEN']\n",
      "Day: 194\t\tTotal: 142969 Buying: ['CLVS']\n",
      "Day: 195\t\tTotal: 143170 Buying: ['CLVS']\n",
      "Day: 196\t\tTotal: 147479 Buying: ['CLVS']\n",
      "Day: 197\t\tTotal: 152226 Buying: ['CLVS']\n",
      "Day: 198\t\tTotal: 156322 Buying: ['CLVS']\n",
      "Day: 199\t\tTotal: 157033 Buying: ['CLVS']\n",
      "Day: 200\t\tTotal: 157170 Buying: ['CLVS']\n",
      "Day: 201\t\tTotal: 157092 Buying: ['CLVS']\n",
      "Day: 202\t\tTotal: 156583 Buying: ['CLVS']\n",
      "Day: 203\t\tTotal: 156436 Buying: ['CLVS']\n"
     ]
    },
    {
     "name": "stdout",
     "output_type": "stream",
     "text": [
      "Day: 204\t\tTotal: 156298 Buying: ['CLVS']\n",
      "Day: 205\t\tTotal: 156687 Buying: ['CLVS']\n",
      "Day: 206\t\tTotal: 156603 Buying: ['CLVS']\n",
      "Day: 207\t\tTotal: 156995 Buying: ['CLVS']\n",
      "Day: 208\t\tTotal: 157139 Buying: ['CLVS']\n",
      "Day: 209\t\tTotal: 157236 Buying: ['CLVS']\n",
      "Day: 210\t\tTotal: 157426 Buying: ['CLVS']\n",
      "Day: 211\t\tTotal: 157395 Buying: ['AVAV']\n",
      "Day: 212\t\tTotal: 156961 Buying: ['ARNA']\n",
      "Day: 213\t\tTotal: 156938 Buying: ['QDEL']\n",
      "Day: 214\t\tTotal: 155731 Buying: ['QDEL']\n",
      "Day: 215\t\tTotal: 159131 Buying: ['QDEL']\n",
      "Day: 216\t\tTotal: 162382 Buying: ['QDEL']\n",
      "Day: 217\t\tTotal: 165395 Buying: ['QDEL']\n",
      "Day: 218\t\tTotal: 166397 Buying: ['QDEL']\n",
      "Day: 219\t\tTotal: 166447 Buying: ['QDEL']\n",
      "Day: 220\t\tTotal: 166344 Buying: ['QDEL']\n",
      "Day: 221\t\tTotal: 165894 Buying: ['QDEL']\n",
      "Day: 222\t\tTotal: 164591 Buying: ['QDEL']\n",
      "Day: 223\t\tTotal: 162985 Buying: ['PETS']\n",
      "Day: 224\t\tTotal: 161386 Buying: ['TREE']\n",
      "Day: 225\t\tTotal: 160885 Buying: ['TREE']\n",
      "Day: 226\t\tTotal: 161463 Buying: ['TREE']\n",
      "Day: 227\t\tTotal: 162030 Buying: ['STMP']\n",
      "Day: 228\t\tTotal: 162598 Buying: ['STMP']\n",
      "Day: 229\t\tTotal: 165840 Buying: ['STMP']\n",
      "Day: 230\t\tTotal: 169028 Buying: ['STMP']\n",
      "Day: 231\t\tTotal: 169017 Buying: ['STMP']\n",
      "Day: 232\t\tTotal: 168894 Buying: ['STMP']\n",
      "Day: 233\t\tTotal: 168761 Buying: ['STMP']\n",
      "Day: 234\t\tTotal: 168678 Buying: ['STMP']\n",
      "Day: 235\t\tTotal: 168506 Buying: ['STMP']\n",
      "Day: 236\t\tTotal: 168674 Buying: ['STMP']\n",
      "Day: 237\t\tTotal: 168755 Buying: ['STMP']\n",
      "Day: 238\t\tTotal: 168619 Buying: ['CUTR']\n",
      "Day: 239\t\tTotal: 168552 Buying: ['CUTR']\n",
      "Day: 240\t\tTotal: 168816 Buying: ['CUTR']\n",
      "Day: 241\t\tTotal: 169225 Buying: ['CUTR']\n",
      "Day: 242\t\tTotal: 169790 Buying: ['CUTR']\n",
      "Day: 243\t\tTotal: 170334 Buying: ['CUTR']\n",
      "Day: 244\t\tTotal: 170334 Buying: ['IXYS']\n",
      "Day: 245\t\tTotal: 170857 Buying: ['IXYS']\n",
      "Day: 246\t\tTotal: 174434 Buying: ['IXYS']\n",
      "Day: 247\t\tTotal: 177772 Buying: ['IXYS']\n",
      "Day: 248\t\tTotal: 177993 Buying: ['IXYS']\n",
      "Day: 249\t\tTotal: 178344 Buying: ['INSM']\n",
      "Day: 250\t\tTotal: 178474 Buying: ['INSM']\n",
      "Day: 251\t\tTotal: 186364 Buying: ['INSM']\n",
      "Day: 252\t\tTotal: 193654 Buying: ['INSM']\n",
      "Day: 253\t\tTotal: 194649 Buying: ['INSM']\n",
      "Day: 254\t\tTotal: 194067 Buying: ['INSM']\n",
      "Day: 255\t\tTotal: 193190 Buying: ['INSM']\n",
      "Day: 256\t\tTotal: 192368 Buying: ['INSM']\n",
      "Day: 257\t\tTotal: 191381 Buying: ['INSM']\n",
      "Day: 258\t\tTotal: 190865 Buying: ['INSM']\n",
      "Day: 259\t\tTotal: 191386 Buying: ['INSM']\n",
      "Day: 260\t\tTotal: 191687 Buying: ['INSM']\n",
      "Day: 261\t\tTotal: 191992 Buying: ['INSM']\n",
      "Day: 262\t\tTotal: 192038 Buying: ['INSM']\n",
      "Day: 263\t\tTotal: 191909 Buying: ['ALNY']\n",
      "Day: 264\t\tTotal: 192090 Buying: ['ALNY']\n",
      "Day: 265\t\tTotal: 192560 Buying: ['ALNY']\n",
      "Day: 266\t\tTotal: 192881 Buying: ['ZGNX']\n",
      "Day: 267\t\tTotal: 193337 Buying: ['ZGNX']\n",
      "Day: 268\t\tTotal: 204606 Buying: ['ZGNX']\n",
      "Day: 269\t\tTotal: 213606 Buying: ['ZGNX']\n",
      "Day: 270\t\tTotal: 221393 Buying: ['ZGNX']\n",
      "Day: 271\t\tTotal: 222245 Buying: ['ZGNX']\n",
      "Day: 272\t\tTotal: 222284 Buying: ['ZGNX']\n",
      "Day: 273\t\tTotal: 222916 Buying: ['ZGNX']\n",
      "Day: 274\t\tTotal: 223183 Buying: ['ZGNX']\n",
      "Day: 275\t\tTotal: 223512 Buying: ['ZGNX']\n",
      "Day: 276\t\tTotal: 223500 Buying: ['ZGNX']\n",
      "Day: 277\t\tTotal: 223374 Buying: ['ZGNX']\n",
      "Day: 278\t\tTotal: 222566 Buying: ['ZGNX']\n",
      "Day: 279\t\tTotal: 222246 Buying: ['ZGNX']\n",
      "Day: 280\t\tTotal: 222194 Buying: ['ZGNX']\n",
      "Day: 281\t\tTotal: 222582 Buying: ['ZGNX']\n",
      "Day: 282\t\tTotal: 222466 Buying: ['ZGNX']\n",
      "Day: 283\t\tTotal: 222402 Buying: ['ZGNX']\n",
      "Day: 284\t\tTotal: 222158 Buying: ['OSTK']\n",
      "Day: 285\t\tTotal: 221899 Buying: ['OSTK']\n",
      "Day: 286\t\tTotal: 223130 Buying: ['OSTK']\n",
      "Day: 287\t\tTotal: 225286 Buying: ['OSTK']\n",
      "Day: 288\t\tTotal: 227001 Buying: ['OSTK']\n",
      "Day: 289\t\tTotal: 228091 Buying: ['OSTK']\n",
      "Day: 290\t\tTotal: 227569 Buying: ['OSTK']\n",
      "Day: 291\t\tTotal: 227939 Buying: ['FARO']\n",
      "Day: 292\t\tTotal: 227181 Buying: ['FARO']\n",
      "Day: 293\t\tTotal: 227026 Buying: ['FARO']\n",
      "Day: 294\t\tTotal: 227245 Buying: ['FARO']\n",
      "Day: 295\t\tTotal: 227488 Buying: ['FARO']\n",
      "Day: 296\t\tTotal: 227893 Buying: ['OSTK']\n",
      "Day: 297\t\tTotal: 227970 Buying: ['OSTK']\n",
      "Day: 298\t\tTotal: 229991 Buying: ['OSTK']\n",
      "Day: 299\t\tTotal: 231959 Buying: ['OSTK']\n",
      "Day: 300\t\tTotal: 232312 Buying: ['OSTK']\n",
      "Day: 301\t\tTotal: 232170 Buying: ['OSTK']\n",
      "Day: 302\t\tTotal: 232236 Buying: ['OSTK']\n",
      "Day: 303\t\tTotal: 234171 Buying: ['OSTK']\n",
      "Day: 304\t\tTotal: 236185 Buying: ['OSTK']\n",
      "Day: 305\t\tTotal: 237888 Buying: ['OSTK']\n",
      "Day: 306\t\tTotal: 238838 Buying: ['OSTK']\n"
     ]
    }
   ],
   "source": [
    "strat_name = '02-04-2021--15--11--E2E_LSTM_VariedLR_RL_ALPHA_1_NOMSE--500Epochs--rlf-Loss--64-HU--_PM'\n",
    "\n",
    "# Testing the PM file feature\n",
    "avg = [1, 5, 20, 50, 100, 200]\n",
    "avg = [1]\n",
    "for a in avg:\n",
    "#     GP.prediction_json_strategy_max_entities(strat_name, average=a, avoid_fall=False, name_override=strat_name+ f'{a}AVG')\n",
    "    GP.prediction_json_strategy_determine_best(strat_name, average=a, avoid_fall=False, name_override=strat_name+ f'{a}AVG_Correct_BuyDay_plus1')\n",
    "    GP.save_results()\n",
    "# Testing the mse tracking feature\n",
    "# GP.prediction_json_mse('01-04-2021--15--57--SEP_LSTM_GCN3-5e-6LR--820Epochs--mse-Loss--64-HU--_PM')\n",
    "GP.save_results()"
   ]
  },
  {
   "cell_type": "code",
   "execution_count": 5,
   "metadata": {
    "scrolled": true
   },
   "outputs": [
    {
     "data": {
      "application/vnd.jupyter.widget-view+json": {
       "model_id": "f715d072b89843eb84514b37efabfb04",
       "version_major": 2,
       "version_minor": 0
      },
      "text/plain": [
       "interactive(children=(SelectMultiple(description='Strategies', index=(0,), layout=Layout(width='50%'), options…"
      ]
     },
     "metadata": {},
     "output_type": "display_data"
    }
   ],
   "source": [
    "GP.display_graph()"
   ]
  },
  {
   "cell_type": "code",
   "execution_count": null,
   "metadata": {},
   "outputs": [],
   "source": [
    "# GP.strategy_ratio_gcn('11-22-2020--16--46--GCN3-MSE--50Epochs--mse-Loss--64-HU--', avoid_fall=False, average=10, name_override='GCN3-MSE-50Epoch-Average10')\n",
    "# GP.strategy_ratio_gcn(r'11-22-2020--16--46--GCN3-MSE--50Epochs--mse-Loss--64-HU--', avoid_fall=True, name_override='GCN3-MSE-50Epoch-AvoidFall')\n",
    "\n",
    "# GP.strategy_ratio_gcn('11-22-2020--16--43--GCN3-RankLoss--50Epochs--rlf-Loss--64-HU--', avoid_fall=False, average=10, name_override='GCN3-RankLoss-50Epoch-Average10')\n",
    "# GP.strategy_ratio_gcn(r'11-22-2020--16--43--GCN3-RankLoss--50Epochs--rlf-Loss--64-HU--', avoid_fall=True, name_override='GCN3-RankLoss-50Epoch-AvoidFall')"
   ]
  },
  {
   "cell_type": "code",
   "execution_count": null,
   "metadata": {},
   "outputs": [],
   "source": [
    "# GP.save_results('./strategies')"
   ]
  },
  {
   "cell_type": "code",
   "execution_count": null,
   "metadata": {},
   "outputs": [],
   "source": []
  },
  {
   "cell_type": "code",
   "execution_count": null,
   "metadata": {},
   "outputs": [],
   "source": []
  },
  {
   "cell_type": "code",
   "execution_count": null,
   "metadata": {},
   "outputs": [],
   "source": [
    "import ipywidgets as widgets\n",
    "from ipywidgets import GridBox"
   ]
  },
  {
   "cell_type": "code",
   "execution_count": null,
   "metadata": {},
   "outputs": [],
   "source": [
    "import time\n",
    "bar = widgets.IntProgress(min=0, max=10, description='Loading:', bar_style='info')\n",
    "display(bar)\n",
    "\n",
    "for i in range(11):\n",
    "    time.sleep(0.2)\n",
    "    bar.value = i"
   ]
  },
  {
   "cell_type": "code",
   "execution_count": null,
   "metadata": {},
   "outputs": [],
   "source": [
    "\n",
    "widgets.Text(\n",
    "    value='Loading',\n",
    "    description='',\n",
    "    disabled=True\n",
    "    layout=L\n",
    ")\n",
    "\n"
   ]
  },
  {
   "cell_type": "code",
   "execution_count": null,
   "metadata": {},
   "outputs": [],
   "source": [
    "# Start the loading bar by initializing it\n",
    "nam_bar = widgets.IntProgress(min=0, max=5, value=0, description='Loading Normalized Adjacency Matrix:',\n",
    "                              layout=widgets.Layout(width='auto'))\n",
    "text = widgets.Text(value='Loading', description='', disabled=True, layout=widgets.Layout(width='auto'))\n",
    "\n",
    "test = widgets.GridBox(children=[text, nam_bar], layout=widgets.Layout(width='auto'))\n",
    "\n",
    "display(test)"
   ]
  },
  {
   "cell_type": "code",
   "execution_count": null,
   "metadata": {},
   "outputs": [],
   "source": []
  },
  {
   "cell_type": "code",
   "execution_count": null,
   "metadata": {},
   "outputs": [],
   "source": []
  },
  {
   "cell_type": "code",
   "execution_count": null,
   "metadata": {},
   "outputs": [],
   "source": [
    "x_test = [1, 2, 3, 4, 5]"
   ]
  },
  {
   "cell_type": "code",
   "execution_count": null,
   "metadata": {},
   "outputs": [],
   "source": [
    "x_test[0:1]"
   ]
  },
  {
   "cell_type": "code",
   "execution_count": null,
   "metadata": {},
   "outputs": [],
   "source": [
    "for i in range(0, 10):\n",
    "    print(i)"
   ]
  },
  {
   "cell_type": "code",
   "execution_count": null,
   "metadata": {},
   "outputs": [],
   "source": []
  },
  {
   "cell_type": "code",
   "execution_count": null,
   "metadata": {},
   "outputs": [],
   "source": [
    "%tensorboard --logdir logs/fit\n"
   ]
  },
  {
   "cell_type": "code",
   "execution_count": null,
   "metadata": {},
   "outputs": [],
   "source": []
  }
 ],
 "metadata": {
  "kernelspec": {
   "display_name": "Python 3",
   "language": "python",
   "name": "python3"
  },
  "language_info": {
   "codemirror_mode": {
    "name": "ipython",
    "version": 3
   },
   "file_extension": ".py",
   "mimetype": "text/x-python",
   "name": "python",
   "nbconvert_exporter": "python",
   "pygments_lexer": "ipython3",
   "version": "3.8.5"
  },
  "pycharm": {
   "stem_cell": {
    "cell_type": "raw",
    "metadata": {
     "collapsed": false
    },
    "source": []
   }
  }
 },
 "nbformat": 4,
 "nbformat_minor": 4
}
