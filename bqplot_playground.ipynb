{
 "cells": [
  {
   "cell_type": "code",
   "execution_count": null,
   "metadata": {},
   "outputs": [],
   "source": [
    "# Ignore cuDDa warning messages\n",
    "import warnings\n",
    "warnings.filterwarnings('ignore')\n",
    "\n",
    "# Enable GPU\n",
    "import tensorflow as tf\n",
    "physical_devices = tf.config.list_physical_devices('GPU') \n",
    "tf.config.experimental.set_memory_growth(physical_devices[0], True)\n",
    "\n",
    "# # Expands the Jupyter Notebook Output Size to fit your window\n",
    "from IPython.core.display import display, HTML\n",
    "display(HTML(\"<style>.container { width:100% !important; }</style>\"))\n",
    "\n",
    "# Load in tensorboard\n",
    "%load_ext tensorboard"
   ]
  },
  {
   "cell_type": "code",
   "execution_count": null,
   "metadata": {},
   "outputs": [],
   "source": [
    "%%javascript\n",
    "    IPython.OutputArea.auto_scroll_threshold = 9999"
   ]
  },
  {
   "cell_type": "code",
   "execution_count": null,
   "metadata": {
    "scrolled": false
   },
   "outputs": [],
   "source": [
    "import os\n",
    "import sys\n",
    "from os.path import isfile, join\n",
    "\n",
    "from tensorflow_models import leaky_relu, Ein_Multiply\n",
    "\n",
    "os.environ[\"TF_CPP_MIN_LOG_LEVEL\"] = \"2\"\n",
    "import tensorflow as tf\n",
    "import random\n",
    "\n",
    "from IPython.display import display\n",
    "# from bqplot import (\n",
    "#     LinearScale, Lines, Axis, Figure, Toolbar, Scatter, Tooltip, HBox\n",
    "# )\n",
    "\n",
    "from bqplot import *\n",
    "\n",
    "import ipywidgets as widgets\n",
    "\n",
    "import pickle\n",
    "import json\n",
    "import warnings\n",
    "import os\n",
    "from sklearn.metrics import mean_squared_error\n",
    "\n",
    "import numpy as np\n",
    "\n",
    "warnings.filterwarnings('ignore')\n",
    "os.environ['TF_CPP_MIN_LOG_LEVEL'] = '3'\n",
    "tf.compat.v1.logging.set_verbosity(tf.compat.v1.logging.ERROR)"
   ]
  },
  {
   "cell_type": "code",
   "execution_count": null,
   "metadata": {},
   "outputs": [],
   "source": []
  },
  {
   "cell_type": "code",
   "execution_count": null,
   "metadata": {},
   "outputs": [],
   "source": [
    "from tensorflow_models import TF_Models, Ein_Multiply, leaky_relu, rank_loss_func\n",
    "DMJ = TF_Models('./ignorable_data/data_sets/NASDAQ_Cleaned', './ignorable_data/models', reload=False)\n",
    "data_splits = DMJ.split_data()\n",
    "model = DMJ.generate_model()\n",
    "\n",
    "from graph_predictions import Graph_Predictions\n",
    "GP = Graph_Predictions(\"./ignorable_data/models\", \"./ignorable_data/strategies/RL_validation_strategies/\", DMJ)"
   ]
  },
  {
   "cell_type": "code",
   "execution_count": null,
   "metadata": {},
   "outputs": [],
   "source": [
    "size = 100\n",
    "np.random.seed(0)\n",
    "x_data = range(size)\n",
    "y_data = np.cumsum(np.random.randn(size) * 100.0)\n",
    "sc_x = LinearScale()\n",
    "sc_y = LinearScale()\n",
    "\n",
    "scatt = Scatter(x=x_data, y=y_data, scales={'x': sc_x, 'y': sc_y},enable_move=False,\n",
    "               hovered_style={'opacity': 1.0, 'fill': 'DarkOrange', 'stroke': 'Red'},\n",
    "               unhovered_style={'opacity': 0.5})\n",
    "ax_x = Axis(scale=sc_x, label='x')\n",
    "ax_y = Axis(scale=sc_y, orientation='vertical', tick_format='0.0f', label='y-data',label_color='red')\n",
    "\n",
    "tt = Tooltip(fields=['x', 'y'], formats=['', '.2f'], labels=['x', 'y'])\n",
    "scatt.tooltip=tt\n",
    "\n",
    "sc_y2 = LinearScale()\n",
    "\n",
    "scatt2 = Scatter(x=x_data, y=y_data**2, scales={'x': sc_x, 'y': sc_y2},\n",
    "                 selected_style={'opacity': 1.0, 'fill': 'DarkOrange', 'stroke': 'Red'},\n",
    "                 unselected_style={'opacity': 0.5},\n",
    "                )\n",
    "# tt2 = Tooltip(fields=['x', 'y'], formats=['', '.2f'], labels=['x', 'y'])\n",
    "scatt2.tooltip=tt\n",
    "\n",
    "def callback(self,target):\n",
    "    scatt2.selected = [target['data']['index']]\n",
    "\n",
    "scatt.default_opacities=[0.8]\n",
    "scatt.on_hover(callback)\n",
    "\n",
    "fig1=Figure(marks=[scatt, scatt2], axes=[ax_x, ax_y],title='Scatter 1',background_style={'fill':'lightgray'})\n",
    "fig2=Figure(marks=[scatt2], axes=[ax_x, ax_y],title='Scatter 2',min_aspect_ratio=1,max_aspect_ratio=1)\n",
    "display(fig1)\n",
    "display(fig2)"
   ]
  },
  {
   "cell_type": "code",
   "execution_count": null,
   "metadata": {},
   "outputs": [],
   "source": [
    "out = widgets.Output(layout={'border': '1px solid black'})\n",
    "out"
   ]
  },
  {
   "cell_type": "code",
   "execution_count": null,
   "metadata": {},
   "outputs": [],
   "source": [
    "with out:\n",
    "    for i in range(10):\n",
    "        print(i, 'Hello world!')"
   ]
  },
  {
   "cell_type": "code",
   "execution_count": null,
   "metadata": {},
   "outputs": [],
   "source": [
    "out.clear_output()"
   ]
  },
  {
   "cell_type": "code",
   "execution_count": null,
   "metadata": {},
   "outputs": [],
   "source": []
  }
 ],
 "metadata": {
  "kernelspec": {
   "display_name": "Python 3",
   "language": "python",
   "name": "python3"
  },
  "language_info": {
   "codemirror_mode": {
    "name": "ipython",
    "version": 3
   },
   "file_extension": ".py",
   "mimetype": "text/x-python",
   "name": "python",
   "nbconvert_exporter": "python",
   "pygments_lexer": "ipython3",
   "version": "3.8.5"
  },
  "pycharm": {
   "stem_cell": {
    "cell_type": "raw",
    "metadata": {
     "collapsed": false
    },
    "source": []
   }
  }
 },
 "nbformat": 4,
 "nbformat_minor": 4
}
