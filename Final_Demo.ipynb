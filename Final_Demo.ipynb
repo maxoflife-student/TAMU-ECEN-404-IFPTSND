{
 "cells": [
  {
   "cell_type": "code",
   "execution_count": 1,
   "metadata": {},
   "outputs": [
    {
     "data": {
      "text/html": [
       "<style>.container { width:80% !important; }</style>"
      ],
      "text/plain": [
       "<IPython.core.display.HTML object>"
      ]
     },
     "metadata": {},
     "output_type": "display_data"
    }
   ],
   "source": [
    "# Ignore cuDDa warning messages\n",
    "import warnings\n",
    "import os\n",
    "warnings.filterwarnings('ignore')\n",
    "\n",
    "# Enable GPU\n",
    "import tensorflow as tf\n",
    "physical_devices = tf.config.list_physical_devices('GPU') \n",
    "tf.config.experimental.set_memory_growth(physical_devices[0], True)\n",
    "\n",
    "# # Expands the Jupyter Notebook Output Size to fit your window\n",
    "from IPython.core.display import display, HTML\n",
    "display(HTML(\"<style>.container { width:80% !important; }</style>\"))\n",
    "\n",
    "# Change the working directory back to the original to keep paths the same between files\n",
    "os.chdir(r'C:\\Users\\Maxwell\\PycharmProjects\\TAMU-ECEN-403-IFPTSND\\ECEN_403_IFM\\TAMU-ECEN-403-IFPTSND')\n",
    "\n",
    "# warnings.filterwarnings('ignore')\n",
    "# os.environ['TF_CPP_MIN_LOG_LEVEL'] = '3'\n",
    "# tf.compat.v1.logging.set_verbosity(tf.compat.v1.logging.ERROR)"
   ]
  },
  {
   "cell_type": "code",
   "execution_count": 2,
   "metadata": {},
   "outputs": [
    {
     "data": {
      "application/javascript": [
       "    IPython.OutputArea.auto_scroll_threshold = 9999\n"
      ],
      "text/plain": [
       "<IPython.core.display.Javascript object>"
      ]
     },
     "metadata": {},
     "output_type": "display_data"
    }
   ],
   "source": [
    "%%javascript\n",
    "    IPython.OutputArea.auto_scroll_threshold = 9999"
   ]
  },
  {
   "cell_type": "code",
   "execution_count": 3,
   "metadata": {},
   "outputs": [],
   "source": [
    "# Import all of my custom files\n",
    "from tensorflow_models import *\n",
    "from explore_entities import *\n",
    "from graph_predictions import *"
   ]
  },
  {
   "cell_type": "code",
   "execution_count": 4,
   "metadata": {},
   "outputs": [],
   "source": [
    "# Create our model generator object\n",
    "dataset_path = './ignorable_data/data_sets/NASDAQ_Cleaned - Contains ZUMZ/'\n",
    "model_path = './ignorable_data/models/[40, 40, 20]_split/'\n",
    "DMJ = TF_Models(dataset_path, model_path, reload=False, perc_split=[1,1,98])"
   ]
  },
  {
   "cell_type": "code",
   "execution_count": 5,
   "metadata": {},
   "outputs": [
    {
     "data": {
      "application/vnd.jupyter.widget-view+json": {
       "model_id": "f2804bb52e1e4f37b70113d7418d4564",
       "version_major": 2,
       "version_minor": 0
      },
      "text/plain": [
       "GridBox(children=(Dropdown(description='Model Types:', options=('lstm', 'explicit_gcn', 'implicit_gcn', 'lstm_…"
      ]
     },
     "metadata": {},
     "output_type": "display_data"
    },
    {
     "name": "stdout",
     "output_type": "stream",
     "text": [
      "Model: \"functional_1\"\n",
      "_________________________________________________________________\n",
      "Layer (type)                 Output Shape              Param #   \n",
      "=================================================================\n",
      "input_1 (InputLayer)         [(None, 12, 5)]           0         \n",
      "_________________________________________________________________\n",
      "lstm (LSTM)                  (None, 12, 64)            17920     \n",
      "_________________________________________________________________\n",
      "dense (Dense)                (None, 12, 1)             65        \n",
      "=================================================================\n",
      "Total params: 17,985\n",
      "Trainable params: 17,985\n",
      "Non-trainable params: 0\n",
      "_________________________________________________________________\n"
     ]
    }
   ],
   "source": [
    "# Create a model\n",
    "DMJ.generate_model()"
   ]
  },
  {
   "cell_type": "code",
   "execution_count": 6,
   "metadata": {
    "scrolled": true
   },
   "outputs": [
    {
     "name": "stdout",
     "output_type": "stream",
     "text": [
      "Epoch 1/10\n",
      "5/5 [==============================] - 0s 40ms/step - loss: 0.1778 - val_loss: 0.1364\n",
      "Epoch 2/10\n",
      "5/5 [==============================] - 0s 38ms/step - loss: 0.1106 - val_loss: 0.0775\n",
      "Epoch 3/10\n",
      "5/5 [==============================] - 0s 36ms/step - loss: 0.0601 - val_loss: 0.0425\n",
      "Epoch 4/10\n",
      "5/5 [==============================] - 0s 46ms/step - loss: 0.0390 - val_loss: 0.0429\n",
      "Epoch 5/10\n",
      "5/5 [==============================] - 0s 34ms/step - loss: 0.0410 - val_loss: 0.0385\n",
      "Epoch 6/10\n",
      "5/5 [==============================] - 0s 35ms/step - loss: 0.0338 - val_loss: 0.0306\n",
      "Epoch 7/10\n",
      "5/5 [==============================] - 0s 37ms/step - loss: 0.0290 - val_loss: 0.0293\n",
      "Epoch 8/10\n",
      "5/5 [==============================] - 0s 39ms/step - loss: 0.0279 - val_loss: 0.0269\n",
      "Epoch 9/10\n",
      "5/5 [==============================] - 0s 35ms/step - loss: 0.0251 - val_loss: 0.0239\n",
      "Epoch 10/10\n",
      "5/5 [==============================] - 0s 34ms/step - loss: 0.0224 - val_loss: 0.0215\n"
     ]
    },
    {
     "data": {
      "image/png": "[encoded data removed]",
      "text/plain": [
       "<Figure size 432x288 with 1 Axes>"
      ]
     },
     "metadata": {
      "needs_background": "light"
     },
     "output_type": "display_data"
    }
   ],
   "source": [
    "DMJ.train(epochs=10, batch_size=200)"
   ]
  },
  {
   "cell_type": "code",
   "execution_count": null,
   "metadata": {},
   "outputs": [],
   "source": []
  },
  {
   "cell_type": "code",
   "execution_count": null,
   "metadata": {},
   "outputs": [],
   "source": []
  }
 ],
 "metadata": {
  "kernelspec": {
   "display_name": "Python 3",
   "language": "python",
   "name": "python3"
  },
  "language_info": {
   "codemirror_mode": {
    "name": "ipython",
    "version": 3
   },
   "file_extension": ".py",
   "mimetype": "text/x-python",
   "name": "python",
   "nbconvert_exporter": "python",
   "pygments_lexer": "ipython3",
   "version": "3.8.5"
  }
 },
 "nbformat": 4,
 "nbformat_minor": 4
}
