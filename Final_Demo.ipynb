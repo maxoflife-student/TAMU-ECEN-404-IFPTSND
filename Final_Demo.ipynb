{
 "cells": [
  {
   "cell_type": "code",
   "execution_count": 1,
   "metadata": {},
   "outputs": [
    {
     "data": {
      "text/html": [
       "<style>.container { width:80% !important; }</style>"
      ],
      "text/plain": [
       "<IPython.core.display.HTML object>"
      ]
     },
     "metadata": {},
     "output_type": "display_data"
    }
   ],
   "source": [
    "# Ignore cuDDa warning messages\n",
    "import warnings\n",
    "import os\n",
    "warnings.filterwarnings('ignore')\n",
    "\n",
    "# Enable GPU\n",
    "import tensorflow as tf\n",
    "physical_devices = tf.config.list_physical_devices('GPU') \n",
    "tf.config.experimental.set_memory_growth(physical_devices[0], True)\n",
    "\n",
    "# # Expands the Jupyter Notebook Output Size to fit your window\n",
    "from IPython.core.display import display, HTML\n",
    "display(HTML(\"<style>.container { width:80% !important; }</style>\"))\n",
    "\n",
    "# Change the working directory back to the original to keep paths the same between files\n",
    "os.chdir(r'C:\\Users\\Maxwell\\PycharmProjects\\TAMU-ECEN-403-IFPTSND\\ECEN_403_IFM\\TAMU-ECEN-403-IFPTSND')\n",
    "\n",
    "# warnings.filterwarnings('ignore')\n",
    "# os.environ['TF_CPP_MIN_LOG_LEVEL'] = '3'\n",
    "# tf.compat.v1.logging.set_verbosity(tf.compat.v1.logging.ERROR)"
   ]
  },
  {
   "cell_type": "code",
   "execution_count": 2,
   "metadata": {},
   "outputs": [
    {
     "data": {
      "application/javascript": [
       "    IPython.OutputArea.auto_scroll_threshold = 9999\n"
      ],
      "text/plain": [
       "<IPython.core.display.Javascript object>"
      ]
     },
     "metadata": {},
     "output_type": "display_data"
    }
   ],
   "source": [
    "%%javascript\n",
    "    IPython.OutputArea.auto_scroll_threshold = 9999"
   ]
  },
  {
   "cell_type": "code",
   "execution_count": 3,
   "metadata": {},
   "outputs": [],
   "source": [
    "# Import all of my custom files\n",
    "from tensorflow_models import *\n",
    "from explore_entities import *\n",
    "from graph_predictions import *"
   ]
  },
  {
   "cell_type": "code",
   "execution_count": 4,
   "metadata": {},
   "outputs": [],
   "source": [
    "# Create our model generator object\n",
    "dataset_path = './ignorable_data/data_sets/NASDAQ_Cleaned - Contains ZUMZ/'\n",
    "model_path = './ignorable_data/models/[40, 40, 20]_split/'\n",
    "DMJ = TF_Models(dataset_path, model_path, reload=False, perc_split=[2,2,96])"
   ]
  },
  {
   "cell_type": "code",
   "execution_count": 5,
   "metadata": {},
   "outputs": [
    {
     "data": {
      "application/vnd.jupyter.widget-view+json": {
       "model_id": "2aec0f95e3ff454f84bbc7af1a181e2d",
       "version_major": 2,
       "version_minor": 0
      },
      "text/plain": [
       "GridBox(children=(Dropdown(description='Model Types:', options=('lstm', 'explicit_gcn', 'implicit_gcn', 'lstm_…"
      ]
     },
     "metadata": {},
     "output_type": "display_data"
    },
    {
     "name": "stdout",
     "output_type": "stream",
     "text": [
      "Model: \"functional_1\"\n",
      "_________________________________________________________________\n",
      "Layer (type)                 Output Shape              Param #   \n",
      "=================================================================\n",
      "input_1 (InputLayer)         [(None, 24, 5)]           0         \n",
      "_________________________________________________________________\n",
      "lstm (LSTM)                  (None, 24, 16)            1408      \n",
      "_________________________________________________________________\n",
      "dense (Dense)                (None, 24, 1)             17        \n",
      "=================================================================\n",
      "Total params: 1,425\n",
      "Trainable params: 1,425\n",
      "Non-trainable params: 0\n",
      "_________________________________________________________________\n"
     ]
    }
   ],
   "source": [
    "# Create a model\n",
    "DMJ.generate_model()"
   ]
  },
  {
   "cell_type": "code",
   "execution_count": 6,
   "metadata": {
    "scrolled": true
   },
   "outputs": [
    {
     "name": "stdout",
     "output_type": "stream",
     "text": [
      "Epoch 1/30\n",
      "5/5 [==============================] - 0s 99ms/step - loss: 1.1031 - val_loss: 1.0342\n",
      "Epoch 2/30\n",
      "5/5 [==============================] - 0s 98ms/step - loss: 0.9299 - val_loss: 0.6667\n",
      "Epoch 3/30\n",
      "5/5 [==============================] - 1s 111ms/step - loss: 0.5160 - val_loss: 0.2900\n",
      "Epoch 4/30\n",
      "5/5 [==============================] - 1s 101ms/step - loss: 0.2139 - val_loss: 0.1329\n",
      "Epoch 5/30\n",
      "5/5 [==============================] - 1s 101ms/step - loss: 0.1412 - val_loss: 0.1706\n",
      "Epoch 6/30\n",
      "5/5 [==============================] - 0s 96ms/step - loss: 0.1679 - val_loss: 0.1491\n",
      "Epoch 7/30\n",
      "5/5 [==============================] - 1s 111ms/step - loss: 0.1326 - val_loss: 0.1077\n",
      "Epoch 8/30\n",
      "5/5 [==============================] - 0s 93ms/step - loss: 0.1037 - val_loss: 0.0974\n",
      "Epoch 9/30\n",
      "5/5 [==============================] - 0s 94ms/step - loss: 0.0989 - val_loss: 0.0970\n",
      "Epoch 10/30\n",
      "5/5 [==============================] - 1s 110ms/step - loss: 0.0969 - val_loss: 0.0916\n",
      "Epoch 11/30\n",
      "5/5 [==============================] - 0s 94ms/step - loss: 0.0902 - val_loss: 0.0836\n",
      "Epoch 12/30\n",
      "5/5 [==============================] - 0s 96ms/step - loss: 0.0826 - val_loss: 0.0775\n",
      "Epoch 13/30\n",
      "5/5 [==============================] - 0s 93ms/step - loss: 0.0771 - val_loss: 0.0735\n",
      "Epoch 14/30\n",
      "5/5 [==============================] - 0s 93ms/step - loss: 0.0729 - val_loss: 0.0691\n",
      "Epoch 15/30\n",
      "5/5 [==============================] - 0s 97ms/step - loss: 0.0680 - val_loss: 0.0644\n",
      "Epoch 16/30\n",
      "5/5 [==============================] - 0s 97ms/step - loss: 0.0631 - val_loss: 0.0599\n",
      "Epoch 17/30\n",
      "5/5 [==============================] - 0s 98ms/step - loss: 0.0584 - val_loss: 0.0558\n",
      "Epoch 18/30\n",
      "5/5 [==============================] - 0s 96ms/step - loss: 0.0542 - val_loss: 0.0519\n",
      "Epoch 19/30\n",
      "5/5 [==============================] - 0s 94ms/step - loss: 0.0502 - val_loss: 0.0482\n",
      "Epoch 20/30\n",
      "5/5 [==============================] - 0s 93ms/step - loss: 0.0463 - val_loss: 0.0445\n",
      "Epoch 21/30\n",
      "5/5 [==============================] - 0s 94ms/step - loss: 0.0426 - val_loss: 0.0411\n",
      "Epoch 22/30\n",
      "5/5 [==============================] - 0s 100ms/step - loss: 0.0391 - val_loss: 0.0381\n",
      "Epoch 23/30\n",
      "5/5 [==============================] - 0s 96ms/step - loss: 0.0360 - val_loss: 0.0354\n",
      "Epoch 24/30\n",
      "5/5 [==============================] - 0s 93ms/step - loss: 0.0333 - val_loss: 0.0331\n",
      "Epoch 25/30\n",
      "5/5 [==============================] - 0s 94ms/step - loss: 0.0310 - val_loss: 0.0311\n",
      "Epoch 26/30\n",
      "5/5 [==============================] - 0s 94ms/step - loss: 0.0289 - val_loss: 0.0294\n",
      "Epoch 27/30\n",
      "5/5 [==============================] - 0s 94ms/step - loss: 0.0272 - val_loss: 0.0279\n",
      "Epoch 28/30\n",
      "5/5 [==============================] - 0s 94ms/step - loss: 0.0257 - val_loss: 0.0265\n",
      "Epoch 29/30\n",
      "5/5 [==============================] - 0s 94ms/step - loss: 0.0243 - val_loss: 0.0252\n",
      "Epoch 30/30\n",
      "5/5 [==============================] - 0s 93ms/step - loss: 0.0232 - val_loss: 0.0241\n"
     ]
    },
    {
     "data": {
      "image/png": "[encoded data removed]",
      "text/plain": [
       "<Figure size 432x288 with 1 Axes>"
      ]
     },
     "metadata": {
      "needs_background": "light"
     },
     "output_type": "display_data"
    }
   ],
   "source": [
    "# Train a model\n",
    "DMJ.train(epochs=30, batch_size=200)"
   ]
  },
  {
   "cell_type": "code",
   "execution_count": 7,
   "metadata": {},
   "outputs": [
    {
     "name": "stdout",
     "output_type": "stream",
     "text": [
      "04-20-2021--23--42-lstm-30Epochs-rank_loss-16HU-\r\n"
     ]
    }
   ],
   "source": [
    "# Save the model\n",
    "DMJ.save_model()\n",
    "print(DMJ.model_name)"
   ]
  },
  {
   "cell_type": "code",
   "execution_count": 8,
   "metadata": {},
   "outputs": [],
   "source": [
    "# Create an object for creating models\n",
    "GP = Graph_Predictions(model_path,  DMJ)"
   ]
  },
  {
   "cell_type": "code",
   "execution_count": null,
   "metadata": {
    "scrolled": true
   },
   "outputs": [],
   "source": [
    "# Where the prediction will be saved\n",
    "prediction_path = './ignorable_data/prediction_results/'\n",
    "\n",
    "model_name = DMJ.model_name\n",
    "\n",
    "# The data that the model is able to see\n",
    "past = DMJ.data_splits['x_val']\n",
    "\n",
    "# The data that the model will predict over and incrementally see\n",
    "future = DMJ.data_splits['x_test']\n",
    "\n",
    "# The size of the time-window\n",
    "window = DMJ.data_splits['x_val'].shape[1]\n",
    "\n",
    "# Generate the predictions for every company on every day\n",
    "# GP.generate_predictions(model_name, model_path, past, future, prediction_path, window, model_type='lstm', batch_size=881)\n",
    "# model_name='04-20-2021--22--51-explicit_gcn-100Epochs-rank_loss-32HU-'\n",
    "GP.generate_predictions(model_name, model_path, past, future, prediction_path, window, model_type='gcn', batch_size=881, input_Adj_matrix=DMJ.Normalized_Adjacency_Matrix)"
   ]
  },
  {
   "cell_type": "code",
   "execution_count": null,
   "metadata": {},
   "outputs": [],
   "source": [
    "datablock_path = './ignorable_data/datablocks/[55, 25, 20]_splits/'\n",
    "prediction_file = GP.most_recent_prediction_file\n",
    "\n",
    "# Using the prediction file, execute trading strategies over the dataset\n",
    "GP.generate_prediction_results_avg(5, prediction_file, prediction_path, future, datablock_path)"
   ]
  },
  {
   "cell_type": "code",
   "execution_count": null,
   "metadata": {},
   "outputs": [],
   "source": [
    "# General Stats\n",
    "GP.compare_data_blocks(datablock_path)"
   ]
  },
  {
   "cell_type": "code",
   "execution_count": 9,
   "metadata": {},
   "outputs": [
    {
     "name": "stdout",
     "output_type": "stream",
     "text": [
      "Feature 0, perturbation effect: 0.0123\n",
      "Feature 1, perturbation effect: 0.0099\n",
      "Feature 2, perturbation effect: 0.0129\n",
      "Feature 3, perturbation effect: 0.0046\n",
      "Feature 4, perturbation effect: 0.0484\n"
     ]
    },
    {
     "data": {
      "image/png": "[encoded data removed]",
      "text/plain": [
       "<Figure size 576x396 with 1 Axes>"
      ]
     },
     "metadata": {},
     "output_type": "display_data"
    },
    {
     "data": {
      "text/plain": [
       "[0.012332151054716292,\n",
       " 0.009943618880074617,\n",
       " 0.01292765840047587,\n",
       " 0.004592670945288877,\n",
       " 0.048434965871078685]"
      ]
     },
     "execution_count": 9,
     "metadata": {},
     "output_type": "execute_result"
    }
   ],
   "source": [
    "# Advanced Interpretablility\n",
    "GP.perturbate_sequential_model(DMJ.model_name, model_path, DMJ.data_splits['x_train'])"
   ]
  },
  {
   "cell_type": "code",
   "execution_count": null,
   "metadata": {},
   "outputs": [],
   "source": []
  },
  {
   "cell_type": "code",
   "execution_count": null,
   "metadata": {},
   "outputs": [],
   "source": []
  }
 ],
 "metadata": {
  "kernelspec": {
   "display_name": "Python 3",
   "language": "python",
   "name": "python3"
  },
  "language_info": {
   "codemirror_mode": {
    "name": "ipython",
    "version": 3
   },
   "file_extension": ".py",
   "mimetype": "text/x-python",
   "name": "python",
   "nbconvert_exporter": "python",
   "pygments_lexer": "ipython3",
   "version": "3.8.5"
  }
 },
 "nbformat": 4,
 "nbformat_minor": 4
}
