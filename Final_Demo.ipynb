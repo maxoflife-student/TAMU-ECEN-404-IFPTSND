{
 "cells": [
  {
   "cell_type": "code",
   "execution_count": 1,
   "metadata": {},
   "outputs": [
    {
     "data": {
      "text/html": [
       "<style>.container { width:80% !important; }</style>"
      ],
      "text/plain": [
       "<IPython.core.display.HTML object>"
      ]
     },
     "metadata": {},
     "output_type": "display_data"
    }
   ],
   "source": [
    "# Ignore cuDDa warning messages\n",
    "import warnings\n",
    "import os\n",
    "warnings.filterwarnings('ignore')\n",
    "\n",
    "# Enable GPU\n",
    "import tensorflow as tf\n",
    "physical_devices = tf.config.list_physical_devices('GPU') \n",
    "tf.config.experimental.set_memory_growth(physical_devices[0], True)\n",
    "\n",
    "# # Expands the Jupyter Notebook Output Size to fit your window\n",
    "from IPython.core.display import display, HTML\n",
    "display(HTML(\"<style>.container { width:80% !important; }</style>\"))\n",
    "\n",
    "# Change the working directory back to the original to keep paths the same between files\n",
    "os.chdir(r'C:\\Users\\Maxwell\\PycharmProjects\\TAMU-ECEN-403-IFPTSND\\ECEN_403_IFM\\TAMU-ECEN-403-IFPTSND')\n",
    "\n",
    "# warnings.filterwarnings('ignore')\n",
    "# os.environ['TF_CPP_MIN_LOG_LEVEL'] = '3'\n",
    "# tf.compat.v1.logging.set_verbosity(tf.compat.v1.logging.ERROR)"
   ]
  },
  {
   "cell_type": "code",
   "execution_count": 2,
   "metadata": {},
   "outputs": [
    {
     "data": {
      "application/javascript": [
       "    IPython.OutputArea.auto_scroll_threshold = 9999\n"
      ],
      "text/plain": [
       "<IPython.core.display.Javascript object>"
      ]
     },
     "metadata": {},
     "output_type": "display_data"
    }
   ],
   "source": [
    "%%javascript\n",
    "    IPython.OutputArea.auto_scroll_threshold = 9999"
   ]
  },
  {
   "cell_type": "code",
   "execution_count": 3,
   "metadata": {},
   "outputs": [],
   "source": [
    "# Import all of my custom files\n",
    "from tensorflow_models import *\n",
    "from explore_entities import *\n",
    "from graph_predictions import *"
   ]
  },
  {
   "cell_type": "code",
   "execution_count": 4,
   "metadata": {},
   "outputs": [],
   "source": [
    "# Create our model generator object\n",
    "dataset_path = './ignorable_data/data_sets/NASDAQ_Cleaned - Contains ZUMZ/'\n",
    "model_path = './ignorable_data/models/[40, 40, 20]_split/'\n",
    "DMJ = TF_Models(dataset_path, model_path, reload=False, perc_split=[2,2,96])"
   ]
  },
  {
   "cell_type": "code",
   "execution_count": 8,
   "metadata": {},
   "outputs": [
    {
     "data": {
      "application/vnd.jupyter.widget-view+json": {
       "model_id": "eab5b60d35434e2bafb2ea0baf4bac41",
       "version_major": 2,
       "version_minor": 0
      },
      "text/plain": [
       "GridBox(children=(Dropdown(description='Model Types:', options=('lstm', 'explicit_gcn', 'implicit_gcn', 'lstm_…"
      ]
     },
     "metadata": {},
     "output_type": "display_data"
    },
    {
     "name": "stdout",
     "output_type": "stream",
     "text": [
      "Model: \"functional_3\"\n",
      "__________________________________________________________________________________________________\n",
      "Layer (type)                    Output Shape         Param #     Connected to                     \n",
      "==================================================================================================\n",
      "input_3 (InputLayer)            [(None, 24, 5)]      0                                            \n",
      "__________________________________________________________________________________________________\n",
      "lstm_1 (LSTM)                   (None, 24, 16)       1408        input_3[0][0]                    \n",
      "__________________________________________________________________________________________________\n",
      "dense_4 (Dense)                 (None, 24, 1)        17          lstm_1[0][0]                     \n",
      "__________________________________________________________________________________________________\n",
      "dense_3 (Dense)                 (None, 24, 1)        17          lstm_1[0][0]                     \n",
      "__________________________________________________________________________________________________\n",
      "tf_op_layer_ExpandDims_6 (Tenso [(None, 24, 1, 1)]   0           dense_4[0][0]                    \n",
      "__________________________________________________________________________________________________\n",
      "input_4 (InputLayer)            [(None, 881, 92)]    0                                            \n",
      "__________________________________________________________________________________________________\n",
      "tf_op_layer_ExpandDims_4 (Tenso [(None, 24, 1, 1)]   0           dense_3[0][0]                    \n",
      "__________________________________________________________________________________________________\n",
      "tf_op_layer_Shape_3 (TensorFlow [(4,)]               0           tf_op_layer_ExpandDims_6[0][0]   \n",
      "__________________________________________________________________________________________________\n",
      "dense_2 (Dense)                 (None, 881, 1)       93          input_4[0][0]                    \n",
      "__________________________________________________________________________________________________\n",
      "tf_op_layer_Shape_2 (TensorFlow [(4,)]               0           tf_op_layer_ExpandDims_4[0][0]   \n",
      "__________________________________________________________________________________________________\n",
      "tf_op_layer_strided_slice_14 (T [()]                 0           tf_op_layer_Shape_3[0][0]        \n",
      "__________________________________________________________________________________________________\n",
      "tf_op_layer_strided_slice_5 (Te [(None, 881)]        0           dense_2[0][0]                    \n",
      "__________________________________________________________________________________________________\n",
      "tf_op_layer_strided_slice_10 (T [()]                 0           tf_op_layer_Shape_2[0][0]        \n",
      "__________________________________________________________________________________________________\n",
      "tf_op_layer_Mul_3 (TensorFlowOp [()]                 0           tf_op_layer_strided_slice_14[0][0\n",
      "__________________________________________________________________________________________________\n",
      "tf_op_layer_ExpandDims_2 (Tenso [(None, 1, 881)]     0           tf_op_layer_strided_slice_5[0][0]\n",
      "__________________________________________________________________________________________________\n",
      "tf_op_layer_Mul_2 (TensorFlowOp [()]                 0           tf_op_layer_strided_slice_10[0][0\n",
      "__________________________________________________________________________________________________\n",
      "tf_op_layer_ExpandDims_7 (Tenso [(None, 24, 1, 1, 1) 0           tf_op_layer_ExpandDims_6[0][0]   \n",
      "__________________________________________________________________________________________________\n",
      "tf_op_layer_strided_slice_13 (T [(2,)]               0           tf_op_layer_Shape_3[0][0]        \n",
      "__________________________________________________________________________________________________\n",
      "tf_op_layer_concat_4/values_1 ( [(1,)]               0           tf_op_layer_Mul_3[0][0]          \n",
      "__________________________________________________________________________________________________\n",
      "tf_op_layer_strided_slice_15 (T [(1,)]               0           tf_op_layer_Shape_3[0][0]        \n",
      "__________________________________________________________________________________________________\n",
      "tf_op_layer_Shape_1 (TensorFlow [(3,)]               0           tf_op_layer_ExpandDims_2[0][0]   \n",
      "__________________________________________________________________________________________________\n",
      "tf_op_layer_ExpandDims_5 (Tenso [(None, 24, 1, 1, 1) 0           tf_op_layer_ExpandDims_4[0][0]   \n",
      "__________________________________________________________________________________________________\n",
      "tf_op_layer_strided_slice_9 (Te [(2,)]               0           tf_op_layer_Shape_2[0][0]        \n",
      "__________________________________________________________________________________________________\n",
      "tf_op_layer_concat_3/values_1 ( [(1,)]               0           tf_op_layer_Mul_2[0][0]          \n",
      "__________________________________________________________________________________________________\n",
      "tf_op_layer_strided_slice_11 (T [(1,)]               0           tf_op_layer_Shape_2[0][0]        \n",
      "__________________________________________________________________________________________________\n",
      "tf_op_layer_Tile_3 (TensorFlowO [(None, 24, 1, 881,  0           tf_op_layer_ExpandDims_7[0][0]   \n",
      "__________________________________________________________________________________________________\n",
      "tf_op_layer_concat_4 (TensorFlo [(4,)]               0           tf_op_layer_strided_slice_13[0][0\n",
      "                                                                 tf_op_layer_concat_4/values_1[0][\n",
      "                                                                 tf_op_layer_strided_slice_15[0][0\n",
      "__________________________________________________________________________________________________\n",
      "tf_op_layer_strided_slice_7 (Te [()]                 0           tf_op_layer_Shape_1[0][0]        \n",
      "__________________________________________________________________________________________________\n",
      "tf_op_layer_Tile_2 (TensorFlowO [(None, 24, 1, 881,  0           tf_op_layer_ExpandDims_5[0][0]   \n",
      "__________________________________________________________________________________________________\n",
      "tf_op_layer_concat_3 (TensorFlo [(4,)]               0           tf_op_layer_strided_slice_9[0][0]\n",
      "                                                                 tf_op_layer_concat_3/values_1[0][\n",
      "                                                                 tf_op_layer_strided_slice_11[0][0\n",
      "__________________________________________________________________________________________________\n",
      "tf_op_layer_Reshape_3 (TensorFl [(None, 24, None, 1) 0           tf_op_layer_Tile_3[0][0]         \n",
      "                                                                 tf_op_layer_concat_4[0][0]       \n",
      "__________________________________________________________________________________________________\n",
      "tf_op_layer_Mul_1 (TensorFlowOp [()]                 0           tf_op_layer_strided_slice_7[0][0]\n",
      "__________________________________________________________________________________________________\n",
      "tf_op_layer_Reshape_2 (TensorFl [(None, 24, None, 1) 0           tf_op_layer_Tile_2[0][0]         \n",
      "                                                                 tf_op_layer_concat_3[0][0]       \n",
      "__________________________________________________________________________________________________\n",
      "tf_op_layer_strided_slice_16 (T [(None, 24, None)]   0           tf_op_layer_Reshape_3[0][0]      \n",
      "__________________________________________________________________________________________________\n",
      "tf_op_layer_ExpandDims_3 (Tenso [(None, 1, 1, 881)]  0           tf_op_layer_ExpandDims_2[0][0]   \n",
      "__________________________________________________________________________________________________\n",
      "tf_op_layer_strided_slice_6 (Te [(1,)]               0           tf_op_layer_Shape_1[0][0]        \n",
      "__________________________________________________________________________________________________\n",
      "tf_op_layer_concat_2/values_1 ( [(1,)]               0           tf_op_layer_Mul_1[0][0]          \n",
      "__________________________________________________________________________________________________\n",
      "tf_op_layer_strided_slice_8 (Te [(1,)]               0           tf_op_layer_Shape_1[0][0]        \n",
      "__________________________________________________________________________________________________\n",
      "tf_op_layer_strided_slice_12 (T [(None, 24, None)]   0           tf_op_layer_Reshape_2[0][0]      \n",
      "__________________________________________________________________________________________________\n",
      "tf_op_layer_Transpose_3 (Tensor [(None, 24, None)]   0           tf_op_layer_strided_slice_16[0][0\n",
      "__________________________________________________________________________________________________\n",
      "tf_op_layer_Tile_1 (TensorFlowO [(None, 1, 24, 881)] 0           tf_op_layer_ExpandDims_3[0][0]   \n",
      "__________________________________________________________________________________________________\n",
      "tf_op_layer_concat_2 (TensorFlo [(3,)]               0           tf_op_layer_strided_slice_6[0][0]\n",
      "                                                                 tf_op_layer_concat_2/values_1[0][\n",
      "                                                                 tf_op_layer_strided_slice_8[0][0]\n",
      "__________________________________________________________________________________________________\n",
      "tf_op_layer_Add (TensorFlowOpLa [(None, 24, None)]   0           tf_op_layer_strided_slice_12[0][0\n",
      "                                                                 tf_op_layer_Transpose_3[0][0]    \n",
      "__________________________________________________________________________________________________\n",
      "tf_op_layer_Reshape_1 (TensorFl [(None, None, 881)]  0           tf_op_layer_Tile_1[0][0]         \n",
      "                                                                 tf_op_layer_concat_2[0][0]       \n",
      "__________________________________________________________________________________________________\n",
      "tf_op_layer_Add_1 (TensorFlowOp [(None, 24, 881)]    0           tf_op_layer_Add[0][0]            \n",
      "                                                                 tf_op_layer_Reshape_1[0][0]      \n",
      "__________________________________________________________________________________________________\n",
      "tf_op_layer_Transpose_4 (Tensor [(881, 24, None)]    0           tf_op_layer_Add_1[0][0]          \n",
      "__________________________________________________________________________________________________\n",
      "tf_op_layer_Softmax_1 (TensorFl [(881, 24, None)]    0           tf_op_layer_Transpose_4[0][0]    \n",
      "__________________________________________________________________________________________________\n",
      "tf_op_layer_Transpose_5 (Tensor [(None, 24, 881)]    0           tf_op_layer_Softmax_1[0][0]      \n",
      "__________________________________________________________________________________________________\n",
      "ein__multiply_3 (Ein_Multiply)  (None, 24, 16)       0           tf_op_layer_Transpose_5[0][0]    \n",
      "                                                                 lstm_1[0][0]                     \n",
      "__________________________________________________________________________________________________\n",
      "tf_op_layer_concat_5 (TensorFlo [(None, 24, 32)]     0           lstm_1[0][0]                     \n",
      "                                                                 ein__multiply_3[0][0]            \n",
      "__________________________________________________________________________________________________\n",
      "dense_5 (Dense)                 (None, 24, 1)        33          tf_op_layer_concat_5[0][0]       \n",
      "__________________________________________________________________________________________________\n",
      "tf_op_layer_strided_slice_17 (T [(None, 881)]        0           tf_op_layer_Transpose_5[0][0]    \n",
      "==================================================================================================\n",
      "Total params: 1,568\n",
      "Trainable params: 1,568\n",
      "Non-trainable params: 0\n",
      "__________________________________________________________________________________________________\n"
     ]
    }
   ],
   "source": [
    "# Create a model\n",
    "DMJ.generate_model()"
   ]
  },
  {
   "cell_type": "code",
   "execution_count": null,
   "metadata": {
    "scrolled": false
   },
   "outputs": [
    {
     "name": "stdout",
     "output_type": "stream",
     "text": [
      "Epoch 1/70\n",
      "1/1 [==============================] - 0s 370ms/step - loss: 0.0643 - dense_5_loss: 0.0643 - val_loss: 0.0667 - val_dense_5_loss: 0.0667\n",
      "Epoch 2/70\n",
      "1/1 [==============================] - 0s 252ms/step - loss: 0.0636 - dense_5_loss: 0.0636 - val_loss: 0.0660 - val_dense_5_loss: 0.0660\n",
      "Epoch 3/70\n",
      "1/1 [==============================] - 0s 261ms/step - loss: 0.0632 - dense_5_loss: 0.0632 - val_loss: 0.0654 - val_dense_5_loss: 0.0654\n",
      "Epoch 4/70\n",
      "1/1 [==============================] - 0s 263ms/step - loss: 0.0629 - dense_5_loss: 0.0629 - val_loss: 0.0648 - val_dense_5_loss: 0.0648\n",
      "Epoch 5/70\n",
      "1/1 [==============================] - 0s 249ms/step - loss: 0.0626 - dense_5_loss: 0.0626 - val_loss: 0.0640 - val_dense_5_loss: 0.0640\n",
      "Epoch 6/70\n",
      "1/1 [==============================] - 0s 244ms/step - loss: 0.0620 - dense_5_loss: 0.0620 - val_loss: 0.0630 - val_dense_5_loss: 0.0630\n",
      "Epoch 7/70\n",
      "1/1 [==============================] - 0s 258ms/step - loss: 0.0611 - dense_5_loss: 0.0611 - val_loss: 0.0618 - val_dense_5_loss: 0.0618\n",
      "Epoch 8/70\n",
      "1/1 [==============================] - 0s 248ms/step - loss: 0.0600 - dense_5_loss: 0.0600 - val_loss: 0.0605 - val_dense_5_loss: 0.0605\n",
      "Epoch 9/70\n",
      "1/1 [==============================] - 0s 260ms/step - loss: 0.0586 - dense_5_loss: 0.0586 - val_loss: 0.0591 - val_dense_5_loss: 0.0591\n",
      "Epoch 10/70\n",
      "1/1 [==============================] - 0s 247ms/step - loss: 0.0573 - dense_5_loss: 0.0573 - val_loss: 0.0578 - val_dense_5_loss: 0.0578\n",
      "Epoch 11/70\n",
      "1/1 [==============================] - 0s 298ms/step - loss: 0.0559 - dense_5_loss: 0.0559 - val_loss: 0.0567 - val_dense_5_loss: 0.0567\n",
      "Epoch 12/70\n",
      "1/1 [==============================] - 0s 249ms/step - loss: 0.0547 - dense_5_loss: 0.0547 - val_loss: 0.0557 - val_dense_5_loss: 0.0557\n",
      "Epoch 13/70\n",
      "1/1 [==============================] - 0s 283ms/step - loss: 0.0536 - dense_5_loss: 0.0536 - val_loss: 0.0549 - val_dense_5_loss: 0.0549\n",
      "Epoch 14/70\n",
      "1/1 [==============================] - 0s 252ms/step - loss: 0.0528 - dense_5_loss: 0.0528 - val_loss: 0.0542 - val_dense_5_loss: 0.0542\n",
      "Epoch 15/70\n",
      "1/1 [==============================] - 0s 246ms/step - loss: 0.0521 - dense_5_loss: 0.0521 - val_loss: 0.0535 - val_dense_5_loss: 0.0535\n",
      "Epoch 16/70\n",
      "1/1 [==============================] - 0s 257ms/step - loss: 0.0513 - dense_5_loss: 0.0513 - val_loss: 0.0528 - val_dense_5_loss: 0.0528\n",
      "Epoch 17/70\n",
      "1/1 [==============================] - 0s 290ms/step - loss: 0.0506 - dense_5_loss: 0.0506 - val_loss: 0.0520 - val_dense_5_loss: 0.0520\n",
      "Epoch 18/70\n",
      "1/1 [==============================] - 0s 243ms/step - loss: 0.0499 - dense_5_loss: 0.0499 - val_loss: 0.0511 - val_dense_5_loss: 0.0511\n",
      "Epoch 19/70\n",
      "1/1 [==============================] - 0s 242ms/step - loss: 0.0491 - dense_5_loss: 0.0491 - val_loss: 0.0502 - val_dense_5_loss: 0.0502\n",
      "Epoch 20/70\n",
      "1/1 [==============================] - 0s 264ms/step - loss: 0.0482 - dense_5_loss: 0.0482 - val_loss: 0.0493 - val_dense_5_loss: 0.0493\n",
      "Epoch 21/70\n",
      "1/1 [==============================] - 0s 244ms/step - loss: 0.0474 - dense_5_loss: 0.0474 - val_loss: 0.0484 - val_dense_5_loss: 0.0484\n",
      "Epoch 22/70\n",
      "1/1 [==============================] - 0s 260ms/step - loss: 0.0466 - dense_5_loss: 0.0466 - val_loss: 0.0476 - val_dense_5_loss: 0.0476\n",
      "Epoch 23/70\n",
      "1/1 [==============================] - 0s 253ms/step - loss: 0.0458 - dense_5_loss: 0.0458 - val_loss: 0.0468 - val_dense_5_loss: 0.0468\n",
      "Epoch 24/70\n",
      "1/1 [==============================] - 0s 259ms/step - loss: 0.0452 - dense_5_loss: 0.0452 - val_loss: 0.0461 - val_dense_5_loss: 0.0461\n",
      "Epoch 25/70\n",
      "1/1 [==============================] - 0s 251ms/step - loss: 0.0445 - dense_5_loss: 0.0445 - val_loss: 0.0454 - val_dense_5_loss: 0.0454\n",
      "Epoch 26/70\n",
      "1/1 [==============================] - 0s 254ms/step - loss: 0.0438 - dense_5_loss: 0.0438 - val_loss: 0.0447 - val_dense_5_loss: 0.0447\n",
      "Epoch 27/70\n",
      "1/1 [==============================] - 0s 256ms/step - loss: 0.0430 - dense_5_loss: 0.0430 - val_loss: 0.0440 - val_dense_5_loss: 0.0440\n",
      "Epoch 28/70\n",
      "1/1 [==============================] - 0s 246ms/step - loss: 0.0423 - dense_5_loss: 0.0423 - val_loss: 0.0433 - val_dense_5_loss: 0.0433\n",
      "Epoch 29/70\n",
      "1/1 [==============================] - 0s 253ms/step - loss: 0.0414 - dense_5_loss: 0.0414 - val_loss: 0.0426 - val_dense_5_loss: 0.0426\n",
      "Epoch 30/70\n",
      "1/1 [==============================] - 0s 262ms/step - loss: 0.0406 - dense_5_loss: 0.0406 - val_loss: 0.0419 - val_dense_5_loss: 0.0419\n",
      "Epoch 31/70\n",
      "1/1 [==============================] - 0s 274ms/step - loss: 0.0398 - dense_5_loss: 0.0398 - val_loss: 0.0414 - val_dense_5_loss: 0.0414\n",
      "Epoch 32/70\n",
      "1/1 [==============================] - 0s 245ms/step - loss: 0.0391 - dense_5_loss: 0.0391 - val_loss: 0.0409 - val_dense_5_loss: 0.0409\n",
      "Epoch 33/70\n",
      "1/1 [==============================] - 0s 254ms/step - loss: 0.0385 - dense_5_loss: 0.0385 - val_loss: 0.0405 - val_dense_5_loss: 0.0405\n",
      "Epoch 34/70\n",
      "1/1 [==============================] - 0s 246ms/step - loss: 0.0379 - dense_5_loss: 0.0379 - val_loss: 0.0401 - val_dense_5_loss: 0.0401\n",
      "Epoch 35/70\n",
      "1/1 [==============================] - 0s 263ms/step - loss: 0.0374 - dense_5_loss: 0.0374 - val_loss: 0.0397 - val_dense_5_loss: 0.0397\n",
      "Epoch 36/70\n",
      "1/1 [==============================] - 0s 252ms/step - loss: 0.0369 - dense_5_loss: 0.0369 - val_loss: 0.0392 - val_dense_5_loss: 0.0392\n",
      "Epoch 37/70\n",
      "1/1 [==============================] - 0s 257ms/step - loss: 0.0364 - dense_5_loss: 0.0364 - val_loss: 0.0388 - val_dense_5_loss: 0.0388\n",
      "Epoch 38/70\n",
      "1/1 [==============================] - 0s 246ms/step - loss: 0.0359 - dense_5_loss: 0.0359 - val_loss: 0.0382 - val_dense_5_loss: 0.0382\n",
      "Epoch 39/70\n",
      "1/1 [==============================] - 0s 253ms/step - loss: 0.0353 - dense_5_loss: 0.0353 - val_loss: 0.0375 - val_dense_5_loss: 0.0375\n",
      "Epoch 40/70\n",
      "1/1 [==============================] - 0s 253ms/step - loss: 0.0348 - dense_5_loss: 0.0348 - val_loss: 0.0369 - val_dense_5_loss: 0.0369\n",
      "Epoch 41/70\n",
      "1/1 [==============================] - 0s 245ms/step - loss: 0.0342 - dense_5_loss: 0.0342 - val_loss: 0.0363 - val_dense_5_loss: 0.0363\n",
      "Epoch 42/70\n",
      "1/1 [==============================] - 0s 254ms/step - loss: 0.0336 - dense_5_loss: 0.0336 - val_loss: 0.0356 - val_dense_5_loss: 0.0356\n",
      "Epoch 43/70\n",
      "1/1 [==============================] - ETA: 0s - loss: 0.0331 - dense_5_loss: 0.0331"
     ]
    }
   ],
   "source": [
    "# Train a model\n",
    "DMJ.train(epochs=70, batch_size=200)"
   ]
  },
  {
   "cell_type": "code",
   "execution_count": null,
   "metadata": {},
   "outputs": [],
   "source": [
    "# Save the model\n",
    "DMJ.save_model()\n",
    "print(DMJ.model_name)"
   ]
  },
  {
   "cell_type": "code",
   "execution_count": null,
   "metadata": {},
   "outputs": [],
   "source": [
    "# Create an object for creating models\n",
    "GP = Graph_Predictions(model_path,  DMJ)"
   ]
  },
  {
   "cell_type": "code",
   "execution_count": null,
   "metadata": {
    "scrolled": true
   },
   "outputs": [],
   "source": [
    "# Where the prediction will be saved\n",
    "prediction_path = './ignorable_data/prediction_results/'\n",
    "\n",
    "model_name = DMJ.model_name\n",
    "\n",
    "# The data that the model is able to see\n",
    "past = DMJ.data_splits['x_val']\n",
    "\n",
    "# The data that the model will predict over and incrementally see\n",
    "future = DMJ.data_splits['x_test']\n",
    "\n",
    "# The size of the time-window\n",
    "window = DMJ.data_splits['x_val'].shape[1]\n",
    "\n",
    "# Generate the predictions for every company on every day\n",
    "# GP.generate_predictions(model_name, model_path, past, future, prediction_path, window, model_type='lstm', batch_size=881)\n",
    "# model_name='04-20-2021--22--51-explicit_gcn-100Epochs-rank_loss-32HU-'\n",
    "GP.generate_predictions(model_name, model_path, past, future, prediction_path, window, model_type='gcn', batch_size=881, input_Adj_matrix=DMJ.Normalized_Adjacency_Matrix)"
   ]
  },
  {
   "cell_type": "code",
   "execution_count": null,
   "metadata": {},
   "outputs": [],
   "source": [
    "datablock_path = './ignorable_data/datablocks/[55, 25, 20]_splits/'\n",
    "prediction_file = GP.most_recent_prediction_file\n",
    "\n",
    "# Using the prediction file, execute trading strategies over the dataset\n",
    "GP.generate_prediction_results_avg(5, prediction_file, prediction_path, future, datablock_path)"
   ]
  },
  {
   "cell_type": "code",
   "execution_count": null,
   "metadata": {},
   "outputs": [],
   "source": [
    "# General Stats\n",
    "GP.compare_data_blocks(datablock_path)"
   ]
  },
  {
   "cell_type": "code",
   "execution_count": null,
   "metadata": {},
   "outputs": [],
   "source": [
    "# Advanced Interpretablility\n",
    "GP.perturbate_sequential_model(DMJ.model_name, model_path, DMJ.data_splits['x_train'])"
   ]
  },
  {
   "cell_type": "code",
   "execution_count": null,
   "metadata": {},
   "outputs": [],
   "source": []
  },
  {
   "cell_type": "code",
   "execution_count": null,
   "metadata": {},
   "outputs": [],
   "source": []
  }
 ],
 "metadata": {
  "kernelspec": {
   "display_name": "Python 3",
   "language": "python",
   "name": "python3"
  },
  "language_info": {
   "codemirror_mode": {
    "name": "ipython",
    "version": 3
   },
   "file_extension": ".py",
   "mimetype": "text/x-python",
   "name": "python",
   "nbconvert_exporter": "python",
   "pygments_lexer": "ipython3",
   "version": "3.8.5"
  }
 },
 "nbformat": 4,
 "nbformat_minor": 4
}
