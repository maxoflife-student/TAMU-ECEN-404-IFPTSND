{
 "cells": [
  {
   "cell_type": "code",
   "execution_count": 1,
   "metadata": {},
   "outputs": [
    {
     "data": {
      "text/html": [
       "<style>.container { width:80% !important; }</style>"
      ],
      "text/plain": [
       "<IPython.core.display.HTML object>"
      ]
     },
     "metadata": {},
     "output_type": "display_data"
    }
   ],
   "source": [
    "# Ignore cuDDa warning messages\n",
    "import warnings\n",
    "import os\n",
    "warnings.filterwarnings('ignore')\n",
    "\n",
    "# Enable GPU\n",
    "import tensorflow as tf\n",
    "physical_devices = tf.config.list_physical_devices('GPU') \n",
    "tf.config.experimental.set_memory_growth(physical_devices[0], True)\n",
    "\n",
    "# # Expands the Jupyter Notebook Output Size to fit your window\n",
    "from IPython.core.display import display, HTML\n",
    "display(HTML(\"<style>.container { width:80% !important; }</style>\"))\n",
    "\n",
    "# Change the working directory back to the original to keep paths the same between files\n",
    "os.chdir(r'C:\\Users\\Maxwell\\PycharmProjects\\TAMU-ECEN-403-IFPTSND\\ECEN_403_IFM\\TAMU-ECEN-403-IFPTSND')\n",
    "\n",
    "# warnings.filterwarnings('ignore')\n",
    "# os.environ['TF_CPP_MIN_LOG_LEVEL'] = '3'\n",
    "# tf.compat.v1.logging.set_verbosity(tf.compat.v1.logging.ERROR)"
   ]
  },
  {
   "cell_type": "code",
   "execution_count": 2,
   "metadata": {},
   "outputs": [
    {
     "data": {
      "application/javascript": [
       "    IPython.OutputArea.auto_scroll_threshold = 9999\n"
      ],
      "text/plain": [
       "<IPython.core.display.Javascript object>"
      ]
     },
     "metadata": {},
     "output_type": "display_data"
    }
   ],
   "source": [
    "%%javascript\n",
    "    IPython.OutputArea.auto_scroll_threshold = 9999"
   ]
  },
  {
   "cell_type": "code",
   "execution_count": 3,
   "metadata": {},
   "outputs": [],
   "source": [
    "# Import all of my custom files\n",
    "from tensorflow_models import *\n",
    "from explore_entities import *\n",
    "from graph_predictions import *"
   ]
  },
  {
   "cell_type": "code",
   "execution_count": 4,
   "metadata": {},
   "outputs": [],
   "source": [
    "# Create our model generator object\n",
    "dataset_path = './ignorable_data/data_sets/NASDAQ_Cleaned - Contains ZUMZ/'\n",
    "model_path = './ignorable_data/models/[40, 40, 20]_split/'\n",
    "DMJ = TF_Models(dataset_path, model_path, reload=False, perc_split=[1,1,98])"
   ]
  },
  {
   "cell_type": "code",
   "execution_count": 5,
   "metadata": {},
   "outputs": [
    {
     "data": {
      "application/vnd.jupyter.widget-view+json": {
       "model_id": "8caedd3d08f84833bc88028f20a85aff",
       "version_major": 2,
       "version_minor": 0
      },
      "text/plain": [
       "GridBox(children=(Dropdown(description='Model Types:', options=('lstm', 'explicit_gcn', 'implicit_gcn', 'lstm_…"
      ]
     },
     "metadata": {},
     "output_type": "display_data"
    },
    {
     "name": "stdout",
     "output_type": "stream",
     "text": [
      "Model: \"functional_1\"\n",
      "_________________________________________________________________\n",
      "Layer (type)                 Output Shape              Param #   \n",
      "=================================================================\n",
      "input_1 (InputLayer)         [(None, 12, 5)]           0         \n",
      "_________________________________________________________________\n",
      "lstm (LSTM)                  (None, 12, 32)            4864      \n",
      "_________________________________________________________________\n",
      "dense (Dense)                (None, 12, 1)             33        \n",
      "=================================================================\n",
      "Total params: 4,897\n",
      "Trainable params: 4,897\n",
      "Non-trainable params: 0\n",
      "_________________________________________________________________\n"
     ]
    }
   ],
   "source": [
    "# Create a model\n",
    "DMJ.generate_model()"
   ]
  },
  {
   "cell_type": "code",
   "execution_count": 6,
   "metadata": {
    "scrolled": false
   },
   "outputs": [
    {
     "name": "stdout",
     "output_type": "stream",
     "text": [
      "Epoch 1/10\n",
      "5/5 [==============================] - 0s 69ms/step - loss: 1.0106 - val_loss: 0.8563\n",
      "Epoch 2/10\n",
      "5/5 [==============================] - 0s 65ms/step - loss: 0.7341 - val_loss: 0.5232\n",
      "Epoch 3/10\n",
      "5/5 [==============================] - 0s 61ms/step - loss: 0.4254 - val_loss: 0.2746\n",
      "Epoch 4/10\n",
      "5/5 [==============================] - 0s 64ms/step - loss: 0.2192 - val_loss: 0.1555\n",
      "Epoch 5/10\n",
      "5/5 [==============================] - 0s 58ms/step - loss: 0.1493 - val_loss: 0.1608\n",
      "Epoch 6/10\n",
      "5/5 [==============================] - 0s 63ms/step - loss: 0.1592 - val_loss: 0.1542\n",
      "Epoch 7/10\n",
      "5/5 [==============================] - 0s 64ms/step - loss: 0.1399 - val_loss: 0.1231\n",
      "Epoch 8/10\n",
      "5/5 [==============================] - 0s 60ms/step - loss: 0.1136 - val_loss: 0.1065\n",
      "Epoch 9/10\n",
      "5/5 [==============================] - 0s 64ms/step - loss: 0.1024 - val_loss: 0.1006\n",
      "Epoch 10/10\n",
      "5/5 [==============================] - 0s 63ms/step - loss: 0.0971 - val_loss: 0.0947\n"
     ]
    },
    {
     "data": {
      "image/png": "[encoded data removed]",
      "text/plain": [
       "<Figure size 432x288 with 1 Axes>"
      ]
     },
     "metadata": {
      "needs_background": "light"
     },
     "output_type": "display_data"
    }
   ],
   "source": [
    "# Train a model\n",
    "DMJ.train(epochs=10, batch_size=200)"
   ]
  },
  {
   "cell_type": "code",
   "execution_count": 7,
   "metadata": {},
   "outputs": [
    {
     "name": "stdout",
     "output_type": "stream",
     "text": [
      "04-20-2021--20--43-lstm-10Epochs-rank_loss-32-HU-\r\n"
     ]
    }
   ],
   "source": [
    "DMJ.save_model()\n",
    "print(DMJ.model_name)"
   ]
  },
  {
   "cell_type": "code",
   "execution_count": null,
   "metadata": {},
   "outputs": [],
   "source": [
    "# Create an object for creating models\n",
    "GP = Graph_Predictions(model_path,  DMJ)"
   ]
  },
  {
   "cell_type": "code",
   "execution_count": null,
   "metadata": {
    "scrolled": true
   },
   "outputs": [],
   "source": [
    "# Where the prediction will be saved\n",
    "prediction_path = './ignorable_data/prediction_results/'\n",
    "\n",
    "# The data that the model is able to see\n",
    "past = DMJ.data_splits['x_val']\n",
    "\n",
    "# The data that the model will predict over and incrementally see\n",
    "future = DMJ.data_splits['x_test']\n",
    "\n",
    "# The size of the time-window\n",
    "window = DMJ.data_splits['x_train'].shape[1]\n",
    "\n",
    "# Generate the predictions for every company on every day\n",
    "GP.generate_predictions(None, model_path, past, future, prediction_path, window, model_type='lstm', batch_size=881)"
   ]
  },
  {
   "cell_type": "code",
   "execution_count": null,
   "metadata": {},
   "outputs": [],
   "source": [
    "datablock_path = './ignorable_data/datablocks/[55, 25, 20]_splits/'\n",
    "prediction_file = GP.most_recent_prediction_file\n",
    "\n",
    "# Using the prediction file, execute trading strategies over the dataset\n",
    "GP.generate_prediction_results_avg(AVG=1, prediction_file, prediction_path, future, datablock_path)"
   ]
  },
  {
   "cell_type": "code",
   "execution_count": null,
   "metadata": {},
   "outputs": [],
   "source": [
    "GP.compare_data_blocks(datablock_path)"
   ]
  }
 ],
 "metadata": {
  "kernelspec": {
   "display_name": "Python 3",
   "language": "python",
   "name": "python3"
  },
  "language_info": {
   "codemirror_mode": {
    "name": "ipython",
    "version": 3
   },
   "file_extension": ".py",
   "mimetype": "text/x-python",
   "name": "python",
   "nbconvert_exporter": "python",
   "pygments_lexer": "ipython3",
   "version": "3.8.5"
  }
 },
 "nbformat": 4,
 "nbformat_minor": 4
}
