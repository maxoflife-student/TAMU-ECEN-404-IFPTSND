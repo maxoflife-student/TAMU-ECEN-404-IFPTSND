{
 "cells": [
  {
   "cell_type": "code",
   "execution_count": 1,
   "metadata": {},
   "outputs": [
    {
     "data": {
      "text/html": [
       "<style>.container { width:100% !important; }</style>"
      ],
      "text/plain": [
       "<IPython.core.display.HTML object>"
      ]
     },
     "metadata": {},
     "output_type": "display_data"
    }
   ],
   "source": [
    "import tensorflow as tf\n",
    "# Enable GPU\n",
    "physical_devices = tf.config.list_physical_devices('GPU') \n",
    "tf.config.experimental.set_memory_growth(physical_devices[0], True)\n",
    "\n",
    "# Expands the Jupyter Notebook Output Size to fit your window\n",
    "from IPython.core.display import display, HTML\n",
    "display(HTML(\"<style>.container { width:100% !important; }</style>\"))"
   ]
  },
  {
   "cell_type": "markdown",
   "metadata": {},
   "source": [
    "## Load in custom TF_Models"
   ]
  },
  {
   "cell_type": "code",
   "execution_count": 2,
   "metadata": {
    "scrolled": false
   },
   "outputs": [],
   "source": [
    "from tensorflow_models import TF_Models, Ein_Multiply, leaky_relu, rank_loss_func\n",
    "# Create the model training object\n",
    "DMJ = TF_Models('./data_sets/NASDAQ_Cleaned', './models', reload=False)"
   ]
  },
  {
   "cell_type": "markdown",
   "metadata": {},
   "source": [
    "## Select parameters & generate the model"
   ]
  },
  {
   "cell_type": "code",
   "execution_count": 3,
   "metadata": {
    "scrolled": true
   },
   "outputs": [
    {
     "data": {
      "application/vnd.jupyter.widget-view+json": {
       "model_id": "3b46d643a28e4acebf45a5bde46988b2",
       "version_major": 2,
       "version_minor": 0
      },
      "text/plain": [
       "GridBox(children=(Dropdown(description='Model Types:', options=('lstm', 'lstm_gcn_1', 'lstm_gcn_2', 'lstm_gcn_…"
      ]
     },
     "metadata": {},
     "output_type": "display_data"
    },
    {
     "name": "stdout",
     "output_type": "stream",
     "text": [
      "Model: \"functional_1\"\n",
      "__________________________________________________________________________________________________\n",
      "Layer (type)                    Output Shape         Param #     Connected to                     \n",
      "==================================================================================================\n",
      "input_1 (InputLayer)            [(None, 1239, 5)]    0                                            \n",
      "__________________________________________________________________________________________________\n",
      "lstm_2 (LSTM)                   (None, 1239, 70)     21280       input_1[0][0]                    \n",
      "__________________________________________________________________________________________________\n",
      "input_2 (InputLayer)            [(None, 881)]        0                                            \n",
      "__________________________________________________________________________________________________\n",
      "lstm_3 (LSTM)                   (None, 70)           39480       lstm_2[0][0]                     \n",
      "__________________________________________________________________________________________________\n",
      "ein__multiply (Ein_Multiply)    (None, 70)           0           input_2[0][0]                    \n",
      "                                                                 lstm_3[0][0]                     \n",
      "__________________________________________________________________________________________________\n",
      "dense_2 (Dense)                 (None, 70)           4970        ein__multiply[0][0]              \n",
      "__________________________________________________________________________________________________\n",
      "ein__multiply_1 (Ein_Multiply)  (None, 70)           0           input_2[0][0]                    \n",
      "                                                                 dense_2[0][0]                    \n",
      "__________________________________________________________________________________________________\n",
      "dense_3 (Dense)                 (None, 70)           4970        ein__multiply_1[0][0]            \n",
      "__________________________________________________________________________________________________\n",
      "ein__multiply_2 (Ein_Multiply)  (None, 70)           0           input_2[0][0]                    \n",
      "                                                                 dense_3[0][0]                    \n",
      "__________________________________________________________________________________________________\n",
      "dense_4 (Dense)                 (None, 70)           4970        ein__multiply_2[0][0]            \n",
      "__________________________________________________________________________________________________\n",
      "dense_5 (Dense)                 (None, 1)            71          dense_4[0][0]                    \n",
      "==================================================================================================\n",
      "Total params: 75,741\n",
      "Trainable params: 75,741\n",
      "Non-trainable params: 0\n",
      "__________________________________________________________________________________________________\n"
     ]
    }
   ],
   "source": [
    "DMJ.generate_model()"
   ]
  },
  {
   "cell_type": "markdown",
   "metadata": {},
   "source": [
    "## Train the model until you're satisfied with validation loss"
   ]
  },
  {
   "cell_type": "code",
   "execution_count": null,
   "metadata": {
    "scrolled": false
   },
   "outputs": [
    {
     "name": "stdout",
     "output_type": "stream",
     "text": [
      "Epoch 1/50\n",
      "1/1 [==============================] - 0s 415ms/step - loss: 0.0019 - val_loss: 0.0019\n",
      "Epoch 2/50\n",
      "1/1 [==============================] - 0s 109ms/step - loss: 0.0018 - val_loss: 0.0019\n",
      "Epoch 3/50\n",
      "1/1 [==============================] - 0s 119ms/step - loss: 0.0018 - val_loss: 0.0018\n",
      "Epoch 4/50\n",
      "1/1 [==============================] - 0s 109ms/step - loss: 0.0017 - val_loss: 0.0018\n",
      "Epoch 5/50\n",
      "1/1 [==============================] - 0s 112ms/step - loss: 0.0017 - val_loss: 0.0017\n",
      "Epoch 6/50\n",
      "1/1 [==============================] - 0s 111ms/step - loss: 0.0016 - val_loss: 0.0017\n",
      "Epoch 7/50\n",
      "1/1 [==============================] - 0s 114ms/step - loss: 0.0016 - val_loss: 0.0016\n",
      "Epoch 8/50\n",
      "1/1 [==============================] - 0s 110ms/step - loss: 0.0015 - val_loss: 0.0016\n",
      "Epoch 9/50\n",
      "1/1 [==============================] - 0s 113ms/step - loss: 0.0015 - val_loss: 0.0015\n",
      "Epoch 10/50\n",
      "1/1 [==============================] - 0s 114ms/step - loss: 0.0015 - val_loss: 0.0015\n",
      "Epoch 11/50\n",
      "1/1 [==============================] - 0s 127ms/step - loss: 0.0014 - val_loss: 0.0014\n",
      "Epoch 12/50\n",
      "1/1 [==============================] - 0s 112ms/step - loss: 0.0014 - val_loss: 0.0014\n",
      "Epoch 13/50\n",
      "1/1 [==============================] - 0s 110ms/step - loss: 0.0013 - val_loss: 0.0014\n",
      "Epoch 14/50\n",
      "1/1 [==============================] - 0s 108ms/step - loss: 0.0013 - val_loss: 0.0013\n",
      "Epoch 15/50\n",
      "1/1 [==============================] - 0s 110ms/step - loss: 0.0012 - val_loss: 0.0013\n",
      "Epoch 16/50\n",
      "1/1 [==============================] - 0s 122ms/step - loss: 0.0012 - val_loss: 0.0012\n",
      "Epoch 17/50\n",
      "1/1 [==============================] - 0s 117ms/step - loss: 0.0012 - val_loss: 0.0012\n",
      "Epoch 18/50\n",
      "1/1 [==============================] - 0s 112ms/step - loss: 0.0011 - val_loss: 0.0011\n",
      "Epoch 19/50\n",
      "1/1 [==============================] - 0s 119ms/step - loss: 0.0011 - val_loss: 0.0011\n",
      "Epoch 20/50\n",
      "1/1 [==============================] - 0s 111ms/step - loss: 0.0010 - val_loss: 0.0011\n",
      "Epoch 21/50\n",
      "1/1 [==============================] - 0s 117ms/step - loss: 0.0010 - val_loss: 0.0010\n",
      "Epoch 22/50\n",
      "1/1 [==============================] - 0s 129ms/step - loss: 9.7121e-04 - val_loss: 9.9096e-04\n",
      "Epoch 23/50\n",
      "1/1 [==============================] - 0s 135ms/step - loss: 9.3553e-04 - val_loss: 9.5457e-04\n",
      "Epoch 24/50\n",
      "1/1 [==============================] - 0s 117ms/step - loss: 9.0073e-04 - val_loss: 9.1928e-04\n",
      "Epoch 25/50\n",
      "1/1 [==============================] - 0s 116ms/step - loss: 8.6684e-04 - val_loss: 8.8506e-04\n",
      "Epoch 26/50\n",
      "1/1 [==============================] - 0s 112ms/step - loss: 8.3396e-04 - val_loss: 8.5180e-04\n",
      "Epoch 27/50\n",
      "1/1 [==============================] - 0s 119ms/step - loss: 8.0205e-04 - val_loss: 8.1939e-04\n",
      "Epoch 28/50\n",
      "1/1 [==============================] - 0s 129ms/step - loss: 7.7106e-04 - val_loss: 7.8780e-04\n",
      "Epoch 29/50\n",
      "1/1 [==============================] - 0s 120ms/step - loss: 7.4093e-04 - val_loss: 7.5704e-04\n",
      "Epoch 30/50\n",
      "1/1 [==============================] - 0s 111ms/step - loss: 7.1160e-04 - val_loss: 7.2710e-04\n",
      "Epoch 31/50\n",
      "1/1 [==============================] - 0s 120ms/step - loss: 6.8309e-04 - val_loss: 6.9801e-04\n",
      "Epoch 32/50\n",
      "1/1 [==============================] - 0s 114ms/step - loss: 6.5536e-04 - val_loss: 6.6974e-04\n",
      "Epoch 33/50\n",
      "1/1 [==============================] - 0s 118ms/step - loss: 6.2844e-04 - val_loss: 6.4231e-04\n",
      "Epoch 34/50\n",
      "1/1 [==============================] - 0s 115ms/step - loss: 6.0231e-04 - val_loss: 6.1573e-04\n",
      "Epoch 35/50\n",
      "1/1 [==============================] - 0s 111ms/step - loss: 5.7697e-04 - val_loss: 5.9000e-04\n",
      "Epoch 36/50\n",
      "1/1 [==============================] - 0s 114ms/step - loss: 5.5242e-04 - val_loss: 5.6511e-04\n",
      "Epoch 37/50\n",
      "1/1 [==============================] - 0s 117ms/step - loss: 5.2865e-04 - val_loss: 5.4108e-04\n",
      "Epoch 38/50\n"
     ]
    }
   ],
   "source": [
    "DMJ.train_model(50, learning_rate=1e-5)"
   ]
  },
  {
   "cell_type": "markdown",
   "metadata": {},
   "source": [
    "## Save it to model directory"
   ]
  },
  {
   "cell_type": "code",
   "execution_count": null,
   "metadata": {},
   "outputs": [],
   "source": [
    "DMJ.save_model(tag='GCN_3_RankLoss_70_HU')"
   ]
  },
  {
   "cell_type": "markdown",
   "metadata": {},
   "source": [
    "## Test the model"
   ]
  },
  {
   "cell_type": "code",
   "execution_count": null,
   "metadata": {
    "scrolled": false
   },
   "outputs": [],
   "source": [
    "from graph_predictions import Graph_Predictions\n",
    "\n",
    "GP = Graph_Predictions(r'C:\\Users\\Maxwell\\PycharmProjects\\TAMU-ECEN-403-IFPTSND\\ECEN_403_IFM\\TAMU-ECEN-403-IFPTSND\\models',\n",
    "                       './strategies', DMJ)\n",
    "\n",
    "GP.strategy_ratio_gcn('11-24-2020--22--33--GCN_3_RankLoss_70_HU--150Epochs--rlf-Loss--70-HU--',\n",
    "                      avoid_fall=True, average=1, name_override='GCN_3_RankLoss_MoreHU')"
   ]
  },
  {
   "cell_type": "markdown",
   "metadata": {},
   "source": [
    "## Graph the results"
   ]
  },
  {
   "cell_type": "code",
   "execution_count": null,
   "metadata": {
    "scrolled": false
   },
   "outputs": [],
   "source": [
    "GP.display_graph()"
   ]
  },
  {
   "cell_type": "code",
   "execution_count": null,
   "metadata": {},
   "outputs": [],
   "source": []
  }
 ],
 "metadata": {
  "kernelspec": {
   "display_name": "Python 3",
   "language": "python",
   "name": "python3"
  },
  "language_info": {
   "codemirror_mode": {
    "name": "ipython",
    "version": 3
   },
   "file_extension": ".py",
   "mimetype": "text/x-python",
   "name": "python",
   "nbconvert_exporter": "python",
   "pygments_lexer": "ipython3",
   "version": "3.8.5"
  }
 },
 "nbformat": 4,
 "nbformat_minor": 4
}
