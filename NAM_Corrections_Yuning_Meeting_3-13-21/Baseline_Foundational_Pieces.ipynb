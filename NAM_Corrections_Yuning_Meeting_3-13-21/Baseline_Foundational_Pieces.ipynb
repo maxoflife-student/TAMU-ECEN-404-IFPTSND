{
 "cells": [
  {
   "cell_type": "markdown",
   "metadata": {},
   "source": [
    "### Import Libraries"
   ]
  },
  {
   "cell_type": "code",
   "execution_count": 1,
   "metadata": {},
   "outputs": [
    {
     "data": {
      "text/html": [
       "<style>.container { width:80% !important; }</style>"
      ],
      "text/plain": [
       "<IPython.core.display.HTML object>"
      ]
     },
     "metadata": {},
     "output_type": "display_data"
    }
   ],
   "source": [
    "# Ignore cuDDa warning messages\n",
    "import warnings\n",
    "import os\n",
    "warnings.filterwarnings('ignore')\n",
    "\n",
    "# Enable GPU\n",
    "import tensorflow as tf\n",
    "physical_devices = tf.config.list_physical_devices('GPU') \n",
    "tf.config.experimental.set_memory_growth(physical_devices[0], True)\n",
    "\n",
    "# # Expands the Jupyter Notebook Output Size to fit your window\n",
    "from IPython.core.display import display, HTML\n",
    "display(HTML(\"<style>.container { width:80% !important; }</style>\"))\n",
    "\n",
    "# Load in tensorboard\n",
    "%load_ext tensorboard\n",
    "\n",
    "# Change the working directory back to the original to keep paths the same between files\n",
    "os.chdir(r'C:\\Users\\Maxwell\\PycharmProjects\\TAMU-ECEN-403-IFPTSND\\ECEN_403_IFM\\TAMU-ECEN-403-IFPTSND')\n",
    "\n",
    "import datetime\n",
    "import pickle\n",
    "import sys\n",
    "from os.path import join, isfile\n",
    "import shutil\n",
    "\n",
    "import numpy as np\n",
    "import pandas as pd\n",
    "import tensorflow as tf\n",
    "\n",
    "from tensorflow import keras\n",
    "import tensorflow.keras.backend as kb\n",
    "from tensorflow.python.ops import math_ops\n",
    "from tensorflow.keras.layers import Dense, LSTM\n",
    "from tensorflow.keras import Sequential\n",
    "\n",
    "from explore_entities import Graph_Entities\n",
    "import ipywidgets as widgets\n",
    "from ipywidgets import Layout, GridBox\n",
    "from IPython.display import display\n",
    "import matplotlib.pyplot as plt\n",
    "\n",
    "import warnings\n",
    "import os\n",
    "import math\n",
    "\n",
    "from sklearn.metrics import mean_squared_error\n",
    "\n",
    "warnings.filterwarnings('ignore')\n",
    "os.environ['TF_CPP_MIN_LOG_LEVEL'] = '3'\n",
    "tf.compat.v1.logging.set_verbosity(tf.compat.v1.logging.ERROR)"
   ]
  },
  {
   "cell_type": "markdown",
   "metadata": {},
   "source": [
    "### Allows for scrolling windows to be very large"
   ]
  },
  {
   "cell_type": "code",
   "execution_count": 2,
   "metadata": {},
   "outputs": [
    {
     "data": {
      "application/javascript": [
       "    IPython.OutputArea.auto_scroll_threshold = 9999\n"
      ],
      "text/plain": [
       "<IPython.core.display.Javascript object>"
      ]
     },
     "metadata": {},
     "output_type": "display_data"
    }
   ],
   "source": [
    "%%javascript\n",
    "    IPython.OutputArea.auto_scroll_threshold = 9999"
   ]
  },
  {
   "cell_type": "markdown",
   "metadata": {},
   "source": [
    "### Import TF_models and truncate the entities to only contain 880 companies"
   ]
  },
  {
   "cell_type": "code",
   "execution_count": 3,
   "metadata": {
    "scrolled": true
   },
   "outputs": [
    {
     "data": {
      "application/vnd.jupyter.widget-view+json": {
       "model_id": "a4e33134a68f44ccb3158ec74cba39a3",
       "version_major": 2,
       "version_minor": 0
      },
      "text/plain": [
       "GridBox(children=(Dropdown(description='Model Types:', options=('lstm', 'lstm_gcn_1', 'lstm_gcn_2', 'lstm_gcn_…"
      ]
     },
     "metadata": {},
     "output_type": "display_data"
    }
   ],
   "source": [
    "from tensorflow_models import TF_Models, Ein_Multiply, leaky_relu, rank_loss_func\n",
    "DMJ = TF_Models('./ignorable_data/data_sets/NASDAQ_Cleaned - Contains ZUMZ/', './ignorable_data/models/[55, 25, 20]_split/', reload=False)\n",
    "data_splits = DMJ.split_data()\n",
    "\n",
    "DMJ.Normalized_Adjacency_Matrix = DMJ.Normalized_Adjacency_Matrix[0:880, 0:880]\n",
    "DMJ.XX_tf = DMJ.XX_tf[0:-1, :, :]\n",
    "DMJ.YY_tf = DMJ.YY_tf[0:-1, :]\n",
    "DMJ.RR_tf = DMJ.RR_tf[0:-1, :]\n",
    "DMJ.entities = DMJ.entities[0:-1]\n",
    "DMJ.entities_idx.pop('ZUMZ')\n",
    "\n",
    "model = DMJ.generate_model()\n",
    "\n",
    "from graph_predictions import Graph_Predictions\n",
    "GP = Graph_Predictions(\"./ignorable_data/models/[55, 25, 20]_split/\", \"./ignorable_data/strategies/RL_validation_strategies/\", 'x_val', DMJ)"
   ]
  },
  {
   "cell_type": "markdown",
   "metadata": {},
   "source": [
    "# What if we split the data into time batches ourselves and trained them?"
   ]
  },
  {
   "cell_type": "code",
   "execution_count": 4,
   "metadata": {},
   "outputs": [
    {
     "name": "stdout",
     "output_type": "stream",
     "text": [
      "(880, 1239, 5)\n",
      "(880, 309, 5)\n",
      "(880, 309, 5)\n",
      "tf.Tensor(0.455917, shape=(), dtype=float32)\n",
      "tf.Tensor(0.461538, shape=(), dtype=float32)\n",
      "tf.Tensor(0.012328968, shape=(), dtype=float32)\n",
      "tf.Tensor(0.425614, shape=(), dtype=float32)\n",
      "tf.Tensor(0.415741, shape=(), dtype=float32)\n",
      "tf.Tensor([0.415741], shape=(1,), dtype=float32)\n",
      "(None, 309, 5)\n"
     ]
    }
   ],
   "source": [
    "# Given a total and list of splits, evenly distributes the total amount proportional to the given list\n",
    "def split_windows(total, percentages_list):\n",
    "    # Get a sum of the initial total\n",
    "    percentage_sum = sum(percentages_list)\n",
    "\n",
    "    # Create a new list based on a percentage of the total\n",
    "    new_splits = []\n",
    "    for perc in percentages_list:\n",
    "        new_splits.append(int(total * (perc / percentage_sum)))\n",
    "    \n",
    "    # Where to shift the extra days that don't exactly divide between the values\n",
    "    if sum(new_splits) != total:\n",
    "        new_splits[-1] = new_splits[-1] + (total - sum(new_splits))\n",
    "\n",
    "    return new_splits\n",
    "\n",
    "# one_x = DMJ.XX_tf[0:2, :, :]\n",
    "# one_y = DMJ.YY_tf[0:2, :]\n",
    "one_x = DMJ.XX_tf\n",
    "print(DMJ.XX_tf.shape)\n",
    "one_y = DMJ.YY_tf\n",
    "\n",
    "# one_x = DMJ.XX_tf[0:-1, :, :]\n",
    "# one_y = DMJ.YY_tf[0:-1, :]\n",
    "\n",
    "# # Given a dataset, let's section off a fifth of the data to be used for testing purposes\n",
    "# time_split = [1000, 239,]\n",
    "# x_train, x_test = tf.split(one_x, split_windows(one_x.shape[1], time_split),\n",
    "#                                   axis=1)\n",
    "# y_train, y_test = tf.split(one_y, split_windows(one_y.shape[1], time_split),\n",
    "#                                   axis=1)\n",
    "# rr_train, rr_test = tf.split(DMJ.RR_tf, split_windows(one_y.shape[1], time_split),\n",
    "#                                      axis=1)\n",
    "\n",
    "# Given a dataset, let's section off a fifth of the data to be used for testing purposes\n",
    "time_split = [90, 710, 239, 199]\n",
    "time_split = [55, 25, 20]\n",
    "\n",
    "time_split = [30, 25, 25, 20]\n",
    "x_g, x_train, x_val, x_test = tf.split(one_x, split_windows(one_x.shape[1], time_split),\n",
    "                                  axis=1)\n",
    "y_g, y_train, y_val, y_test = tf.split(one_y, split_windows(one_y.shape[1], time_split),\n",
    "                                  axis=1)\n",
    "rr_g, rr_train, rr_val, rr_test = tf.split(DMJ.RR_tf, split_windows(one_y.shape[1], time_split),\n",
    "                                     axis=1)\n",
    "\n",
    "# y_train = y_train[:, -1]\n",
    "# y_val = y_val[:, -1]\n",
    "\n",
    "# # Once we have the data partitioned, let's split it into 8 sets of 125\n",
    "# batch_splits = [1]*8\n",
    "# # Create a list of 8 different time batches\n",
    "# x_train_batches = []\n",
    "# x_train_batches.append(tf.split(x_train, split_windows(x_train.shape[1], batch_splits), axis=1))\n",
    "# x_train_batches = [item for sublist in x_train_batches for item in sublist]\n",
    "\n",
    "# y_train_batches = []\n",
    "# y_train_batches.append(tf.split(y_train, split_windows(x_train.shape[1], batch_splits), axis=1))\n",
    "# y_train_batches = [item for sublist in y_train_batches for item in sublist]\n",
    "\n",
    "# # Lets try truncating the values for the labels to only be the final value\n",
    "# for i in range(len(y_train_batches)):\n",
    "#     y_train_batches[i] = y_train_batches[i][:, -1]\n",
    "\n",
    "# print(x_train[0, -1, 0])\n",
    "\n",
    "# print(rr_train[0, -1])\n",
    "\n",
    "# print(x_val[0, 0, 0])\n",
    "# print(y_train[0, -1])\n",
    "# for set in [x_train, x_g, x_val, x_test]:\n",
    "print(x_val.shape)\n",
    "print(x_train.shape)\n",
    "\n",
    "print(x_train[0, 0, 0])\n",
    "print(x_train[0, 1, 0])\n",
    "print(rr_train[0, 0])\n",
    "\n",
    "print(x_train[0, -1, 0])\n",
    "print(x_train[0, -2, 0])\n",
    "print(x_train[0, -2:-1, 0])\n",
    "\n",
    "print(keras.Input(shape=(x_train.shape[1], x_train.shape[2])).shape)"
   ]
  },
  {
   "cell_type": "markdown",
   "metadata": {},
   "source": [
    "### Let's create the one-hot encoded adjacency matrix to work with"
   ]
  },
  {
   "cell_type": "code",
   "execution_count": 5,
   "metadata": {},
   "outputs": [
    {
     "data": {
      "application/vnd.jupyter.widget-view+json": {
       "model_id": "",
       "version_major": 2,
       "version_minor": 0
      },
      "text/plain": [
       "GridBox(children=(Text(value='Loading Normalized Adjacency Matrix:', disabled=True, layout=Layout(width='auto'…"
      ]
     },
     "metadata": {},
     "output_type": "display_data"
    },
    {
     "data": {
      "application/vnd.jupyter.widget-view+json": {
       "model_id": "",
       "version_major": 2,
       "version_minor": 0
      },
      "text/plain": [
       "GridBox(children=(Text(value='Loading Normalized Adjacency Matrix:', disabled=True, layout=Layout(width='auto'…"
      ]
     },
     "metadata": {},
     "output_type": "display_data"
    }
   ],
   "source": [
    "import explore_entities\n",
    "# Load in the code\n",
    "GE = Graph_Entities('./ignorable_data/data_sets/NASDAQ_Cleaned - Contains ZUMZ - Yuning/')\n",
    "# Generate the baseline components we're wokring with\n",
    "NAM, Adj, Rel = GE.get_matrix_components()"
   ]
  },
  {
   "cell_type": "code",
   "execution_count": null,
   "metadata": {},
   "outputs": [],
   "source": []
  },
  {
   "cell_type": "markdown",
   "metadata": {},
   "source": [
    "### Let's check the dimensionality of normalized adjacency matrix we have so far "
   ]
  },
  {
   "cell_type": "code",
   "execution_count": 6,
   "metadata": {},
   "outputs": [
    {
     "name": "stdout",
     "output_type": "stream",
     "text": [
      "Symetrically Normalized DMJ: (881, 881)\n",
      "Normalized\n",
      "####\n",
      "One-Hot Encoded Relationships Split by Group: (92, 881, 881)\n",
      "####\n",
      "One-Hot Encoded All Relationships: (881, 881)\n",
      "Rows Not Normalized\n",
      "Columns Not Normalized\n",
      "####\n",
      "12.5\n"
     ]
    }
   ],
   "source": [
    "# Checks to see if a matrix is normalized among it's rows and columns to 6 decimal places\n",
    "def is_normalized(m):\n",
    "    m_t = np.transpose(m)\n",
    "    r_trigger = True\n",
    "    c_trigger = True\n",
    "    for i in m:\n",
    "        if (round(np.sum(i), 6)) != 1 and r_trigger:\n",
    "            print('Rows Not Normalized')\n",
    "            r_trigger = not r_trigger\n",
    "    for i in m_t:\n",
    "        if (round(np.sum(i), 6)) != 1 and c_trigger:\n",
    "            print('Columns Not Normalized')\n",
    "            c_trigger = not c_trigger\n",
    "    \n",
    "    if r_trigger and c_trigger:\n",
    "        print('Normalized')\n",
    "        return True\n",
    "    else:\n",
    "        return False\n",
    "\n",
    "# Created with D^-1/2 * A * D^-1/2\n",
    "print(f\"Symetrically Normalized DMJ: {NAM.shape}\")\n",
    "is_normalized(NAM)\n",
    "print(\"####\")\n",
    "# All relationships, but still seperated by the different groups\n",
    "print(f\"One-Hot Encoded Relationships Split by Group: {Rel.shape}\")\n",
    "print(\"####\")\n",
    "# All relationships squished into one matrix\n",
    "print(f\"One-Hot Encoded All Relationships: {Adj.shape}\")\n",
    "is_normalized(Adj)\n",
    "print(\"####\")\n",
    "\n",
    "None\n",
    "\n",
    "print(np.sum(Rel[9, :, :])/2)"
   ]
  },
  {
   "cell_type": "markdown",
   "metadata": {},
   "source": [
    "### Split the training data"
   ]
  },
  {
   "cell_type": "code",
   "execution_count": 7,
   "metadata": {},
   "outputs": [],
   "source": [
    "# Given a total and list of splits, evenly distributes the total amount proportional to the given list\n",
    "def split_windows(total, percentages_list):\n",
    "    # Get a sum of the initial total\n",
    "    percentage_sum = sum(percentages_list)\n",
    "\n",
    "    # Create a new list based on a percentage of the total\n",
    "    new_splits = []\n",
    "    for perc in percentages_list:\n",
    "        new_splits.append(int(total * (perc / percentage_sum)))\n",
    "    \n",
    "    # Where to shift the extra days that don't exactly divide between the values\n",
    "    if sum(new_splits) != total:\n",
    "        new_splits[-1] = new_splits[-1] + (total - sum(new_splits))\n",
    "\n",
    "    return new_splits\n",
    "\n",
    "one_x = DMJ.XX_tf\n",
    "one_y = DMJ.YY_tf\n",
    "\n",
    "time_split = [90, 710, 239, 199]\n",
    "time_split = [55, 25, 20]\n",
    "\n",
    "time_split = [30, 25, 25, 20]\n",
    "x_g, x_train, x_val, x_test = tf.split(one_x, split_windows(one_x.shape[1], time_split),\n",
    "                                  axis=1)\n",
    "y_g, y_train, y_val, y_test = tf.split(one_y, split_windows(one_y.shape[1], time_split),\n",
    "                                  axis=1)\n",
    "rr_g, rr_train, rr_val, rr_test = tf.split(DMJ.RR_tf, split_windows(one_y.shape[1], time_split),\n",
    "                                     axis=1)"
   ]
  },
  {
   "cell_type": "markdown",
   "metadata": {},
   "source": [
    "# Loading in an already trained LSTM model & Adding Topographical Layer"
   ]
  },
  {
   "cell_type": "code",
   "execution_count": 127,
   "metadata": {},
   "outputs": [
    {
     "ename": "AttributeError",
     "evalue": "module 'tensorflow._api.v2.experimental' has no attribute 'numpy'",
     "output_type": "error",
     "traceback": [
      "\u001b[1;31m---------------------------------------------------------------------------\u001b[0m",
      "\u001b[1;31mAttributeError\u001b[0m                            Traceback (most recent call last)",
      "\u001b[1;32m<ipython-input-127-db4fedb7b9e6>\u001b[0m in \u001b[0;36m<module>\u001b[1;34m\u001b[0m\n\u001b[0;32m     59\u001b[0m \u001b[1;31m# This is a seperate input layer that will take in the relational matrix\u001b[0m\u001b[1;33m\u001b[0m\u001b[1;33m\u001b[0m\u001b[1;33m\u001b[0m\u001b[0m\n\u001b[0;32m     60\u001b[0m \u001b[0my\u001b[0m \u001b[1;33m=\u001b[0m \u001b[0mtf\u001b[0m\u001b[1;33m.\u001b[0m\u001b[0mkeras\u001b[0m\u001b[1;33m.\u001b[0m\u001b[0mlayers\u001b[0m\u001b[1;33m.\u001b[0m\u001b[0mDense\u001b[0m\u001b[1;33m(\u001b[0m\u001b[0madj_matrix\u001b[0m\u001b[1;33m.\u001b[0m\u001b[0mshape\u001b[0m\u001b[1;33m[\u001b[0m\u001b[1;36m0\u001b[0m\u001b[1;33m]\u001b[0m\u001b[1;33m,\u001b[0m \u001b[0mactivation\u001b[0m\u001b[1;33m)\u001b[0m\u001b[1;33m(\u001b[0m\u001b[0minput_rel\u001b[0m\u001b[1;33m)\u001b[0m\u001b[1;33m\u001b[0m\u001b[1;33m\u001b[0m\u001b[0m\n\u001b[1;32m---> 61\u001b[1;33m \u001b[0my\u001b[0m \u001b[1;33m=\u001b[0m \u001b[0mnormalize_adj_matrix\u001b[0m\u001b[1;33m(\u001b[0m\u001b[0my\u001b[0m\u001b[1;33m)\u001b[0m\u001b[1;33m\u001b[0m\u001b[1;33m\u001b[0m\u001b[0m\n\u001b[0m\u001b[0;32m     62\u001b[0m \u001b[1;33m\u001b[0m\u001b[0m\n\u001b[0;32m     63\u001b[0m \u001b[1;31m# # This is one aggregation using the NAM\u001b[0m\u001b[1;33m\u001b[0m\u001b[1;33m\u001b[0m\u001b[1;33m\u001b[0m\u001b[0m\n",
      "\u001b[1;32m<ipython-input-127-db4fedb7b9e6>\u001b[0m in \u001b[0;36mnormalize_adj_matrix\u001b[1;34m(adj)\u001b[0m\n\u001b[0;32m     13\u001b[0m \u001b[1;33m\u001b[0m\u001b[0m\n\u001b[0;32m     14\u001b[0m \u001b[1;32mdef\u001b[0m \u001b[0mnormalize_adj_matrix\u001b[0m\u001b[1;33m(\u001b[0m\u001b[0madj\u001b[0m\u001b[1;33m)\u001b[0m\u001b[1;33m:\u001b[0m\u001b[1;33m\u001b[0m\u001b[1;33m\u001b[0m\u001b[0m\n\u001b[1;32m---> 15\u001b[1;33m     \u001b[0mdegree\u001b[0m \u001b[1;33m=\u001b[0m \u001b[0mtf\u001b[0m\u001b[1;33m.\u001b[0m\u001b[0mexperimental\u001b[0m\u001b[1;33m.\u001b[0m\u001b[0mnumpy\u001b[0m\u001b[1;33m.\u001b[0m\u001b[0msum\u001b[0m\u001b[1;33m(\u001b[0m\u001b[0madj\u001b[0m\u001b[1;33m,\u001b[0m \u001b[0maxis\u001b[0m\u001b[1;33m=\u001b[0m\u001b[1;36m0\u001b[0m\u001b[1;33m)\u001b[0m\u001b[1;33m\u001b[0m\u001b[1;33m\u001b[0m\u001b[0m\n\u001b[0m\u001b[0;32m     16\u001b[0m     \u001b[0minv\u001b[0m \u001b[1;33m=\u001b[0m \u001b[1;32mlambda\u001b[0m \u001b[0mx\u001b[0m\u001b[1;33m:\u001b[0m \u001b[0mx\u001b[0m\u001b[1;33m**\u001b[0m\u001b[1;33m-\u001b[0m\u001b[1;36m1\u001b[0m\u001b[1;33m\u001b[0m\u001b[1;33m\u001b[0m\u001b[0m\n\u001b[0;32m     17\u001b[0m     \u001b[0minv_degree\u001b[0m \u001b[1;33m=\u001b[0m \u001b[0minv\u001b[0m\u001b[1;33m(\u001b[0m\u001b[0mdegree\u001b[0m\u001b[1;33m)\u001b[0m\u001b[1;33m\u001b[0m\u001b[1;33m\u001b[0m\u001b[0m\n",
      "\u001b[1;31mAttributeError\u001b[0m: module 'tensorflow._api.v2.experimental' has no attribute 'numpy'"
     ]
    }
   ],
   "source": [
    "from tensorflow_models import mse_rr\n",
    "from tensorflow_models import rank_loss_rr\n",
    "tf.random.set_seed(1337)\n",
    "\n",
    "optimizer = tf.keras.optimizers.Adam(\n",
    "            learning_rate=0.0001, beta_1=0.9, beta_2=0.999, epsilon=1e-07, amsgrad=False,\n",
    "            name='Adam'\n",
    "        )\n",
    "\n",
    "# Create a function for the Tensorflow implementation of leaky_relu\n",
    "def leaky_relu(x):\n",
    "    return tf.keras.layers.LeakyReLU(alpha=0.2)(x)\n",
    "\n",
    "def normalize_adj_matrix(adj):\n",
    "    degree = tf.experimental.numpy.sum(adj, axis=0)\n",
    "    inv = lambda x: x**-1\n",
    "    inv_degree = inv(degree)\n",
    "    diag_inv_degree = np.diag(inv_degree)\n",
    "    return np.dot(diag_inv_degree, adj)\n",
    "\n",
    "hidden_units = 64\n",
    "activation = leaky_relu\n",
    "do = 0\n",
    "\n",
    "# Assuming all time steps are the same size, we can just use the first item to determine input shape\n",
    "# For the time-series data\n",
    "input_seq = keras.Input(shape=(x_train.shape[1], x_train.shape[2]))\n",
    "\n",
    "\n",
    "# For the Adjacency Matrix we would like to introduce to the algorithm\n",
    "adj_matrix = Adj\n",
    "\n",
    "# Since some implementations removed the last company\n",
    "if adj_matrix.shape[0] == 881:\n",
    "    adj_matrix = adj_matrix[0:-1, 0:-1]\n",
    "\n",
    "input_rel = keras.Input(shape=(adj_matrix.shape[0]))\n",
    "\n",
    "\n",
    "# Load in an already trained LSTM Model\n",
    "file_name = '2-20-21-1_LSTM_[25,25,20]_NoDropout_100Epoch_80BatchSize_1000ALPHA'\n",
    "model_path = './ignorable_data/models/[55, 25, 20]_split/'\n",
    "pre_trained_lstm = tf.keras.models.load_model(model_path + f'{file_name}', compile=False,\n",
    "                                              custom_objects={'leaky_relu': leaky_relu})\n",
    "\n",
    "# Change the names to avoid conflicts\n",
    "pre_trained_lstm.layers[0]._name = 'Original-InputLayer'\n",
    "pre_trained_lstm.layers[1]._name = 'Original-LSTM'\n",
    "pre_trained_lstm.layers[2]._name = 'Original-Dense'\n",
    "\n",
    "# # Make sure that the weights for the lstm model cannot be updated\n",
    "pre_trained_lstm.layers[0].trainable = False\n",
    "pre_trained_lstm.layers[1].trainable = False\n",
    "pre_trained_lstm.layers[2].trainable = False\n",
    "\n",
    "# This is the LSTM layer, input_seq is not carried over from the original because we don't care how it was initalized\n",
    "x = pre_trained_lstm.layers[1](input_seq)\n",
    "\n",
    "# This is a seperate input layer that will take in the relational matrix\n",
    "y = tf.keras.layers.Dense(adj_matrix.shape[0], activation)(input_rel)\n",
    "y = normalize_adj_matrix(y)\n",
    "\n",
    "# # This is one aggregation using the NAM\n",
    "x = Ein_Multiply()([y, x])\n",
    "# x = Dense(hidden_units, activation=activation)(x)\n",
    "\n",
    "# This is the original Dense Layer\n",
    "x = pre_trained_lstm.layers[2](x)\n",
    "\n",
    "# This is a new Dense layer we might want to experiment with\n",
    "# x = Dense(1, activation=activation)(x)\n",
    "\n",
    "model = tf.keras.Model(inputs=[input_seq, input_rel], outputs=x)\n",
    "\n",
    "losses = []"
   ]
  },
  {
   "cell_type": "code",
   "execution_count": null,
   "metadata": {},
   "outputs": [],
   "source": [
    "# View what we just created\n",
    "# model.compile(loss=rank_loss_rr, optimizer=optimizer)\n",
    "model.compile(loss='mse', optimizer=optimizer)\n",
    "model.summary()"
   ]
  },
  {
   "cell_type": "code",
   "execution_count": 66,
   "metadata": {
    "scrolled": false
   },
   "outputs": [
    {
     "name": "stdout",
     "output_type": "stream",
     "text": [
      "Epoch 1/100\n",
      "1/1 [==============================] - 1s 537ms/step - loss: 0.2869 - val_loss: 0.1850\n",
      "Epoch 2/100\n",
      "1/1 [==============================] - 0s 459ms/step - loss: 0.2205 - val_loss: 0.1849\n",
      "Epoch 3/100\n",
      "1/1 [==============================] - 0s 424ms/step - loss: 0.1922 - val_loss: 0.1852\n",
      "Epoch 4/100\n",
      "1/1 [==============================] - 0s 463ms/step - loss: 0.2836 - val_loss: 0.1853\n",
      "Epoch 5/100\n",
      "1/1 [==============================] - 0s 420ms/step - loss: 0.1986 - val_loss: 0.1855\n",
      "Epoch 6/100\n",
      "1/1 [==============================] - 0s 425ms/step - loss: 0.1628 - val_loss: 0.1857\n",
      "Epoch 7/100\n",
      "1/1 [==============================] - 0s 489ms/step - loss: 0.1818 - val_loss: 0.1860\n",
      "Epoch 8/100\n",
      "1/1 [==============================] - 0s 419ms/step - loss: 0.2143 - val_loss: 0.1864\n",
      "Epoch 9/100\n",
      "1/1 [==============================] - 0s 422ms/step - loss: 0.1917 - val_loss: 0.1869\n",
      "Epoch 10/100\n",
      "1/1 [==============================] - 0s 423ms/step - loss: 0.2006 - val_loss: 0.1872\n",
      "Epoch 11/100\n",
      "1/1 [==============================] - 1s 551ms/step - loss: 0.2085 - val_loss: 0.1874\n",
      "Epoch 12/100\n",
      "1/1 [==============================] - 0s 432ms/step - loss: 0.1930 - val_loss: 0.1876\n",
      "Epoch 13/100\n",
      "1/1 [==============================] - 0s 426ms/step - loss: 0.1498 - val_loss: 0.1879\n",
      "Epoch 14/100\n",
      "1/1 [==============================] - 0s 422ms/step - loss: 0.1333 - val_loss: 0.1880\n",
      "Epoch 15/100\n",
      "1/1 [==============================] - 0s 417ms/step - loss: 0.2741 - val_loss: 0.1881\n",
      "Epoch 16/100\n",
      "1/1 [==============================] - 0s 416ms/step - loss: 0.1657 - val_loss: 0.1881\n",
      "Epoch 17/100\n",
      "1/1 [==============================] - 0s 460ms/step - loss: 0.2223 - val_loss: 0.1885\n",
      "Epoch 18/100\n",
      "1/1 [==============================] - 0s 426ms/step - loss: 0.1491 - val_loss: 0.1888\n",
      "Epoch 19/100\n",
      "1/1 [==============================] - 0s 419ms/step - loss: 0.2322 - val_loss: 0.1890\n",
      "Epoch 20/100\n",
      "1/1 [==============================] - 0s 416ms/step - loss: 0.2483 - val_loss: 0.1891\n",
      "Epoch 21/100\n",
      "1/1 [==============================] - 0s 420ms/step - loss: 0.2059 - val_loss: 0.1896\n",
      "Epoch 22/100\n",
      "1/1 [==============================] - 0s 423ms/step - loss: 0.1914 - val_loss: 0.1899\n",
      "Epoch 23/100\n",
      "1/1 [==============================] - 0s 424ms/step - loss: 0.1413 - val_loss: 0.1903\n",
      "Epoch 24/100\n",
      "1/1 [==============================] - 0s 424ms/step - loss: 0.1544 - val_loss: 0.1909\n",
      "Epoch 25/100\n",
      "1/1 [==============================] - 0s 462ms/step - loss: 0.3598 - val_loss: 0.1920\n",
      "Epoch 26/100\n",
      "1/1 [==============================] - 1s 515ms/step - loss: 0.1899 - val_loss: 0.1931\n",
      "Epoch 27/100\n",
      "1/1 [==============================] - 0s 417ms/step - loss: 0.2167 - val_loss: 0.1940\n",
      "Epoch 28/100\n",
      "1/1 [==============================] - 0s 413ms/step - loss: 0.1809 - val_loss: 0.1948\n",
      "Epoch 29/100\n",
      "1/1 [==============================] - 0s 423ms/step - loss: 0.2514 - val_loss: 0.1955\n",
      "Epoch 30/100\n",
      "1/1 [==============================] - 0s 419ms/step - loss: 0.1571 - val_loss: 0.1959\n",
      "Epoch 31/100\n",
      "1/1 [==============================] - 0s 413ms/step - loss: 0.2067 - val_loss: 0.1964\n",
      "Epoch 32/100\n",
      "1/1 [==============================] - 0s 414ms/step - loss: 0.2519 - val_loss: 0.1974\n",
      "Epoch 33/100\n",
      "1/1 [==============================] - 0s 417ms/step - loss: 0.1807 - val_loss: 0.1982\n",
      "Epoch 34/100\n",
      "1/1 [==============================] - 1s 933ms/step - loss: 0.1618 - val_loss: 0.1991\n",
      "Epoch 35/100\n",
      "1/1 [==============================] - 0s 474ms/step - loss: 0.1899 - val_loss: 0.1998\n",
      "Epoch 36/100\n",
      "1/1 [==============================] - 0s 431ms/step - loss: 0.1588 - val_loss: 0.2006\n",
      "Epoch 37/100\n",
      "1/1 [==============================] - 0s 416ms/step - loss: 0.1740 - val_loss: 0.2014\n",
      "Epoch 38/100\n",
      "1/1 [==============================] - 0s 421ms/step - loss: 0.1881 - val_loss: 0.2019\n",
      "Epoch 39/100\n",
      "1/1 [==============================] - 0s 418ms/step - loss: 0.1803 - val_loss: 0.2023\n",
      "Epoch 40/100\n",
      "1/1 [==============================] - 0s 418ms/step - loss: 0.1438 - val_loss: 0.2027\n",
      "Epoch 41/100\n",
      "1/1 [==============================] - 0s 427ms/step - loss: 0.1798 - val_loss: 0.2028\n",
      "Epoch 42/100\n",
      "1/1 [==============================] - 0s 430ms/step - loss: 0.1726 - val_loss: 0.2026\n",
      "Epoch 43/100\n",
      "1/1 [==============================] - 0s 446ms/step - loss: 0.1677 - val_loss: 0.2028\n",
      "Epoch 44/100\n",
      "1/1 [==============================] - 0s 435ms/step - loss: 0.1768 - val_loss: 0.2029\n",
      "Epoch 45/100\n",
      "1/1 [==============================] - 0s 440ms/step - loss: 0.2491 - val_loss: 0.2029\n",
      "Epoch 46/100\n",
      "1/1 [==============================] - 0s 435ms/step - loss: 0.2027 - val_loss: 0.2026\n",
      "Epoch 47/100\n",
      "1/1 [==============================] - 0s 420ms/step - loss: 0.1346 - val_loss: 0.2024\n",
      "Epoch 48/100\n",
      "1/1 [==============================] - 0s 430ms/step - loss: 0.1801 - val_loss: 0.2021\n",
      "Epoch 49/100\n",
      "1/1 [==============================] - 0s 421ms/step - loss: 0.1752 - val_loss: 0.2022\n",
      "Epoch 50/100\n",
      "1/1 [==============================] - 0s 451ms/step - loss: 0.1546 - val_loss: 0.2024\n",
      "Epoch 51/100\n",
      "1/1 [==============================] - 0s 432ms/step - loss: 0.1546 - val_loss: 0.2025\n",
      "Epoch 52/100\n",
      "1/1 [==============================] - 0s 425ms/step - loss: 0.1334 - val_loss: 0.2026\n",
      "Epoch 53/100\n",
      "1/1 [==============================] - 0s 419ms/step - loss: 0.1677 - val_loss: 0.2025\n",
      "Epoch 54/100\n",
      "1/1 [==============================] - 0s 424ms/step - loss: 0.1434 - val_loss: 0.2024\n",
      "Epoch 55/100\n",
      "1/1 [==============================] - 0s 428ms/step - loss: 0.1533 - val_loss: 0.2022\n",
      "Epoch 56/100\n",
      "1/1 [==============================] - 0s 447ms/step - loss: 0.1902 - val_loss: 0.2020\n",
      "Epoch 57/100\n",
      "1/1 [==============================] - 0s 453ms/step - loss: 0.1946 - val_loss: 0.2022\n",
      "Epoch 58/100\n",
      "1/1 [==============================] - 0s 430ms/step - loss: 0.1290 - val_loss: 0.2025\n",
      "Epoch 59/100\n",
      "1/1 [==============================] - 0s 434ms/step - loss: 0.2241 - val_loss: 0.2027\n",
      "Epoch 60/100\n",
      "1/1 [==============================] - 0s 427ms/step - loss: 0.1811 - val_loss: 0.2028\n",
      "Epoch 61/100\n",
      "1/1 [==============================] - 0s 424ms/step - loss: 0.1307 - val_loss: 0.2027\n",
      "Epoch 62/100\n",
      "1/1 [==============================] - 0s 429ms/step - loss: 0.1307 - val_loss: 0.2025\n",
      "Epoch 63/100\n",
      "1/1 [==============================] - 0s 445ms/step - loss: 0.1811 - val_loss: 0.2024\n",
      "Epoch 64/100\n",
      "1/1 [==============================] - 0s 426ms/step - loss: 0.1825 - val_loss: 0.2024\n",
      "Epoch 65/100\n",
      "1/1 [==============================] - 0s 435ms/step - loss: 0.2115 - val_loss: 0.2021\n",
      "Epoch 66/100\n",
      "1/1 [==============================] - 0s 444ms/step - loss: 0.2268 - val_loss: 0.2016\n",
      "Epoch 67/100\n",
      "1/1 [==============================] - 0s 441ms/step - loss: 0.2295 - val_loss: 0.2012\n",
      "Epoch 68/100\n",
      "1/1 [==============================] - 0s 419ms/step - loss: 0.1827 - val_loss: 0.2009\n",
      "Epoch 69/100\n",
      "1/1 [==============================] - 0s 429ms/step - loss: 0.2292 - val_loss: 0.2004\n",
      "Epoch 70/100\n",
      "1/1 [==============================] - 0s 424ms/step - loss: 0.2106 - val_loss: 0.2002\n",
      "Epoch 71/100\n",
      "1/1 [==============================] - 0s 426ms/step - loss: 0.1374 - val_loss: 0.2000\n",
      "Epoch 72/100\n",
      "1/1 [==============================] - 0s 423ms/step - loss: 0.2142 - val_loss: 0.1995\n",
      "Epoch 73/100\n",
      "1/1 [==============================] - 0s 426ms/step - loss: 0.2186 - val_loss: 0.1992\n",
      "Epoch 74/100\n",
      "1/1 [==============================] - 0s 438ms/step - loss: 0.2104 - val_loss: 0.1990\n",
      "Epoch 75/100\n",
      "1/1 [==============================] - 0s 442ms/step - loss: 0.2180 - val_loss: 0.1986\n",
      "Epoch 76/100\n",
      "1/1 [==============================] - 0s 419ms/step - loss: 0.1554 - val_loss: 0.1983\n",
      "Epoch 77/100\n",
      "1/1 [==============================] - 0s 427ms/step - loss: 0.1714 - val_loss: 0.1978\n",
      "Epoch 78/100\n",
      "1/1 [==============================] - 0s 436ms/step - loss: 0.1627 - val_loss: 0.1976\n",
      "Epoch 79/100\n",
      "1/1 [==============================] - 0s 434ms/step - loss: 0.1533 - val_loss: 0.1975\n",
      "Epoch 80/100\n",
      "1/1 [==============================] - 0s 426ms/step - loss: 0.1660 - val_loss: 0.1973\n",
      "Epoch 81/100\n",
      "1/1 [==============================] - 0s 458ms/step - loss: 0.2328 - val_loss: 0.1971\n",
      "Epoch 82/100\n",
      "1/1 [==============================] - 1s 553ms/step - loss: 0.2154 - val_loss: 0.1969\n",
      "Epoch 83/100\n"
     ]
    },
    {
     "name": "stdout",
     "output_type": "stream",
     "text": [
      "1/1 [==============================] - 1s 564ms/step - loss: 0.2352 - val_loss: 0.1973\n",
      "Epoch 84/100\n",
      "1/1 [==============================] - 0s 494ms/step - loss: 0.1542 - val_loss: 0.1977\n",
      "Epoch 85/100\n",
      "1/1 [==============================] - 0s 419ms/step - loss: 0.1267 - val_loss: 0.1981\n",
      "Epoch 86/100\n",
      "1/1 [==============================] - 0s 434ms/step - loss: 0.1599 - val_loss: 0.1982\n",
      "Epoch 87/100\n",
      "1/1 [==============================] - 1s 669ms/step - loss: 0.1672 - val_loss: 0.1985\n",
      "Epoch 88/100\n",
      "1/1 [==============================] - 1s 599ms/step - loss: 0.3185 - val_loss: 0.1981\n",
      "Epoch 89/100\n",
      "1/1 [==============================] - 0s 489ms/step - loss: 0.1869 - val_loss: 0.1979\n",
      "Epoch 90/100\n",
      "1/1 [==============================] - 0s 432ms/step - loss: 0.1642 - val_loss: 0.1976\n",
      "Epoch 91/100\n",
      "1/1 [==============================] - 0s 481ms/step - loss: 0.1673 - val_loss: 0.1972\n",
      "Epoch 92/100\n",
      "1/1 [==============================] - 0s 439ms/step - loss: 0.1547 - val_loss: 0.1967\n",
      "Epoch 93/100\n",
      "1/1 [==============================] - 0s 419ms/step - loss: 0.1444 - val_loss: 0.1964\n",
      "Epoch 94/100\n",
      "1/1 [==============================] - 0s 428ms/step - loss: 0.2230 - val_loss: 0.1961\n",
      "Epoch 95/100\n",
      "1/1 [==============================] - 0s 432ms/step - loss: 0.1701 - val_loss: 0.1961\n",
      "Epoch 96/100\n",
      "1/1 [==============================] - 0s 437ms/step - loss: 0.1408 - val_loss: 0.1959\n",
      "Epoch 97/100\n",
      "1/1 [==============================] - 0s 420ms/step - loss: 0.2052 - val_loss: 0.1963\n",
      "Epoch 98/100\n",
      "1/1 [==============================] - 0s 423ms/step - loss: 0.1874 - val_loss: 0.1964\n",
      "Epoch 99/100\n",
      "1/1 [==============================] - 0s 428ms/step - loss: 0.1984 - val_loss: 0.1963\n",
      "Epoch 100/100\n",
      "1/1 [==============================] - 0s 425ms/step - loss: 0.1647 - val_loss: 0.1964\n"
     ]
    },
    {
     "data": {
      "text/plain": [
       "[<matplotlib.lines.Line2D at 0x1fec0539370>]"
      ]
     },
     "execution_count": 66,
     "metadata": {},
     "output_type": "execute_result"
    },
    {
     "data": {
      "image/png": "[encoded data removed]",
      "text/plain": [
       "<Figure size 432x288 with 1 Axes>"
      ]
     },
     "metadata": {
      "needs_background": "light"
     },
     "output_type": "display_data"
    }
   ],
   "source": [
    "tf.config.run_functions_eagerly(True)\n",
    "\n",
    "checkpoint_filepath = './tmp/checkpoint'\n",
    "model_checkpoint_callback = tf.keras.callbacks.ModelCheckpoint(\n",
    "            filepath=checkpoint_filepath,\n",
    "            save_weights_only=True,\n",
    "            monitor='val_loss',\n",
    "            mode='min',\n",
    "            save_best_only=True)\n",
    "\n",
    "def scheduler(epoch, lr):\n",
    "    return 0.000005\n",
    "\n",
    "inputs_train = [x_train]\n",
    "train_labels = y_train\n",
    "\n",
    "inputs_val = [x_val]\n",
    "val_labels = y_val\n",
    "\n",
    "# If we're using the GCN\n",
    "inputs_train.append(adj_matrix)\n",
    "inputs_val.append(adj_matrix)\n",
    "\n",
    "# int(inputs_train.shape[0])\n",
    "\n",
    "history = model.fit(inputs_train, train_labels, batch_size=int(inputs_train[0].shape[0]),\n",
    "                              epochs=100, validation_data=(inputs_val, val_labels),\n",
    "                   callbacks=[model_checkpoint_callback,\n",
    "                             tf.keras.callbacks.LearningRateScheduler(scheduler,\n",
    "                                                                      verbose=0)])\n",
    "\n",
    "model.load_weights(checkpoint_filepath)\n",
    "\n",
    "for h in history.history['val_loss']:\n",
    "    losses.append(h)\n",
    "plt.plot(losses)"
   ]
  },
  {
   "cell_type": "code",
   "execution_count": null,
   "metadata": {},
   "outputs": [],
   "source": [
    "# model.predict([x_train, DMJ.Normalized_Adjacency_Matrix], batch_size=880)\n",
    "model_save = model"
   ]
  },
  {
   "cell_type": "code",
   "execution_count": null,
   "metadata": {},
   "outputs": [],
   "source": []
  },
  {
   "cell_type": "code",
   "execution_count": null,
   "metadata": {},
   "outputs": [],
   "source": [
    "# for h in history.history['val_loss']:\n",
    "#     losses.append(h)\n",
    "# plt.plot(losses)\n",
    "\n",
    "DMJ.Normalized_Adjacency_Matrix.shape"
   ]
  },
  {
   "cell_type": "code",
   "execution_count": 67,
   "metadata": {},
   "outputs": [
    {
     "data": {
      "text/plain": [
       "'None--0Epochs-None-Loss-None-HU-'"
      ]
     },
     "execution_count": 67,
     "metadata": {},
     "output_type": "execute_result"
    }
   ],
   "source": [
    "DMJ.model = model\n",
    "DMJ.model_name = \"3-15-21-1_LSTM_[25,25,20]_100Epoch_881BatchSize_TFMSE_881Dense-X-SquishAdj_TrainableFinalDense\"\n",
    "DMJ.save_model()"
   ]
  },
  {
   "cell_type": "code",
   "execution_count": 68,
   "metadata": {
    "scrolled": true
   },
   "outputs": [
    {
     "name": "stdout",
     "output_type": "stream",
     "text": [
      "\n",
      "Loading Model: '3-15-21-1_LSTM_[25,25,20]_100Epoch_881BatchSize_TFMSE_881Dense-X-SquishAdj_TrainableFinalDense'\n",
      "Total number of days: 308\n",
      "Day 1 | Day 2 | Day 3 | Day 4 | Day 5 | Day 6 | Day 7 | Day 8 | Day 9 | Day 10 | Day 11 | Day 12 | Day 13 | Day 14 | Day 15 | Day 16 | Day 17 | Day 18 | Day 19 | Day 20 | Day 21 | Day 22 | Day 23 | Day 24 | Day 25 | Day 26 | Day 27 | Day 28 | Day 29 | Day 30 | Day 31 | Day 32 | Day 33 | Day 34 | Day 35 | Day 36 | Day 37 | Day 38 | Day 39 | Day 40 | Day 41 | Day 42 | Day 43 | Day 44 | Day 45 | Day 46 | Day 47 | Day 48 | Day 49 | Day 50 | Day 51 | Day 52 | Day 53 | Day 54 | Day 55 | Day 56 | Day 57 | Day 58 | Day 59 | Day 60 | Day 61 | Day 62 | Day 63 | Day 64 | Day 65 | Day 66 | Day 67 | Day 68 | Day 69 | Day 70 | Day 71 | Day 72 | Day 73 | Day 74 | Day 75 | Day 76 | Day 77 | Day 78 | Day 79 | Day 80 | Day 81 | Day 82 | Day 83 | Day 84 | Day 85 | Day 86 | Day 87 | Day 88 | Day 89 | Day 90 | Day 91 | Day 92 | Day 93 | Day 94 | Day 95 | Day 96 | Day 97 | Day 98 | Day 99 | Day 100 | Day 101 | Day 102 | Day 103 | Day 104 | Day 105 | Day 106 | Day 107 | Day 108 | Day 109 | Day 110 | Day 111 | Day 112 | Day 113 | Day 114 | Day 115 | Day 116 | Day 117 | Day 118 | Day 119 | Day 120 | Day 121 | Day 122 | Day 123 | Day 124 | Day 125 | Day 126 | Day 127 | Day 128 | Day 129 | Day 130 | Day 131 | Day 132 | Day 133 | Day 134 | Day 135 | Day 136 | Day 137 | Day 138 | Day 139 | Day 140 | Day 141 | Day 142 | Day 143 | Day 144 | Day 145 | Day 146 | Day 147 | Day 148 | Day 149 | Day 150 | Day 151 | Day 152 | Day 153 | Day 154 | Day 155 | Day 156 | Day 157 | Day 158 | Day 159 | Day 160 | Day 161 | Day 162 | Day 163 | Day 164 | Day 165 | Day 166 | Day 167 | Day 168 | Day 169 | Day 170 | Day 171 | Day 172 | Day 173 | Day 174 | Day 175 | Day 176 | Day 177 | Day 178 | Day 179 | Day 180 | Day 181 | Day 182 | Day 183 | Day 184 | Day 185 | Day 186 | Day 187 | Day 188 | Day 189 | Day 190 | Day 191 | Day 192 | Day 193 | Day 194 | Day 195 | Day 196 | Day 197 | Day 198 | Day 199 | Day 200 | Day 201 | Day 202 | Day 203 | Day 204 | Day 205 | Day 206 | Day 207 | Day 208 | Day 209 | Day 210 | Day 211 | Day 212 | Day 213 | Day 214 | Day 215 | Day 216 | Day 217 | Day 218 | Day 219 | Day 220 | Day 221 | Day 222 | Day 223 | Day 224 | Day 225 | Day 226 | Day 227 | Day 228 | Day 229 | Day 230 | Day 231 | Day 232 | Day 233 | Day 234 | Day 235 | Day 236 | Day 237 | Day 238 | Day 239 | Day 240 | Day 241 | Day 242 | Day 243 | Day 244 | Day 245 | Day 246 | Day 247 | Day 248 | Day 249 | Day 250 | Day 251 | Day 252 | Day 253 | Day 254 | Day 255 | Day 256 | Day 257 | Day 258 | Day 259 | Day 260 | Day 261 | Day 262 | Day 263 | Day 264 | Day 265 | Day 266 | Day 267 | Day 268 | Day 269 | Day 270 | Day 271 | Day 272 | Day 273 | Day 274 | Day 275 | Day 276 | Day 277 | Day 278 | Day 279 | Day 280 | Day 281 | Day 282 | Day 283 | Day 284 | Day 285 | Day 286 | Day 287 | Day 288 | Day 289 | Day 290 | Day 291 | Day 292 | Day 293 | Day 294 | Day 295 | Day 296 | Day 297 | Day 298 | Day 299 | Day 300 | Day 301 | Day 302 | Day 303 | Day 304 | Day 305 | Day 306 | Day 307 | Day 308 | "
     ]
    }
   ],
   "source": [
    "# model_name = \"2-16-21-Seq1LSTM-F-64HU-[800,239,200]split-full_y\"\n",
    "# new_directory = './ignorable_data/prediction_results/[55, 25, 20]_splits/'\n",
    "# GP.generate_validation_prediction_json_SplitBatch_nofeat(model_name, new_directory, x_g, x_val, sliding_window=30)\n",
    "# GP.generate_validation_prediction_json_SplitBatch_close_gap(model_name, new_directory, x_g, x_val, sliding_window=30)\n",
    "model_name = '3-15-21-1_LSTM_[25,25,20]_100Epoch_881BatchSize_TFMSE_881Dense-X-SquishAdj_TrainableFinalDense'\n",
    "model_dir = './ignorable_data/models/[55, 25, 20]_split'\n",
    "# model_dir = 'G:\\Shared drives\\Max Huffman - ECEN 403 404 URS Research 2020 2021\\Datasets\\models'\n",
    "past = x_train\n",
    "future = x_val\n",
    "# new_dir = 'G:\\Shared drives\\Max Huffman - ECEN 403 404 URS Research 2020 2021\\Datasets\\predictions\\pc_version'\n",
    "new_dir = './ignorable_data/prediction_results/[55, 25, 20]_splits/'\n",
    "sliding_window = x_val.shape[1]\n",
    "\n",
    "window = x_train.shape[1]\n",
    "\n",
    "GP.generate_predictions(model_name, model_dir, past, future, new_dir, window, model_type='gcn', batch_size=881)\n",
    "# GP.generate_predictions(model_name, model_dir, past, future, new_dir, window, model_type='lstm', batch_size=880)\n",
    "# GCN_output = GP.return_embeddings(model_name, model_dir, past, future, new_dir, w, model_type='gcn')\n",
    "# embeddings = GP.return_embeddings(model_name, model_dir, past, future, new_dir, window, model_type='gcn')\n",
    "\n",
    "#     model_name = '2-20-21-1_LSTM_[25,25,20]_NoDropout_35Epoch_80BatchSize_IncreasedVariedLR_RRMSE'\n",
    "#     GP.generate_predictions(model_name, model_dir, past, future, new_dir, w)\n",
    "# GP.generate_validation_prediction_json_SplitBatch(model_name, new_dir, x_g, x_val, sliding_window=sliding_window)"
   ]
  },
  {
   "cell_type": "code",
   "execution_count": null,
   "metadata": {},
   "outputs": [],
   "source": [
    "# Given the training set, these are the validation values that are output from the LSTM model\n",
    "print(embeddings.shape)\n",
    "\n",
    "# This is the NAM that we are using to aggregate the embedding results\n",
    "print(DMJ.Normalized_Adjacency_Matrix[6,6])\n",
    "\n",
    "# This should be the aggregated values output from using the NAM (The dimensions look fine)\n",
    "# new_embeddings = tf.einsum('ntd,nm->mtd', embeddings, DMJ.Normalized_Adjacency_Matrix)\n",
    "new_embeddings = tf.einsum('mn,ntd->mtd', DMJ.Normalized_Adjacency_Matrix, embeddings)\n",
    "print(new_embeddings.shape)\n",
    "\n",
    "print(embeddings[0, -7, 0:10])\n",
    "# print(embeddings[0, -1, 0:10])\n",
    "print('  ')\n",
    "print(new_embeddings[0, -7, 0:10])\n",
    "# print(new_embeddings[0, -1, 0:10])\n",
    "\n",
    "# print(tf.subtract(embeddings[0, -2, 0:10], embeddings[0, -1, 0:10]))\n",
    "# print(tf.subtract(new_embeddings[0, -2, 0:10], new_embeddings[0, -1, 0:10]))"
   ]
  },
  {
   "cell_type": "code",
   "execution_count": null,
   "metadata": {},
   "outputs": [],
   "source": [
    "# Above are the output embeddings of the LSTM layer\n",
    "# Below is 1 output prediction for a simple NAM Aggregate added to a pre-trained LSTM\n",
    "GCN_output.shape"
   ]
  },
  {
   "cell_type": "code",
   "execution_count": 69,
   "metadata": {
    "scrolled": true
   },
   "outputs": [],
   "source": [
    "p_file_name = '3-15-21-1_LSTM_[25,25,20]_100Epoch_881BatchSize_TFMSE_881Dense-X-SquishAdj_TrainableFinalDense309win_309past_309fut'\n",
    "p_file_dir = '.\\ignorable_data\\prediction_results\\[55, 25, 20]_splits'\n",
    "# p_file_dir = 'G:\\Shared drives\\Max Huffman - ECEN 403 404 URS Research 2020 2021\\Datasets\\predictions\\pc_version'\n",
    "future = x_val\n",
    "new_dir = './ignorable_data/datablocks/[55, 25, 20]_splits/'\n",
    "close_gap = False\n",
    "\n",
    "use_argmin = False\n",
    "yesterday_pred = False\n",
    "GP.generate_prediction_results(p_file_name, p_file_dir, future, new_dir, close_gap=close_gap, use_argmin=use_argmin, yesterday_pred=yesterday_pred, rr_labels=True)\n",
    "\n",
    "for root, dirs, files in os.walk(r'C:\\Users\\Maxwell\\PycharmProjects\\TAMU-ECEN-403-IFPTSND\\ECEN_403_IFM\\TAMU-ECEN-403-IFPTSND\\ignorable_data\\datablocks\\[55, 25, 20]_splits'):\n",
    "    for filename in files:\n",
    "#         GP.generate_prediction_results(filename, p_file_dir, future, new_dir, close_gap=close_gap, use_argmin=use_argmin, yesterday_pred=yesterday_pred)\n",
    "        GP.add_daily_value_to_datablock(filename, './ignorable_data/datablocks/[55, 25, 20]_splits')\n",
    "        GP.add_daily_value_to_datablock_discontinuous(filename, './ignorable_data/datablocks/[55, 25, 20]_splits')\n",
    "        GP.add_cumulative_return_ratio_discontinuous(filename, './ignorable_data/datablocks/[55, 25, 20]_splits')\n",
    "        None\n",
    "\n",
    "\n",
    "# use_argmin = True\n",
    "# yesterday_pred = False\n",
    "# GP.generate_prediction_results(p_file_name, p_file_dir, future, new_dir, close_gap=close_gap, use_argmin=use_argmin, yesterday_pred=yesterday_pred)\n",
    "# # GP.generate_model_diagnostics_given_sets(p_file_dir + f'/{p_file_name}', future, datablock_folder=new_dir, try_all_pred=False)"
   ]
  },
  {
   "cell_type": "code",
   "execution_count": 74,
   "metadata": {},
   "outputs": [
    {
     "name": "stdout",
     "output_type": "stream",
     "text": [
      "CSWC\n"
     ]
    },
    {
     "data": {
      "image/png": "[encoded data removed]",
      "text/plain": [
       "<Figure size 1440x720 with 1 Axes>"
      ]
     },
     "metadata": {
      "needs_background": "light"
     },
     "output_type": "display_data"
    }
   ],
   "source": [
    "# n = 597\n",
    "# n = 488\n",
    "# n = 161\n",
    "# n = 561\n",
    "# n = 440\n",
    "n = 200\n",
    "# # Argmin\n",
    "# n = 780\n",
    "\n",
    "# n = 876\n",
    "# n = 110\n",
    "r = 1\n",
    "# n = 100\n",
    "# n=0\n",
    "\n",
    "fig, ax = plt.subplots(figsize=(20, 10))\n",
    "# ax.set_ylim([0,1])\n",
    "\n",
    "time = tf.concat([x_train, x_val, x_test], axis=1)\n",
    "\n",
    "# ax = fig.add_subplot()\n",
    "for i in range(r):\n",
    "#     print(f'{i+n*r} ', end='')\n",
    "#     ax.plot(time[i+n*r, :, 0])\n",
    "    ax.plot(x_val[i+n*r, :, 0], label='Closing Price')\n",
    "#     ax.plot(rr_val[i+n*r, :], label='Return Ratio')\n",
    "    \n",
    "    ax.plot(A[:, i+n*r], label='LSTM-1000 ALPHA')\n",
    "    ax.plot(B[:, i+n*r], label='LSTM-1000 ALPHA + 1 Dense')\n",
    "    ax.plot(C[:, i+n*r], label='LSTM-1000 ALPHA + 1NAM')\n",
    "    ax.plot(D[:, i+n*r], label='LSTM-1000 ALPHA + 1NAM + 1 Dense')\n",
    "    ax.plot(E[:, i+n*r], label='LSTM-1000 ALPHA + 881Dense-X-Adj')\n",
    "    ax.plot(F[:, i+n*r], label='LSTM-1000 ALPHA + 881Dense-X-Adj + Trainable Final Layer')\n",
    "\n",
    "    ax.legend()\n",
    "    ax.set_xlabel('Validation Days (Time)')\n",
    "    ax.set_ylabel('Closing Price')\n",
    "    ax.set_title(f'Company {i+n*r}')\n",
    "# Orange\n",
    "# Green\n",
    "# Red\n",
    "# Purple\n",
    "# Brown\n",
    "\n",
    "print(DMJ.entities[n])"
   ]
  },
  {
   "cell_type": "code",
   "execution_count": 70,
   "metadata": {
    "scrolled": false
   },
   "outputs": [
    {
     "name": "stdout",
     "output_type": "stream",
     "text": [
      "Have Predictions\n",
      "Have Predictions\n",
      "Have Predictions\n",
      "Have Predictions\n",
      "Have Predictions\n",
      "Have Predictions\n"
     ]
    }
   ],
   "source": [
    "pred_dir = '.\\ignorable_data\\prediction_results\\[55, 25, 20]_splits/'\n",
    "pred_file = '2-20-21-1_LSTM_[25,25,20]Reloaded_1000ALPHA309win_309past_309fut'\n",
    "GP.graph_model_prediction_given_sets(pred_dir + pred_file, x_val)\n",
    "A = GP.test_obj\n",
    "\n",
    "pred_dir = '.\\ignorable_data\\prediction_results\\[55, 25, 20]_splits/'\n",
    "pred_file = '3-12-21-1_LSTM_[25,25,20]_10Epoch_880BatchSize_TFMSE_Additional_64_Dense_Layer309win_309past_309fut'\n",
    "GP.graph_model_prediction_given_sets(pred_dir + pred_file, x_val)\n",
    "B = GP.test_obj\n",
    "\n",
    "pred_file = '2-20-21-1_LSTM_[25,25,20]_NoDropout_100Epoch_80BatchSize_1000ALPHA_1NAMAGGREGATE309win_309past_309fut'\n",
    "GP.graph_model_prediction_given_sets(pred_dir + pred_file, x_val)\n",
    "C = GP.test_obj\n",
    "\n",
    "pred_file = '2-20-21-1_LSTM_[25,25,20]_NoDropout_100Epoch_80BatchSize_1000ALPHA_1DenseGCN_TFMSE_FullTrain309win_309past_309fut'\n",
    "GP.graph_model_prediction_given_sets(pred_dir + pred_file, x_val)\n",
    "D = GP.test_obj\n",
    "\n",
    "pred_file = '3-15-21-1_LSTM_[25,25,20]_650Epoch_881BatchSize_TFMSE_881Dense-X-SquishAdj309win_309past_309fut'\n",
    "GP.graph_model_prediction_given_sets(pred_dir + pred_file, x_val)\n",
    "E = GP.test_obj\n",
    "\n",
    "pred_file = '3-15-21-1_LSTM_[25,25,20]_100Epoch_881BatchSize_TFMSE_881Dense-X-SquishAdj_TrainableFinalDense309win_309past_309fut'\n",
    "GP.graph_model_prediction_given_sets(pred_dir + pred_file, x_val)\n",
    "F = GP.test_obj\n",
    "\n",
    "# pred_file = '02-17-2021--07--20-1LSTM-F-0ALPHA-[55,25,20]split-[None, 1]-40Epochs-rlf-Loss-64-HU-30win_681past_309fut'\n",
    "# GP.graph_model_prediction_given_sets(pred_dir + pred_file, x_val)\n",
    "# G = GP.test_obj\n",
    "\n",
    "# pred_file = '02-17-2021--07--20-1LSTM-F-0ALPHA-[55,25,20]split-[None, 1]-40Epochs-rlf-Loss-64-HU-60win_681past_309fut'\n",
    "# GP.graph_model_prediction_given_sets(pred_dir + pred_file, x_val)\n",
    "# H = GP.test_obj\n",
    "\n",
    "# pred_file = '02-17-2021--07--20-1LSTM-F-0ALPHA-[55,25,20]split-[None, 1]-40Epochs-rlf-Loss-64-HU-125win_681past_309fut'\n",
    "# GP.graph_model_prediction_given_sets(pred_dir + pred_file, x_val)\n",
    "# I = GP.test_obj\n",
    "\n",
    "# pred_file = '02-17-2021--07--20-1LSTM-F-0ALPHA-[55,25,20]split-[None, 1]-40Epochs-rlf-Loss-64-HU-250win_681past_309fut'\n",
    "# GP.graph_model_prediction_given_sets(pred_dir + pred_file, x_val)\n",
    "# J = GP.test_obj\n",
    "\n",
    "# pred_file = '02-17-2021--07--20-1LSTM-F-0ALPHA-[55,25,20]split-[None, 1]-40Epochs-rlf-Loss-64-HU-500win_681past_309fut'\n",
    "# GP.graph_model_prediction_given_sets(pred_dir + pred_file, x_val)\n",
    "# K = GP.test_obj"
   ]
  },
  {
   "cell_type": "code",
   "execution_count": null,
   "metadata": {},
   "outputs": [],
   "source": [
    "GP.compare_data_blocks('.\\ignorable_data\\datablocks\\[55, 25, 20]_splits')"
   ]
  },
  {
   "cell_type": "code",
   "execution_count": null,
   "metadata": {},
   "outputs": [],
   "source": []
  },
  {
   "cell_type": "code",
   "execution_count": null,
   "metadata": {},
   "outputs": [],
   "source": [
    "\n"
   ]
  },
  {
   "cell_type": "code",
   "execution_count": null,
   "metadata": {
    "scrolled": true
   },
   "outputs": [],
   "source": [
    "# # pred_dir = r\"G:\\Shared drives\\Max Huffman - ECEN 403 404 URS Research 2020 2021\\Datasets\\predictions/\"\n",
    "# pred_dir = r\".\\ignorable_data\\prediction_results\\[55, 25, 20]_splits/\"\n",
    "# pred_file = '3-11-21-1_LSTM_[25,25,20]_60Epoch_40BatchSize_100ALPHA_RR_Labels309win_309past_309fut_220predBatch'\n",
    "# GP.generate_model_diagnostics(pred_dir + pred_file, datablock_folder='./ignorable_data/datablocks/', rr_labels=True)\n",
    "# # GP.generate_model_diagnostics_given_sets_close_gap(pred_dir + pred_file, x_val, datablock_folder='./ignorable_data/datablocks/', try_all_pred=False)"
   ]
  },
  {
   "cell_type": "code",
   "execution_count": null,
   "metadata": {},
   "outputs": [],
   "source": []
  },
  {
   "cell_type": "code",
   "execution_count": null,
   "metadata": {},
   "outputs": [],
   "source": [
    "import json\n",
    "# Let's look at our relations_file real quick\n",
    "with open('./ignorable_data/data_sets/NASDAQ_Cleaned - Contains ZUMZ/updated_relations.json') as read_file:\n",
    "    relations_dict = json.load(read_file)"
   ]
  },
  {
   "cell_type": "code",
   "execution_count": 120,
   "metadata": {},
   "outputs": [],
   "source": [
    "# The degree vector of Adj\n",
    "degree = np.sum(Adj, axis=0)\n",
    "\n",
    "# Inverse degree vector\n",
    "inv = lambda x: x**-1\n",
    "inv_degree = inv(degree)\n",
    "\n",
    "# Convert into an inverse diagonal matrix\n",
    "diag_inv_degree = np.diag(inv_degree)\n",
    "\n",
    "# Create the negative square root version\n",
    "inv_sqrt_degree = np.sqrt(inv_degree)\n",
    "\n",
    "diag_inv_sqrt_degree = np.diag(inv_sqrt_degree)"
   ]
  },
  {
   "cell_type": "code",
   "execution_count": 121,
   "metadata": {},
   "outputs": [
    {
     "name": "stdout",
     "output_type": "stream",
     "text": [
      "881.0\n"
     ]
    }
   ],
   "source": [
    "# Symetric normalization yields the correct output\n",
    "print(np.sum(np.dot(np.dot(inv_sqrt_degree, Adj), inv_sqrt_degree)))"
   ]
  },
  {
   "cell_type": "code",
   "execution_count": 122,
   "metadata": {},
   "outputs": [
    {
     "name": "stdout",
     "output_type": "stream",
     "text": [
      "879.125\n"
     ]
    }
   ],
   "source": [
    "# The last company, ZUMF was truncated in this example, so this value makes sense.\n",
    "print(np.sum(DMJ.Normalized_Adjacency_Matrix))"
   ]
  },
  {
   "cell_type": "code",
   "execution_count": 123,
   "metadata": {},
   "outputs": [
    {
     "name": "stdout",
     "output_type": "stream",
     "text": [
      "881.0\n"
     ]
    }
   ],
   "source": [
    "# Standard normalization yields the correct output\n",
    "print(np.sum(np.dot(diag_inv_degree, Adj)))"
   ]
  },
  {
   "cell_type": "code",
   "execution_count": null,
   "metadata": {},
   "outputs": [],
   "source": []
  }
 ],
 "metadata": {
  "kernelspec": {
   "display_name": "Python 3",
   "language": "python",
   "name": "python3"
  },
  "language_info": {
   "codemirror_mode": {
    "name": "ipython",
    "version": 3
   },
   "file_extension": ".py",
   "mimetype": "text/x-python",
   "name": "python",
   "nbconvert_exporter": "python",
   "pygments_lexer": "ipython3",
   "version": "3.8.5"
  },
  "pycharm": {
   "stem_cell": {
    "cell_type": "raw",
    "metadata": {
     "collapsed": false
    },
    "source": []
   }
  }
 },
 "nbformat": 4,
 "nbformat_minor": 4
}
